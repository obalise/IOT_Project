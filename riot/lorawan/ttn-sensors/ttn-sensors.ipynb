{
 "cells": [
  {
   "cell_type": "markdown",
   "metadata": {},
   "source": [
    "# METHODE 1\n",
    "## Avec une seule carte en utilisant les commandes \"classiques\""
   ]
  },
  {
   "cell_type": "code",
   "execution_count": 12,
   "metadata": {},
   "outputs": [
    {
     "name": "stdout",
     "output_type": "stream",
     "text": [
      "\u001b[1;32mBuilding application \"ttn-sensors\" for \"b-l072z-lrwan1\" with MCU \"stm32\".\u001b[0m\n",
      "\n",
      "\"make\" -C /home/jovyan/work/training/riot/RIOT/pkg/semtech-loramac\n",
      "\"make\" -C /home/jovyan/work/training/riot/RIOT/build/pkg/semtech-loramac/src/boards/mcu -f /home/jovyan/work/training/riot/RIOT/pkg/semtech-loramac/Makefile.loramac_arch\n",
      "\"make\" -C /home/jovyan/work/training/riot/RIOT/build/pkg/semtech-loramac/src/system/crypto -f /home/jovyan/work/training/riot/RIOT/pkg/semtech-loramac/Makefile.loramac_crypto\n",
      "\"make\" -C /home/jovyan/work/training/riot/RIOT/build/pkg/semtech-loramac/src/mac -f /home/jovyan/work/training/riot/RIOT/pkg/semtech-loramac/Makefile.loramac_mac\n",
      "\"make\" -C /home/jovyan/work/training/riot/RIOT/build/pkg/semtech-loramac/src/mac/region -f /home/jovyan/work/training/riot/RIOT/pkg/semtech-loramac/Makefile.loramac_region\n",
      "\"make\" -C /home/jovyan/work/training/riot/RIOT/boards/b-l072z-lrwan1\n",
      "\"make\" -C /home/jovyan/work/training/riot/RIOT/core\n",
      "\"make\" -C /home/jovyan/work/training/riot/RIOT/cpu/stm32\n",
      "\"make\" -C /home/jovyan/work/training/riot/RIOT/cpu/cortexm_common\n",
      "\"make\" -C /home/jovyan/work/training/riot/RIOT/cpu/cortexm_common/periph\n",
      "\"make\" -C /home/jovyan/work/training/riot/RIOT/cpu/stm32/periph\n",
      "\"make\" -C /home/jovyan/work/training/riot/RIOT/cpu/stm32/stmclk\n",
      "\"make\" -C /home/jovyan/work/training/riot/RIOT/cpu/stm32/vectors\n",
      "\"make\" -C /home/jovyan/work/training/riot/RIOT/drivers\n",
      "\"make\" -C /home/jovyan/work/training/riot/RIOT/drivers/lpsxxx\n",
      "\"make\" -C /home/jovyan/work/training/riot/RIOT/drivers/periph_common\n",
      "\"make\" -C /home/jovyan/work/training/riot/RIOT/drivers/sx127x\n",
      "\"make\" -C /home/jovyan/work/training/riot/RIOT/pkg/semtech-loramac/contrib\n",
      "\"make\" -C /home/jovyan/work/training/riot/RIOT/sys\n",
      "\"make\" -C /home/jovyan/work/training/riot/RIOT/sys/auto_init\n",
      "\"make\" -C /home/jovyan/work/training/riot/RIOT/sys/crypto\n",
      "\"make\" -C /home/jovyan/work/training/riot/RIOT/sys/frac\n",
      "\"make\" -C /home/jovyan/work/training/riot/RIOT/sys/hashes\n",
      "\"make\" -C /home/jovyan/work/training/riot/RIOT/sys/iolist\n",
      "\"make\" -C /home/jovyan/work/training/riot/RIOT/sys/luid\n",
      "\"make\" -C /home/jovyan/work/training/riot/RIOT/sys/malloc_thread_safe\n",
      "\"make\" -C /home/jovyan/work/training/riot/RIOT/sys/newlib_syscalls_default\n",
      "\"make\" -C /home/jovyan/work/training/riot/RIOT/sys/pm_layered\n",
      "\"make\" -C /home/jovyan/work/training/riot/RIOT/sys/random\n",
      "\"make\" -C /home/jovyan/work/training/riot/RIOT/sys/stdio_uart\n",
      "\"make\" -C /home/jovyan/work/training/riot/RIOT/sys/ztimer\n",
      "   text\t   data\t    bss\t    dec\t    hex\tfilename\n",
      "  49484\t    228\t   6796\t  56508\t   dcbc\t/home/jovyan/work/training/riot/lorawan/ttn-sensors/bin/b-l072z-lrwan1/ttn-sensors.elf\n"
     ]
    }
   ],
   "source": [
    "!make"
   ]
  },
  {
   "cell_type": "code",
   "execution_count": 8,
   "metadata": {},
   "outputs": [
    {
     "name": "stdout",
     "output_type": "stream",
     "text": [
      "{\n",
      "    \"id\": 306674\n",
      "}\n"
     ]
    }
   ],
   "source": [
    "!iotlab-experiment submit -n \"ttn-sensors\" -d 120 -l 1,archi=st-lrwan1:sx1276+site=saclay"
   ]
  },
  {
   "cell_type": "code",
   "execution_count": 9,
   "metadata": {},
   "outputs": [
    {
     "name": "stdout",
     "output_type": "stream",
     "text": [
      "Waiting that experiment 306674 gets in state Running\n",
      "\"Running\"\n"
     ]
    }
   ],
   "source": [
    "!iotlab-experiment wait --timeout 30 --cancel-on-timeout"
   ]
  },
  {
   "cell_type": "raw",
   "metadata": {},
   "source": [
    "make IOTLAB_NODE=auto -C riot/lorawan/ttn-sensors term"
   ]
  },
  {
   "cell_type": "code",
   "execution_count": 10,
   "metadata": {},
   "outputs": [],
   "source": [
    "!make IOTLAB_NODE=auto flash-only"
   ]
  },
  {
   "cell_type": "code",
   "execution_count": 11,
   "metadata": {},
   "outputs": [],
   "source": [
    "!iotlab-experiment stop"
   ]
  },
  {
   "cell_type": "markdown",
   "metadata": {},
   "source": [
    "# METHODE 2\n",
    "## Pour utiliser plusieurs cartes sur différents sites"
   ]
  },
  {
   "cell_type": "code",
   "execution_count": 11,
   "metadata": {},
   "outputs": [],
   "source": [
    "!make"
   ]
  },
  {
   "cell_type": "code",
   "execution_count": 11,
   "metadata": {},
   "outputs": [],
   "source": [
    "# Code pour lancer deux cartes sur le site de Saclay et deux cartes sur le site de Lille\n",
    "# Malheureusement les cartes de Lille n'ont pas de capteur de température donc rien n'est remonté\n",
    "# Tout remonte sur une seule device TTN\n",
    "\n",
    "import time\n",
    "import os\n",
    "number_exeperience = 2\n",
    "number_exeperience = number_exeperience*2\n",
    "id_experience = []\n",
    "i = 0\n",
    "\n",
    "status = []\n",
    "while(1):\n",
    "    if (i % 2) == 0:\n",
    "        id_experience = !iotlab-experiment submit -n \"Saclay\" -d 120 -l 2,archi=st-lrwan1:sx1276+site=saclay\n",
    "    else:\n",
    "        id_experience = !iotlab-experiment submit -n \"Lille\" -d 120 -l 2,archi=st-lrwan1:sx1276+site=lille\n",
    "    print(\"wait\")\n",
    "    status = !iotlab-experiment wait --timeout 30 --cancel-on-timeout\n",
    "    time.sleep(30)\n",
    "    !iotlab-experiment --jmespath=\"items[*].network_address | sort(@)\" get --nodes\n",
    "    print(\"etape1\")\n",
    "    time.sleep(5)\n",
    "    print(\"etape2\")\n",
    "    !make BOARD=b-l072z-lrwan1 IOTLAB_NODES=2 -C ../ttn-sensors iotlab-flash\n",
    "    time.sleep(30)\n",
    "    print(\"etape3\")\n",
    "    !iotlab-experiment stop\n",
    "    time.sleep(30)\n",
    "    i = i + 1\n",
    "    if i>number_exeperience:\n",
    "        break"
   ]
  },
  {
   "cell_type": "markdown",
   "metadata": {},
   "source": [
    "# METHODE 3\n",
    "## En utilisant le testbed en ligne Fit-Iot Lab\n",
    "\n",
    "Lancer une expérience à Saclay avec deux nodes \"st-lrwan\".\n",
    "Sur une carte flasher avec ttn-sensors.elf, sur l'autre avec ttn-sensors-bis.elf.\n",
    "\n",
    "Cela permet de se connecter sur deux devices différents sur TTN. \n",
    "\n",
    "Faire un reset de la carte jusqu'à être connecté."
   ]
  },
  {
   "cell_type": "code",
   "execution_count": null,
   "metadata": {},
   "outputs": [],
   "source": []
  }
 ],
 "metadata": {
  "kernelspec": {
   "display_name": "Python 3 (ipykernel)",
   "language": "python",
   "name": "python3"
  },
  "language_info": {
   "codemirror_mode": {
    "name": "ipython",
    "version": 3
   },
   "file_extension": ".py",
   "mimetype": "text/x-python",
   "name": "python",
   "nbconvert_exporter": "python",
   "pygments_lexer": "ipython3",
   "version": "3.9.7"
  }
 },
 "nbformat": 4,
 "nbformat_minor": 4
}
