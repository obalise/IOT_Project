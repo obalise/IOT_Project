{
 "cells": [
  {
   "cell_type": "markdown",
   "metadata": {},
   "source": [
    "## Radio monitoring\n",
    "\n",
    "Radio monitoring is an optional feature which measures the radio signal power (RSSI) or can be used as radio packet sniffer for IEEE 802.15.4. It refers to the Control Node dedicated hardware installed on the IoT-LAB node to enable the monitoring. You will learn how to create a Profile monitoring configuration and enable it for your experiment. Moreover you will figure out how to get and analyse the monitoring data.\n",
    "    "
   ]
  },
  {
   "cell_type": "markdown",
   "metadata": {},
   "source": [
    "### Launch an experiment\n",
    "\n",
    "1. Choose your site (grenoble|lille|strasbourg):"
   ]
  },
  {
   "cell_type": "code",
   "execution_count": null,
   "metadata": {},
   "outputs": [],
   "source": [
    "%env SITE=grenoble"
   ]
  },
  {
   "cell_type": "markdown",
   "metadata": {},
   "source": [
    "2. Submit an experiment with two nodes and a prebuilt tutorial firmware "
   ]
  },
  {
   "cell_type": "code",
   "execution_count": null,
   "metadata": {},
   "outputs": [],
   "source": [
    "!iotlab-experiment submit -n \"radio-rssi\" -d 120 -l 2,archi=m3:at86rf231+site=$SITE,tutorial_m3.elf"
   ]
  },
  {
   "cell_type": "markdown",
   "metadata": {},
   "source": [
    "3. Wait for the experiment to be in the Running state:"
   ]
  },
  {
   "cell_type": "code",
   "execution_count": null,
   "metadata": {},
   "outputs": [],
   "source": [
    "!iotlab-experiment wait --timeout 30 --cancel-on-timeout"
   ]
  },
  {
   "cell_type": "markdown",
   "metadata": {},
   "source": [
    "**Note:** If the command above returns the message `Timeout reached, cancelling experiment <exp_id>`, try to re-submit your experiment later or try on another site.\n",
    "\n",
    "4. Check the nodes allocated to the experiment"
   ]
  },
  {
   "cell_type": "code",
   "execution_count": null,
   "metadata": {},
   "outputs": [],
   "source": [
    "!iotlab-experiment --jmespath=\"items[*].network_address | sort(@)\" get --nodes"
   ]
  },
  {
   "cell_type": "markdown",
   "metadata": {},
   "source": [
    "### Monitoring profile\n",
    "\n",
    "You must create a monitoring profile with the following configuration\n",
    "\n",
    "* Monitor radio: RSSI mode.\n",
    "* Channel 11 (used by the prebuilt firmware) and 14 (unused channel)\n",
    "* Period = 1 ms (duration of one measure for a channel)\n",
    "* Number of measure by channel = 1 (the number of times of measurements per channel)"
   ]
  },
  {
   "cell_type": "code",
   "execution_count": null,
   "metadata": {},
   "outputs": [],
   "source": [
    "!iotlab-profile addm3 -n radio_rssi -rssi -channels 11 14 -rperiod 1 -num 1"
   ]
  },
  {
   "cell_type": "markdown",
   "metadata": {},
   "source": [
    "Apply this monitoring configuration to your nodes"
   ]
  },
  {
   "cell_type": "code",
   "execution_count": null,
   "metadata": {},
   "outputs": [],
   "source": [
    "!iotlab-node --update-profile radio_rssi"
   ]
  },
  {
   "cell_type": "markdown",
   "metadata": {},
   "source": [
    "At this stage use `File > New > Terminal` and connect to the IoT-LAB SSH frontend to have access of the node's serial link. You must replace ``<site>`` with the good value."
   ]
  },
  {
   "cell_type": "raw",
   "metadata": {},
   "source": [
    "ssh $IOTLAB_LOGIN@<site>.iot-lab.info"
   ]
  },
  {
   "cell_type": "markdown",
   "metadata": {},
   "source": [
    "From the SSH frontend launch the serial_aggregator command and choose one node (``m3-<id1>`` below) to send five big radio packets (with the firmware shell) and visualize the good reception on the other one. You must replace ``<id1>`` with the good value."
   ]
  },
  {
   "cell_type": "raw",
   "metadata": {},
   "source": [
    "<login>@<site>:~$ serial_aggregator\n",
    "...\n",
    "# Hit \"Space+Enter\" to stop the flood.\n",
    "m3-<id1>;b # send one big radio packet from the node m3-<id1>. Hit \"Enter\" to execute the command\n",
    "1578307588.006162;m3-13;cmd >\n",
    "1578307588.006417;m3-13;radio > Big packet sent\n",
    "1578307588.006543;m3-13;\n",
    "1578307588.009438;m3-14;cmd >\n",
    "1578307588.011165;m3-14;radio > Got packet from a569 (m3-13). Len: 60 Rssi: -56: 'Big Hello World!: 0 012345678901234567890123456789012345678'\n",
    "1578307588.011331;m3-14;\n",
    "m3-<id1>;b\n",
    "1578307594.166009;m3-13;cmd >\n",
    "1578307594.166634;m3-13;radio > Big packet sent\n",
    "1578307594.166832;m3-13;\n",
    "1578307594.169027;m3-14;cmd >\n",
    "1578307594.171689;m3-14;radio > Got packet from a569 (m3-13). Len: 60 Rssi: -56: 'Big Hello World!: 1 012345678901234567890123456789012345678'\n",
    "1578307594.171928;m3-14;\n",
    "# Continue and send five packets in total\n",
    "....\n",
    "# Ctrl^C to exit"
   ]
  },
  {
   "cell_type": "markdown",
   "metadata": {},
   "source": [
    "### Analyse monitoring data\n",
    "\n",
    "The monitoring data is stored on the SSH frontend server in your home directory. You can find it in the `~/.iot-lab/<exp_id>/consumption/` directory. We use the OML measurement library and you can find a file ``m3_<id>.oml`` for each monitored nodes. Don’t worry if you have empty files, OML library performs caching.\n",
    "\n",
    "**You have to wait a little and manually stop the experiment to flush the cache.**"
   ]
  },
  {
   "cell_type": "code",
   "execution_count": null,
   "metadata": {},
   "outputs": [],
   "source": [
    "!iotlab-experiment stop"
   ]
  },
  {
   "cell_type": "markdown",
   "metadata": {},
   "source": [
    "Retrieve an OML file (scp copy from frontend SSH server to local). Replace `<id>` with the identifier of one the nodes in the previous experiment (`.iot-lab/last` is a symlink to your last experiment directory `.iot-lab/<exp_id>`):"
   ]
  },
  {
   "cell_type": "code",
   "execution_count": null,
   "metadata": {},
   "outputs": [],
   "source": [
    "%env NODE_ID=<id>\n",
    "!scp -o StrictHostKeyChecking=no $IOTLAB_LOGIN@$SITE.iot-lab.info:~/.iot-lab/last/radio/m3_$NODE_ID.oml radio.oml"
   ]
  },
  {
   "cell_type": "markdown",
   "metadata": {},
   "source": [
    "View the monitoring OML file content:"
   ]
  },
  {
   "cell_type": "code",
   "execution_count": null,
   "metadata": {},
   "outputs": [],
   "source": [
    "!head -n 20 radio.oml"
   ]
  },
  {
   "cell_type": "markdown",
   "metadata": {},
   "source": [
    "RSSI stands for Received Signal Strength Indication. It is the relative received signal strength in a wireless environment. In IoT-LAB, measured RSSI values provide an indication of the radio power level received by the antenna of the Control Node hardware. The RSSI value is expressed in dBm (Decibel-milliwatts), and represents the power ratio in decibels (dB) of the measured power referenced to one milliwatt (mW). A power level of 0 dBm corresponds to 1mW.\n",
    "\n",
    "We provide an OML plotting tool which helps you to analyse monitoring data.\n"
   ]
  },
  {
   "cell_type": "code",
   "execution_count": null,
   "metadata": {},
   "outputs": [],
   "source": [
    "%matplotlib widget\n",
    "from oml_plot_tools import radio\n",
    "data = radio.oml_load('radio.oml')\n",
    "data = data[0:-1]\n",
    "radio.radio_plot(data, 'radio rssi', ('joined'))"
   ]
  },
  {
   "cell_type": "markdown",
   "metadata": {},
   "source": [
    "Check that you observe the peaks in the measured RSSI that happen when sending the big packets on channel 11. Check that you observe only noise on channel 14. Depending on the radio environnement perturbations, you should measure a RSSI near -91 dBm with relative noise."
   ]
  }
 ],
 "metadata": {
  "kernelspec": {
   "display_name": "Python 3",
   "language": "python",
   "name": "python3"
  },
  "language_info": {
   "codemirror_mode": {
    "name": "ipython",
    "version": 3
   },
   "file_extension": ".py",
   "mimetype": "text/x-python",
   "name": "python",
   "nbconvert_exporter": "python",
   "pygments_lexer": "ipython3",
   "version": "3.8.6"
  }
 },
 "nbformat": 4,
 "nbformat_minor": 4
}
