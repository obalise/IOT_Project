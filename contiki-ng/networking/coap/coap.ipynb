{
 "cells": [
  {
   "cell_type": "markdown",
   "metadata": {},
   "source": [
    "## Discover CoAP\n",
    "\n",
    "In this excercice you will run a CoAP application on a IoT-LAB M3 node and send requests to a CoAP server, from the frontend server, through a private IPv6 network. Moreover you will learn how to add a CoAP resource to get the accelerometer sensor (i.e. LSM303DLHC hardware) values."
   ]
  },
  {
   "cell_type": "markdown",
   "metadata": {},
   "source": [
    "### Compile the Contiki-NG firmwares\n",
    "\n",
    "#### IoT-LAB platform support\n",
    "\n",
    "Since IoT-LAB boards support is not included in the Contiki-NG official repository, set a `ARCH_PATH` environment variable that points to the additionnal platform support:"
   ]
  },
  {
   "cell_type": "code",
   "execution_count": null,
   "metadata": {},
   "outputs": [],
   "source": [
    "%env ARCH_PATH = /home/user/iot-lab-training/contiki-ng/iot-lab-contiki-ng/arch"
   ]
  },
  {
   "cell_type": "markdown",
   "metadata": {},
   "source": [
    "#### Radio settings\n",
    "\n",
    "If you are running this training as the same time as other people, it is a good idea to change the default radio configuration to avoid too much collision with others.\n",
    "\n",
    "Use the following cell to give you random values for channel and PAN ID."
   ]
  },
  {
   "cell_type": "code",
   "execution_count": null,
   "metadata": {},
   "outputs": [],
   "source": [
    "import os,binascii,random\n",
    "pan_id = binascii.b2a_hex(os.urandom(2)).decode()\n",
    "channel = random.randint(11, 26)\n",
    "print('Use CHANNEL={}, PAN_ID={}'.format(channel, pan_id))"
   ]
  },
  {
   "cell_type": "markdown",
   "metadata": {},
   "source": [
    "Change default values below before running the cell."
   ]
  },
  {
   "cell_type": "code",
   "execution_count": null,
   "metadata": {},
   "outputs": [],
   "source": [
    "%env RADIO = IEEE802154_CONF_PANID=0xBEEF,IEEE802154_CONF_DEFAULT_CHANNEL=11"
   ]
  },
  {
   "cell_type": "markdown",
   "metadata": {},
   "source": [
    "#### CoAP Server\n",
    "\n",
    "We modified a bit the `coap-example-server`. Compile the local example."
   ]
  },
  {
   "cell_type": "code",
   "execution_count": null,
   "metadata": {},
   "outputs": [],
   "source": [
    "!make -C coap-example-server TARGET=iotlab BOARD=m3 DEFINES=$RADIO"
   ]
  },
  {
   "cell_type": "markdown",
   "metadata": {},
   "source": [
    "#### Border Router\n",
    "\n",
    "Use the `rpl-border-router` example, to be used by one node as border router, and enabe communication with all nodes from the frontend server."
   ]
  },
  {
   "cell_type": "code",
   "execution_count": null,
   "metadata": {},
   "outputs": [],
   "source": [
    "%env APP_DIR = ../../iot-lab-contiki-ng/contiki-ng/examples/rpl-border-router\n",
    "!make -C $APP_DIR TARGET=iotlab BOARD=m3 DEFINES=$RADIO"
   ]
  },
  {
   "cell_type": "markdown",
   "metadata": {},
   "source": [
    "### Launch an experiment\n",
    "\n",
    "1. Choose your site (grenoble|lille|saclay|strasbourg|...):"
   ]
  },
  {
   "cell_type": "code",
   "execution_count": null,
   "metadata": {},
   "outputs": [],
   "source": [
    "%env SITE = lille"
   ]
  },
  {
   "cell_type": "markdown",
   "metadata": {},
   "source": [
    "2. Submit an experiment with two M3 nodes:"
   ]
  },
  {
   "cell_type": "code",
   "execution_count": null,
   "metadata": {},
   "outputs": [],
   "source": [
    "!iotlab-experiment submit -d 120 -l 2,archi=m3:at86rf231+site=$SITE"
   ]
  },
  {
   "cell_type": "markdown",
   "metadata": {},
   "source": [
    "3. Wait for the experiment to be in the Running state:"
   ]
  },
  {
   "cell_type": "code",
   "execution_count": null,
   "metadata": {},
   "outputs": [],
   "source": [
    "!iotlab-experiment wait --timeout 30 --cancel-on-timeout"
   ]
  },
  {
   "cell_type": "markdown",
   "metadata": {},
   "source": [
    "**Note:** If the command above returns the message `Timeout reached, cancelling experiment <exp_id>`, try to re-submit your experiment later or try on another site."
   ]
  },
  {
   "cell_type": "markdown",
   "metadata": {},
   "source": [
    "4. Check the resources allocated to the experiment:"
   ]
  },
  {
   "cell_type": "code",
   "execution_count": null,
   "metadata": {},
   "outputs": [],
   "source": [
    "!iotlab-experiment get -ni"
   ]
  },
  {
   "cell_type": "markdown",
   "metadata": {},
   "source": [
    "And assign IDs to environment variables:"
   ]
  },
  {
   "cell_type": "code",
   "execution_count": null,
   "metadata": {},
   "outputs": [],
   "source": [
    "%env ID1 = <id1>\n",
    "%env ID2 = <id2>"
   ]
  },
  {
   "cell_type": "markdown",
   "metadata": {},
   "source": [
    "5. Flash the first node as border router:"
   ]
  },
  {
   "cell_type": "code",
   "execution_count": null,
   "metadata": {},
   "outputs": [],
   "source": [
    "!iotlab-node --update $APP_DIR/border-router.iotlab -l $SITE,m3,$ID1"
   ]
  },
  {
   "cell_type": "markdown",
   "metadata": {},
   "source": [
    "6. Flash the second node as CoAP server:"
   ]
  },
  {
   "cell_type": "code",
   "execution_count": null,
   "metadata": {},
   "outputs": [],
   "source": [
    "!iotlab-node --update coap-example-server/coap-example-server.iotlab -l $SITE,m3,$ID2"
   ]
  },
  {
   "cell_type": "markdown",
   "metadata": {},
   "source": [
    "### Set your private IPv6 network\n",
    "\n",
    "Open a Jupyter terminal (use `File > New > Terminal`) and connect to the SSH frontend server. Replace `<site>` by the good value."
   ]
  },
  {
   "cell_type": "raw",
   "metadata": {},
   "source": [
    "ssh $IOTLAB_LOGIN@<site>.iot-lab.info"
   ]
  },
  {
   "cell_type": "markdown",
   "metadata": {},
   "source": [
    "From the frontend SSH launch the following command to create the tunslip interface like in the IPv6 training:"
   ]
  },
  {
   "cell_type": "raw",
   "metadata": {},
   "source": [
    "<login>@<site>:~$ sudo tunslip6.py -v2 -L -a m3-<id1> -p 20000 fd00::1/64"
   ]
  },
  {
   "cell_type": "markdown",
   "metadata": {},
   "source": [
    "You will see in the output the IP address of the border router (_fd00::xxxx_).\n",
    "\n",
    "Open a Jupyter terminal (use `File > New > Terminal`) and from the frontend server again, get the routes page of the border router's web server to know the IP address of the CoAP server (_Routing links_):"
   ]
  },
  {
   "cell_type": "raw",
   "metadata": {},
   "source": [
    "ssh $IOTLAB_LOGIN@<site>.iot-lab.info"
   ]
  },
  {
   "cell_type": "raw",
   "metadata": {},
   "source": [
    "<login>@<site>:~$ lynx --dump http://[fd00::xxxx]"
   ]
  },
  {
   "cell_type": "markdown",
   "metadata": {},
   "source": [
    "### CoAP requests\n",
    "\n",
    "You now have a connection between the frontend server and your node running the CoAP server firmware. Let's use the [aiocoap](https://aiocoap.readthedocs.io/en/latest/index.html) client from there to call server URIs."
   ]
  },
  {
   "cell_type": "markdown",
   "metadata": {},
   "source": [
    "#### Discover resources\n",
    "\n",
    "First you need to know which ressources are avalaible. For that purpose the standard `/.well-known/core` URI is present."
   ]
  },
  {
   "cell_type": "raw",
   "metadata": {},
   "source": [
    "aiocoap-client coap://[fd00::yyyy]/.well-known/core"
   ]
  },
  {
   "cell_type": "markdown",
   "metadata": {},
   "source": [
    "You should see a list with the following resources:\n",
    "- /test/hello\n",
    "- /debug/mirror\n",
    "- /test/chunks\n",
    "- /test/separate\n",
    "- /test/push\n",
    "- /test/sub\n",
    "- /test/b1sepb2\n",
    "- /actuators/toggle\n",
    "- /sensors/light"
   ]
  },
  {
   "cell_type": "markdown",
   "metadata": {},
   "source": [
    "#### GET Request\n",
    "\n",
    "The more standard use is to call a sensor ressource with a GET method (used by default by the client)."
   ]
  },
  {
   "cell_type": "raw",
   "metadata": {},
   "source": [
    "<login>@<site>:~$ aiocoap-client coap://[fd00::yyyy]/sensors/light"
   ]
  },
  {
   "cell_type": "markdown",
   "metadata": {},
   "source": [
    "Another ressource is available to test the GET method. For this one you can specify a paramater thanks to a query string. Test different values, and have a look to the `coap-example-server/resources/res-hello.c` to understand what's going on."
   ]
  },
  {
   "cell_type": "raw",
   "metadata": {},
   "source": [
    "<login>@<site>:~$ aiocoap-client coap://[fd00::yyyy]/test/hello\n",
    "<login>@<site>:~$ aiocoap-client coap://[fd00::yyyy]/test/hello?len=5\n",
    "<login>@<site>:~$ aiocoap-client coap://[fd00::yyyy]/test/hello?len=24"
   ]
  },
  {
   "cell_type": "markdown",
   "metadata": {},
   "source": [
    "#### Observe\n",
    "\n",
    "An interesting feature of CoAP is resource observation. You do not need to send a GET request periodically to have an up-to-date value, but send only once a GET request with the 'observe' option. Thus you are registered as an 'observer' for this resource, and the CoAP server will notify you periodically or at each time the value changes significantly. In this example, the server send a new value at a period of 5 seconds."
   ]
  },
  {
   "cell_type": "raw",
   "metadata": {},
   "source": [
    "<login>@<site>:~$ aiocoap-client coap://[fd00::yyyy]/test/push --observe"
   ]
  },
  {
   "cell_type": "markdown",
   "metadata": {},
   "source": [
    "### Add CoAP resource\n",
    "\n",
    "In this excercice you will add a CoAP resource to get the accelerometer sensor values.\n",
    "\n",
    "1. Edit the file `coap-example-server/coap-example-server.c` and  declare the accelerometer resource\n",
    "\n",
    "```c\n",
    "#if PLATFORM_HAS_ACCELEROMETER\n",
    "#include \"dev/acc-mag-sensor.h\"\n",
    "extern coap_resource_t res_accel;\n",
    "#endif\n",
    "```\n",
    "\n",
    "2. Activate the resource\n",
    "\n",
    "```c\n",
    "#if PLATFORM_HAS_ACCELEROMETER\n",
    "  coap_activate_resource(&res_accel, \"sensors/accel\");\n",
    "  SENSORS_ACTIVATE(acc_sensor);\n",
    "#endif\n",
    "```\n",
    "\n",
    "3. Edit the file `coap-example-server/resources/res-accel.c` and implement the resource\n",
    "\n",
    "```c\n",
    "#include \"contiki.h\"\n",
    "\n",
    "#if PLATFORM_HAS_ACCELEROMETER\n",
    "\n",
    "#include <stdio.h>\n",
    "#include <string.h>\n",
    "#include \"coap-engine.h\"\n",
    "#include \"dev/acc-mag-sensor.h\"\n",
    "\n",
    "static void res_get_handler(coap_message_t *request, coap_message_t *response, uint8_t *buffer, uint16_t preferred_size, int32_t *offset);\n",
    "\n",
    "/* A simple getter example. Returns the reading from accelerometer sensor */\n",
    "RESOURCE(res_accel,\n",
    "         \"title=\\\"Three axis accelerometer (supports JSON)\\\";rt=\\\"AccelerometerSensor\\\"\",\n",
    "         res_get_handler,\n",
    "         NULL,\n",
    "         NULL,\n",
    "         NULL);\n",
    "\n",
    "static void\n",
    "res_get_handler(coap_message_t *request, coap_message_t *response, uint8_t *buffer, uint16_t preferred_size, int32_t *offset)\n",
    "{\n",
    "  int x = acc_sensor.value(ACC_MAG_SENSOR_X);\n",
    "  int y = acc_sensor.value(ACC_MAG_SENSOR_Y);\n",
    "  int z = acc_sensor.value(ACC_MAG_SENSOR_Z);\n",
    "  unsigned int accept = -1;\n",
    "  coap_get_header_accept(request, &accept);\n",
    "  if(accept == -1 || accept == TEXT_PLAIN) {\n",
    "    coap_set_header_content_format(response, TEXT_PLAIN);\n",
    "    snprintf((char *)buffer, COAP_MAX_CHUNK_SIZE, \"%d;%d;%d\", x, y, z);\n",
    "\n",
    "    coap_set_payload(response, (uint8_t *)buffer, strlen((char *)buffer));\n",
    "  } else if(accept == APPLICATION_XML) {\n",
    "    coap_set_header_content_format(response, APPLICATION_XML);\n",
    "    snprintf((char *)buffer, COAP_MAX_CHUNK_SIZE, \"<accelerometer x=\\\"%d\\\" y=\\\"%d\\\" z=\\\"%d\\\"/>\", x, y, z);\n",
    "\n",
    "    coap_set_payload(response, buffer, strlen((char *)buffer));\n",
    "  } else if(accept == APPLICATION_JSON) {\n",
    "    coap_set_header_content_format(response, APPLICATION_JSON);\n",
    "    snprintf((char *)buffer, COAP_MAX_CHUNK_SIZE, \"{'accelerometer':{'x':%d,'y':%d,'z':%d}}\", x, y, z);\n",
    "\n",
    "    coap_set_payload(response, buffer, strlen((char *)buffer));\n",
    "  } else {\n",
    "    coap_set_status_code(response, NOT_ACCEPTABLE_4_06);\n",
    "    const char *msg = \"Supporting content-types text/plain, application/xml, and application/json\";\n",
    "    coap_set_payload(response, msg, strlen(msg));\n",
    "  }\n",
    "}\n",
    "#endif /* PLATFORM_HAS_ACCELEROMETER */\n",
    "```\n",
    "\n",
    "4. Compile and verify your code"
   ]
  },
  {
   "cell_type": "code",
   "execution_count": null,
   "metadata": {},
   "outputs": [],
   "source": [
    "!make -C coap-example-server TARGET=iotlab BOARD=m3 DEFINES=$RADIO"
   ]
  },
  {
   "cell_type": "markdown",
   "metadata": {},
   "source": [
    "5. Flash the second node with the new CoAP firmware"
   ]
  },
  {
   "cell_type": "code",
   "execution_count": null,
   "metadata": {},
   "outputs": [],
   "source": [
    "!iotlab-node --update coap-example-server/coap-example-server.iotlab -l $SITE,m3,$ID2"
   ]
  },
  {
   "cell_type": "markdown",
   "metadata": {},
   "source": [
    "6. From the frontend SSH check that the CoAP resource is exposed by the server and request it."
   ]
  },
  {
   "cell_type": "raw",
   "metadata": {},
   "source": [
    "<login>@<site>:~$ aiocoap-client coap://[fd00::yyyy]/.well-known/core\n",
    "...\n",
    "</sensors/light>;title=\"Ambient light (supports JSON)\";rt=\"LightSensor\",</sensors/accel>;title=\"Three axis accelerometer (supports JSON)\";rt=\"AccelerometerSensor\"\n",
    "\n",
    "<login>@<site>:~$ aiocoap-client coap://[fd00::yyyy]/sensors/accel\n",
    "-482;-26;-909"
   ]
  },
  {
   "cell_type": "markdown",
   "metadata": {},
   "source": [
    "### Free up the resources\n",
    "\n",
    "Since you finished the training, stop your experiment to free up the experiment nodes:"
   ]
  },
  {
   "cell_type": "code",
   "execution_count": null,
   "metadata": {},
   "outputs": [],
   "source": [
    "!iotlab-experiment stop"
   ]
  },
  {
   "cell_type": "markdown",
   "metadata": {},
   "source": [
    "The serial link connection through SSH and the tunslip process will be closed automatically."
   ]
  }
 ],
 "metadata": {
  "kernelspec": {
   "display_name": "Python 3",
   "language": "python",
   "name": "python3"
  },
  "language_info": {
   "codemirror_mode": {
    "name": "ipython",
    "version": 3
   },
   "file_extension": ".py",
   "mimetype": "text/x-python",
   "name": "python",
   "nbconvert_exporter": "python",
   "pygments_lexer": "ipython3",
   "version": "3.6.9"
  }
 },
 "nbformat": 4,
 "nbformat_minor": 4
}
