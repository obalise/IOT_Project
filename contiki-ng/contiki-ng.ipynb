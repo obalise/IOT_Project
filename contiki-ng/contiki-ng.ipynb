{
 "cells": [
  {
   "cell_type": "markdown",
   "metadata": {},
   "source": [
    "## Contiki-NG\n",
    "\n",
    "[Contiki-NG](https://contiki-ng.org) is an open-source operating system for microcontrollers.\n",
    "\n",
    "### Basics\n",
    "\n",
    "1. Discover the Contiki-NG building system in the IoT-LAB context and run a [First application](basics/hello-world/hello-world.ipynb)\n",
    "\n",
    "### Networking\n",
    "\n",
    "In this section, you will learn the basics of lower power mesh networks, especially 802.15.4, and dicovet the networking solutions implemented by Contiki-NG.\n",
    "\n",
    "1. [IPv6](netwotking/ipv6/ipv6.ipynb): the Internet Protocol for the IoT\n",
    "2. Meet the application layer with the [CoAP](networking/coap/coap.ipynb) protocol\n"
   ]
  }
 ],
 "metadata": {
  "kernelspec": {
   "display_name": "Python 3",
   "language": "python",
   "name": "python3"
  },
  "language_info": {
   "codemirror_mode": {
    "name": "ipython",
    "version": 3
   },
   "file_extension": ".py",
   "mimetype": "text/x-python",
   "name": "python",
   "nbconvert_exporter": "python",
   "pygments_lexer": "ipython3",
   "version": "3.6.9"
  }
 },
 "nbformat": 4,
 "nbformat_minor": 4
}
