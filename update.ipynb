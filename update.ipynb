{
 "cells": [
  {
   "cell_type": "markdown",
   "metadata": {},
   "source": [
    "## Update the training exercises\n",
    "\n",
    "The training exercises comes from the [https://github.com/iot-lab/iot-lab-training](https://github.com/iot-lab/iot-lab-training) repository and are continuously evolving in order to add new exercises or to simply follow the updates added to the new IoT operating systems (RIOT, contiki-ng) versions.\n",
    "\n",
    "The training directory in the jupyterlab server is just a git clone of the [https://github.com/iot-lab/iot-lab-training](https://github.com/iot-lab/iot-lab-training) repository so you can use git to update it.\n",
    "\n",
    "For those who are not comfortable with git, this notebook proposes an easy way to:\n",
    "- snapshot your current exercises status in a git branch,\n",
    "- fetch the latest versions of the notebooks and submodules (riot, contiki-ng)\n",
    "\n",
    "The snapshot branch will be called `snapshot-<year><month><day>-<hour><minute><second>`.\n",
    "\n",
    "**Warning:** after performing an update with the proposed method, all your current changes will be commited to the `snapshot-<year><month><day>-<hour><minute><second>` branch and you will start with a clean and updated version of the training notebooks.\n",
    "\n",
    "Just execute the following cell with `Ctrl+Enter` keyboard shortcut:"
   ]
  },
  {
   "cell_type": "code",
   "execution_count": null,
   "metadata": {},
   "outputs": [],
   "source": [
    "# Switch to new snapshot branch\n",
    "!git checkout -b snapshot-$(date +\"%Y%m%d-%H%M%S\")\n",
    "\n",
    "# Commit the current state\n",
    "!git -c user.name='Jupyter Labs' -c user.email='labs@iot-lab.info' commit -am \"Training snapshot from $(date +\"%Y%m%d-%H%M%S\")\"\n",
    "\n",
    "# Switch back to master\n",
    "!git checkout master\n",
    "\n",
    "# Pull the latest version of the training and update the submodules\n",
    "!git pull --recurse-submodules\n",
    "!git submodule update --recursive"
   ]
  },
  {
   "cell_type": "markdown",
   "metadata": {},
   "source": [
    "If you want to list the available branches, run:"
   ]
  },
  {
   "cell_type": "code",
   "execution_count": null,
   "metadata": {},
   "outputs": [],
   "source": [
    "!git branch"
   ]
  },
  {
   "cell_type": "markdown",
   "metadata": {},
   "source": [
    "To switch to an old snapshot branch, run (replace `<date>` and `<time>` with values from a valid branch name):"
   ]
  },
  {
   "cell_type": "code",
   "execution_count": null,
   "metadata": {},
   "outputs": [],
   "source": [
    "!git checkout snapshot-<date>-<time>"
   ]
  }
 ],
 "metadata": {
  "kernelspec": {
   "display_name": "Python 3",
   "language": "python",
   "name": "python3"
  },
  "language_info": {
   "codemirror_mode": {
    "name": "ipython",
    "version": 3
   },
   "file_extension": ".py",
   "mimetype": "text/x-python",
   "name": "python",
   "nbconvert_exporter": "python",
   "pygments_lexer": "ipython3",
   "version": "3.8.6"
  }
 },
 "nbformat": 4,
 "nbformat_minor": 4
}
