{
 "cells": [
  {
   "cell_type": "markdown",
   "metadata": {},
   "source": [
    "## Message encryption\n",
    "\n",
    "In this exercise, you will write 2 RIOT shell commands to encrypt and decrypt simple messages. The algorithm will use AES 128 symmetric encryption and more precisely, this exercise will use the CTR cipher mode which is able to encrypt/decrypt messages of arbitrary sizes.\n",
    "\n",
    "AES encryption is provided by `crypto` module of RIOT and CTR cipher mode is provided by the `cipher_modes` module.\n",
    "\n",
    "The encrypted message is computed in memory in a byte array and, to print it, it must be converted to a string of hexadecimal characters. To do this, RIOT provides a helper module, `fmt`, with useful functions to do that easily.\n",
    "\n",
    "Since the algorithm is based on a symmetric key, a key is provided statically in the code of the exercise.\n",
    "\n",
    "### Add required modules to the build\n",
    "\n",
    "Since the application is about to implement shell functions, the `shell` module must be added to the build, as well as the `fmt`, `crypto` and `cipher_modes` modules.\n",
    "\n",
    "Edit the [Makefile](Makefile) and add there the required modules to the build.\n",
    "\n",
    "```\n",
    "USEMODULE += crypto\n",
    "USEMODULE += crypto_aes\n",
    "USEMODULE += cipher_modes\n",
    "USEMODULE += fmt\n",
    "USEMODULE += shell\n",
    "```\n",
    "\n",
    "### Implement the application\n",
    "\n",
    "Now edit the [main.c](main.c) file as follows:\n",
    "\n",
    "    \n",
    "1. Add the required includes corresponding to the fmt, shell and hashes modules that will be used by the application:\n",
    "\n",
    "```c\n",
    "#include \"shell.h\"\n",
    "#include \"fmt.h\"\n",
    "#include \"crypto/ciphers.h\"\n",
    "#include \"crypto/modes/ctr.h\"\n",
    "```\n",
    "\n",
    "2. Define the symmetric key and the nonce:\n",
    "    \n",
    "```c\n",
    "static const uint8_t key[] = {\n",
    "    0x23, 0xA0, 0x18, 0x53, 0xFA, 0xB3, 0x89, 0x23,\n",
    "    0x65, 0x89, 0x2A, 0xBC, 0x43, 0x99, 0xCC, 0x00\n",
    "};\n",
    "\n",
    "static const uint8_t ctr[] = {\n",
    "    0xf0, 0xf1, 0xf2, 0xf3, 0xf4, 0xf5, 0xf6, 0xf7,\n",
    "    0xf8, 0xf9, 0xfa, 0xfb, 0xfc, 0xfd, 0xfe, 0xff\n",
    "};\n",
    "```\n",
    "\n",
    "3. Implement the encrypt command handler function that will return the input message in its encrypted form. The encrypted message is printed as a string of hexadecimal characters:\n",
    "\n",
    "    - In the `_encrypt_handler` function, call the functions that will encrypt the message:\n",
    "    ```c\n",
    "          cipher_t cipher;\n",
    "          cipher_init(&cipher, CIPHER_AES, key, sizeof(key));\n",
    "          size_t enc_len = cipher_encrypt_ctr(&cipher, ctr_copy, 0, (uint8_t *)argv[1], strlen(argv[1]), data);\n",
    "    ```\n",
    "    We use a copy of the nonce buffer because it is modifed by the call to `cypher_encrypt_ctr`.\n",
    "    \n",
    "    - Convert the encrypted message (a byte array) to its hexadecimal string representation:\n",
    "    ```c\n",
    "          size_t len = fmt_bytes_hex(buf_str, data, enc_len);\n",
    "          buf_str[len] = 0;\n",
    "    ```\n",
    "    The hexadecimal string buffer must be closed to ensure a proper output.\n",
    "\n",
    "3. Implement the decrypt command handler function:\n",
    "\n",
    "    - In the `_decrypt_handler` function, you must first convert the hexadecimal representation of the input encrypted message into a byte array:\n",
    "    ```c\n",
    "          size_t len = fmt_hex_bytes(data, argv[1]);\n",
    "    ```\n",
    "\n",
    "    - Then, decrypt the content of the `data` buffer:\n",
    "    ```c\n",
    "          cipher_t cipher;\n",
    "          cipher_init(&cipher, CIPHER_AES, key, sizeof(key));\n",
    "          cipher_decrypt_ctr(&cipher, ctr_copy, 0, data, len, (uint8_t *)buf_str);\n",
    "          buf_str[len] = 0;\n",
    "    ```\n",
    "    The output should directly be readable, so there's no need to convert it to hexadecimal.\n",
    "\n",
    "### Build and test the application on native\n",
    "\n",
    "Open a terminal with the File > New > Terminal menu, then build and run for native (the default board, according to the Makefile):"
   ]
  },
  {
   "cell_type": "raw",
   "metadata": {},
   "source": [
    "make -C riot/security/encryption all term"
   ]
  },
  {
   "cell_type": "markdown",
   "metadata": {},
   "source": [
    "You can now play with the RIOT shell and list the commands available, with the help command:"
   ]
  },
  {
   "cell_type": "raw",
   "metadata": {},
   "source": [
    "> help\n",
    "help\n",
    "Command              Description\n",
    "---------------------------------------\n",
    "encrypt              Encrypt input string\n",
    "decrypt              Decrypt input string"
   ]
  },
  {
   "cell_type": "markdown",
   "metadata": {},
   "source": [
    "Encrypt a message:"
   ]
  },
  {
   "cell_type": "raw",
   "metadata": {},
   "source": [
    "> encrypt riot\n",
    "encrypt riot\n",
    "E7461EA1"
   ]
  },
  {
   "cell_type": "markdown",
   "metadata": {},
   "source": [
    "Decrypt the encrypted message and check you get the initial message back:"
   ]
  },
  {
   "cell_type": "raw",
   "metadata": {},
   "source": [
    "> decrypt E7461EA1\n",
    "decrypt E7461EA1\n",
    "riot"
   ]
  },
  {
   "cell_type": "markdown",
   "metadata": {},
   "source": [
    "You can also verify that an altered encrypted message produces an invalid (or empty) output:"
   ]
  },
  {
   "cell_type": "raw",
   "metadata": {},
   "source": [
    "> decrypt E7461EA2\n",
    "decrypt E7461EA2\n",
    "riow"
   ]
  },
  {
   "cell_type": "markdown",
   "metadata": {},
   "source": [
    "### Build and test the application on IoT-LAB\n",
    "\n",
    "The application is now ready and can be tested on real hardware, on an iotlab-m3 in the IoT-LAB testbed.\n",
    "\n",
    "1. Choose your site (grenoble|lille|saclay|strasbourg):"
   ]
  },
  {
   "cell_type": "code",
   "execution_count": null,
   "metadata": {},
   "outputs": [],
   "source": [
    "%env SITE=grenoble"
   ]
  },
  {
   "cell_type": "markdown",
   "metadata": {},
   "source": [
    "2. Submit an experiment using the following command:"
   ]
  },
  {
   "cell_type": "code",
   "execution_count": null,
   "metadata": {},
   "outputs": [],
   "source": [
    "!iotlab-experiment submit -n \"riot-encryption\" -d 20 -l 1,archi=m3:at86rf231+site=$SITE"
   ]
  },
  {
   "cell_type": "markdown",
   "metadata": {},
   "source": [
    "3. Wait for the experiment to be in the Running state:"
   ]
  },
  {
   "cell_type": "code",
   "execution_count": null,
   "metadata": {},
   "outputs": [],
   "source": [
    "!iotlab-experiment wait --timeout 30 --cancel-on-timeout"
   ]
  },
  {
   "cell_type": "markdown",
   "metadata": {},
   "source": [
    "**Note:** If the command above returns the message `Timeout reached, cancelling experiment <exp_id>`, try to re-submit your experiment later or try on another site."
   ]
  },
  {
   "cell_type": "markdown",
   "metadata": {},
   "source": [
    "4. Get the experiment nodes list:"
   ]
  },
  {
   "cell_type": "code",
   "execution_count": null,
   "metadata": {},
   "outputs": [],
   "source": [
    "!iotlab-experiment --jmespath=\"items[*].network_address | sort(@)\" get --nodes"
   ]
  },
  {
   "cell_type": "markdown",
   "metadata": {},
   "source": [
    "5. Build and flash the shell application for the iotlab-m3 target device:"
   ]
  },
  {
   "cell_type": "code",
   "execution_count": null,
   "metadata": {},
   "outputs": [],
   "source": [
    "!make BOARD=iotlab-m3 IOTLAB_NODE=auto flash"
   ]
  },
  {
   "cell_type": "markdown",
   "metadata": {},
   "source": [
    "6. In the terminal, open the serial link:"
   ]
  },
  {
   "cell_type": "raw",
   "metadata": {},
   "source": [
    "make BOARD=iotlab-m3 IOTLAB_NODE=auto -C riot/security/encryption term"
   ]
  },
  {
   "cell_type": "markdown",
   "metadata": {},
   "source": [
    "Interact with the shell on the IoT-LAB M3 to encrypt and decrypt messages:"
   ]
  },
  {
   "cell_type": "raw",
   "metadata": {},
   "source": [
    "> help\n",
    "help\n",
    "Command              Description\n",
    "---------------------------------------\n",
    "encrypt              Encrypt input string\n",
    "decrypt              Decrypt input string\n",
    "> encrypt riot\n",
    "encrypt riot\n",
    "EB68EC38\n",
    "> decrypt EB68EC38\n",
    "decrypt EB68EC38\n",
    "riot\n",
    "> decrypt EB68EC37\n",
    "decrypt EB68EC37\n",
    "rio{\n",
    "> "
   ]
  },
  {
   "cell_type": "markdown",
   "metadata": {},
   "source": [
    "### Free up the resources\n",
    "\n",
    "Stop your experiment to free up the device:"
   ]
  },
  {
   "cell_type": "code",
   "execution_count": null,
   "metadata": {},
   "outputs": [],
   "source": [
    "!iotlab-experiment stop"
   ]
  }
 ],
 "metadata": {
  "kernelspec": {
   "display_name": "Python 3 (ipykernel)",
   "language": "python",
   "name": "python3"
  },
  "language_info": {
   "codemirror_mode": {
    "name": "ipython",
    "version": 3
   },
   "file_extension": ".py",
   "mimetype": "text/x-python",
   "name": "python",
   "nbconvert_exporter": "python",
   "pygments_lexer": "ipython3",
   "version": "3.9.7"
  }
 },
 "nbformat": 4,
 "nbformat_minor": 4
}
