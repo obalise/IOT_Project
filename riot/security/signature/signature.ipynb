{
 "cells": [
  {
   "cell_type": "markdown",
   "metadata": {},
   "source": [
    "## Signature verification\n",
    "\n",
    "In this exercise, you will write RIOT shell commands to sign and verify simple messages:\n",
    "- One command that signs and print the signature\n",
    "- One command that verify the signature\n",
    "- One command to generate the key pair used to sign/verify the message\n",
    "\n",
    "The signature mechanism is provided by an external package of RIOT, `c25519`.\n",
    "\n",
    "The signature is stored in memory in a byte array and, to print it, it must be converted to a string of hexadecimal characters. RIOT provides a helper module, `fmt`, with useful functions to do that easily.\n",
    "\n",
    "To generate random asymmetric public and secret keys, the application will use the `random` module of RIOT.\n",
    "\n",
    "### Add required modules to the build\n",
    "\n",
    "Since the application is about to implement shell functions, the `shell` module must be added to the build, as well as the `fmt` and the `random` modules. The `c25519` is provided as a package.\n",
    "\n",
    "Edit the [Makefile](Makefile) and add there the required modules to the build.\n",
    "\n",
    "```\n",
    "USEMODULE += fmt\n",
    "USEMODULE += shell\n",
    "USEMODULE += random\n",
    "\n",
    "USEPKG += c25519\n",
    "```\n",
    "\n",
    "### Implement the application\n",
    "\n",
    "Now edit the [main.c](main.c) file as follows:\n",
    "\n",
    "    \n",
    "1. Add the required includes corresponding to the fmt, shell, random and c25519 modules that will be used by the application:\n",
    "\n",
    "```c\n",
    "#include \"shell.h\"\n",
    "#include \"fmt.h\"\n",
    "#include \"edsign.h\"\n",
    "#include \"ed25519.h\"\n",
    "#include \"random.h\"\n",
    "```\n",
    "\n",
    "2. Implement the key command handler function that will generate a new pair of key each time it is called:\n",
    "\n",
    "    - First, under the header includes, declare 2 buffers where the asymmetric keys are stored:\n",
    "    ```c\n",
    "    static uint8_t secret_key[EDSIGN_SECRET_KEY_SIZE] = { 0 };\n",
    "    static uint8_t public_key[EDSIGN_PUBLIC_KEY_SIZE] = { 0 };\n",
    "    ```\n",
    "\n",
    "    - In the `_key_handler` function, call the functions that will create the new keypair:\n",
    "    ```c\n",
    "          random_bytes(secret_key, sizeof(secret_key));\n",
    "          ed25519_prepare(secret_key);\n",
    "          edsign_sec_to_pub(public_key, secret_key);\n",
    "    ```\n",
    "    \n",
    "    - In the `_key_handler` function, print the new keypair:\n",
    "    ```c\n",
    "          puts(\"New keypair generated:\");\n",
    "          printf(\"  - Secret: \");\n",
    "          for (uint8_t i = 0; i < EDSIGN_SECRET_KEY_SIZE; ++i) {\n",
    "              printf(\"%02X\", secret_key[i]);\n",
    "          }\n",
    "\n",
    "          printf(\"\\n  - Public: \");\n",
    "          for (uint8_t i = 0; i < EDSIGN_PUBLIC_KEY_SIZE; ++i) {\n",
    "              printf(\"%02X\", public_key[i]);\n",
    "          }\n",
    "          puts(\"\");\n",
    "    ```\n",
    "\n",
    "3. Implement the sign command handler function that will generate a signature from an input message:\n",
    "\n",
    "    - First, under the header includes, declare 2 buffers where the signatures (byte and hex representation) are stored:\n",
    "    ```c\n",
    "    static uint8_t signature[EDSIGN_SIGNATURE_SIZE] = { 0 };\n",
    "    static char signature_hex[EDSIGN_SIGNATURE_SIZE * 2 + 1] = { 0 };\n",
    "    ```\n",
    "\n",
    "     **Note:** the size of the hexadecimal string signature buffer is twice as large as the signature buffer itself, because a single byte is represented by 2 hexadecimal characters.\n",
    "\n",
    "    - In the `_sign_handler` function, call the functions that will generate the signature of the input command argument message in `argv[1]`:\n",
    "    ```c\n",
    "          edsign_sign(signature, public_key, secret_key, (uint8_t *)argv[1], strlen(argv[1]));\n",
    "    ```\n",
    "\n",
    "    - Convert the signature (a byte array) to its hexadecimal string representation:\n",
    "    ```c\n",
    "          fmt_bytes_hex(signature_hex, signature, EDSIGN_SIGNATURE_SIZE);\n",
    "    ```\n",
    "\n",
    "4. Implement the verify command handler function:\n",
    "    The message and the signature are provided as command line argument respectively in `argv[1]` and `argv[2]`.\n",
    "\n",
    "    - In the `_verify_handler` function, you must first convert the signature provided as a string of hex characters to a byte array, this is done with the `hex_bytes` function (from the `fmt` module):\n",
    "    ```c\n",
    "          fmt_hex_bytes(signature, argv[2]);\n",
    "    ```\n",
    "\n",
    "    - Now call the functions that check the signature:\n",
    "    ```c\n",
    "          if (edsign_verify(signature, public_key, (uint8_t *)argv[1], strlen(argv[1]))) {\n",
    "              puts(\"Message verified\");\n",
    "          }\n",
    "          else {\n",
    "              puts(\"Message not verified\");\n",
    "          }\n",
    "    ```\n",
    "\n",
    "### Build and test the application on native\n",
    "\n",
    "Open a terminal with the `File > New > Terminal` menu, then build and run for native (the default board, according to the [Makefile](Makefile)):"
   ]
  },
  {
   "cell_type": "raw",
   "metadata": {},
   "source": [
    "make -C riot/security/signature all term"
   ]
  },
  {
   "cell_type": "markdown",
   "metadata": {},
   "source": [
    "You can now play with the RIOT shell and list the commands available, with the help command:"
   ]
  },
  {
   "cell_type": "raw",
   "metadata": {},
   "source": [
    "> help\n",
    "help\n",
    "Command              Description\n",
    "---------------------------------------\n",
    "key                  Generate a new pair of keys\n",
    "sign                 Compute the signature of a message\n",
    "verify               Verify the signature of a message"
   ]
  },
  {
   "cell_type": "markdown",
   "metadata": {},
   "source": [
    "First, generate a new keypair:"
   ]
  },
  {
   "cell_type": "raw",
   "metadata": {},
   "source": [
    "> key\n",
    "New keypair generated:\n",
    " - Secret: E002F870F121D3605A8D54709BCE4D32936C14F50D9F51867A6062DF2E6C0249\n",
    " - Public: 93F6592CC893E1DDF549225603E20B5B9038C9DC1830102546AAC9521968AC55"
   ]
  },
  {
   "cell_type": "markdown",
   "metadata": {},
   "source": [
    "Sign a first message:"
   ]
  },
  {
   "cell_type": "raw",
   "metadata": {},
   "source": [
    "> sign riot\n",
    "0BC26A14A5AF5763A3F43B58AE965985657D5BF24A1A764E8BB0F5EA0236BB969D5E2B5FD42B56AD27DB54097AE60488637CB3F8AB504299AC1CF8D284534002"
   ]
  },
  {
   "cell_type": "markdown",
   "metadata": {},
   "source": [
    "Verify the signature:"
   ]
  },
  {
   "cell_type": "raw",
   "metadata": {},
   "source": [
    "> verify riot 0BC26A14A5AF5763A3F43B58AE965985657D5BF24A1A764E8BB0F5EA0236BB969D5E2B5FD42B56AD27DB54097AE60488637CB3F8AB504299AC1CF8D284534002\n",
    "Message verified\n",
    "\n",
    "> verify rito 0BC26A14A5AF5763A3F43B58AE965985657D5BF24A1A764E8BB0F5EA0236BB969D5E2B5FD42B56AD27DB54097AE60488637CB3F8AB504299AC1CF8D284534002\n",
    "Message not verified"
   ]
  },
  {
   "cell_type": "markdown",
   "metadata": {},
   "source": [
    "### Build and test the application on IoT-LAB\n",
    "\n",
    "The application is now ready and can be tested on real hardware, on an iotlab-m3 in the IoT-LAB testbed.\n",
    "\n",
    "1. Choose your site (grenoble|lille|saclay|strasbourg):"
   ]
  },
  {
   "cell_type": "code",
   "execution_count": null,
   "metadata": {},
   "outputs": [],
   "source": [
    "%env SITE=grenoble"
   ]
  },
  {
   "cell_type": "markdown",
   "metadata": {},
   "source": [
    "2. Submit an experiment using the following command:"
   ]
  },
  {
   "cell_type": "code",
   "execution_count": null,
   "metadata": {},
   "outputs": [],
   "source": [
    "!iotlab-experiment submit -n \"riot-signature\" -d 20 -l 1,archi=m3:at86rf231+site=$SITE"
   ]
  },
  {
   "cell_type": "markdown",
   "metadata": {},
   "source": [
    "3. Wait for the experiment to be in the Running state:"
   ]
  },
  {
   "cell_type": "code",
   "execution_count": null,
   "metadata": {},
   "outputs": [],
   "source": [
    "!iotlab-experiment wait --timeout 30 --cancel-on-timeout"
   ]
  },
  {
   "cell_type": "markdown",
   "metadata": {},
   "source": [
    "**Note:** If the command above returns the message `Timeout reached, cancelling experiment <exp_id>`, try to re-submit your experiment later or try on another site."
   ]
  },
  {
   "cell_type": "markdown",
   "metadata": {},
   "source": [
    "4. Get the experiment nodes list:"
   ]
  },
  {
   "cell_type": "code",
   "execution_count": null,
   "metadata": {},
   "outputs": [],
   "source": [
    "!iotlab-experiment --jmespath=\"items[*].network_address | sort(@)\" get --nodes"
   ]
  },
  {
   "cell_type": "markdown",
   "metadata": {},
   "source": [
    "5. Build and flash the shell application for the iotlab-m3 target device:"
   ]
  },
  {
   "cell_type": "code",
   "execution_count": null,
   "metadata": {},
   "outputs": [],
   "source": [
    "!make BOARD=iotlab-m3 IOTLAB_NODE=auto flash"
   ]
  },
  {
   "cell_type": "markdown",
   "metadata": {},
   "source": [
    "6. In the terminal, open the serial link:"
   ]
  },
  {
   "cell_type": "raw",
   "metadata": {},
   "source": [
    "make BOARD=iotlab-m3 IOTLAB_NODE=auto -C riot/security/signature term"
   ]
  },
  {
   "cell_type": "markdown",
   "metadata": {},
   "source": [
    "Interact with the shell on the IoT-LAB M3 and verify that you can sign and verify signatures:"
   ]
  },
  {
   "cell_type": "raw",
   "metadata": {},
   "source": [
    "> help\n",
    "help\n",
    "Command              Description\n",
    "---------------------------------------\n",
    "key                  Generate a new pair of keys\n",
    "sign                 Compute the signature of a message\n",
    "verify               Verify the signature of a message\n",
    "> key\n",
    "New keypair generated:\n",
    " - Secret: E002F870F121D3605A8D54709BCE4D32936C14F50D9F51867A6062DF2E6C0249\n",
    " - Public: 93F6592CC893E1DDF549225603E20B5B9038C9DC1830102546AAC9521968AC55\n",
    "> sign riot\n",
    "0BC26A14A5AF5763A3F43B58AE965985657D5BF24A1A764E8BB0F5EA0236BB969D5E2B5FD42B56AD27DB54097AE60488637CB3F8AB504299AC1CF8D284534002\n",
    "> verify riot 0BC26A14A5AF5763A3F43B58AE965985657D5BF24A1A764E8BB0F5EA0236BB969D5E2B5FD42B56AD27DB54097AE60488637CB3F8AB504299AC1CF8D284534002\n",
    "Message verified\n",
    "> verify rito 0BC26A14A5AF5763A3F43B58AE965985657D5BF24A1A764E8BB0F5EA0236BB969D5E2B5FD42B56AD27DB54097AE60488637CB3F8AB504299AC1CF8D284534002\n",
    "Message not verified"
   ]
  },
  {
   "cell_type": "markdown",
   "metadata": {},
   "source": [
    "### Free up the resources\n",
    "\n",
    "Stop your experiment to free up the device:"
   ]
  },
  {
   "cell_type": "code",
   "execution_count": null,
   "metadata": {},
   "outputs": [],
   "source": [
    "!iotlab-experiment stop"
   ]
  }
 ],
 "metadata": {
  "kernelspec": {
   "display_name": "Python 3 (ipykernel)",
   "language": "python",
   "name": "python3"
  },
  "language_info": {
   "codemirror_mode": {
    "name": "ipython",
    "version": 3
   },
   "file_extension": ".py",
   "mimetype": "text/x-python",
   "name": "python",
   "nbconvert_exporter": "python",
   "pygments_lexer": "ipython3",
   "version": "3.9.7"
  }
 },
 "nbformat": 4,
 "nbformat_minor": 4
}
