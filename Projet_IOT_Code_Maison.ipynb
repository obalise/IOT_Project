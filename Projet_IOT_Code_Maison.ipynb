{
 "cells": [
  {
   "cell_type": "markdown",
   "id": "edb9d9b8-c594-4eed-b013-97457226b509",
   "metadata": {},
   "source": [
    "# Projet IOT \n",
    "## Où se trouve notre code ?\n",
    "Dans ce notebook se trouve le code essentiellement dédié au traitement des données: <br />\n",
    "    -> Prise des données météo d'OpenWeather<br />\n",
    "    -> Abonnement au broker TTN avec paho-mqtt et réception des données<br />\n",
    "    -> Carte de la France avec données météo OpenWeather<br />\n",
    "    -> \"Publish\" avec mosquitto_pub<br />\n",
    "\n",
    "Dans le dossier riot/lorawan/ttn-sensors se trouve le code et les infos pour compiler et flasher les boards."
   ]
  },
  {
   "cell_type": "markdown",
   "id": "1ff0bfff-5081-487c-afc5-dfd6e6dab477",
   "metadata": {},
   "source": [
    "### PROGRAMME PYTHON POUR PRENDRE LES PRESSIONS DE QUELQUES VILLES FRANCAISES"
   ]
  },
  {
   "cell_type": "code",
   "execution_count": 11,
   "id": "76fdb648-fa2d-47e9-8491-67e428fd827a",
   "metadata": {},
   "outputs": [],
   "source": [
    "# Python program to find current\n",
    "# weather details of any city\n",
    "# using openweathermap api\n",
    "# import required modules\n",
    "import requests, json\n",
    "import os\n",
    "api_key = \"05b51f50c88c882398ed44144e86224f\"\n",
    "base_url = \"http://api.openweathermap.org/data/2.5/weather?\"\n",
    "\n",
    "complete_url = base_url + \"q=\" + 'Saclay' + \"&appid=\" + api_key\n",
    "response = requests.get(complete_url)\n",
    "x = response.json()\n",
    "if x[\"cod\"] != \"404\":\n",
    "    y = x[\"main\"]\n",
    "    tempSaclay = y[\"temp\"]\n",
    "    pressSaclay = y[\"pressure\"]\n",
    "    humidSaclay = y[\"humidity\"]\n",
    "    z = x[\"weather\"]\n",
    "    weather_description = z[0][\"description\"]\n",
    "else:\n",
    "    print(\" City Not Found \")\n",
    "    \n",
    "complete_url = base_url + \"q=\" + 'Marseille' + \"&appid=\" + api_key\n",
    "response = requests.get(complete_url)\n",
    "x = response.json()\n",
    "if x[\"cod\"] != \"404\":\n",
    "    y = x[\"main\"]\n",
    "    tempMarseille = y[\"temp\"]\n",
    "    pressMarseille = y[\"pressure\"]\n",
    "    humidMarseille = y[\"humidity\"]\n",
    "else:\n",
    "    print(\" City Not Found \")\n",
    "    \n",
    "complete_url = base_url + \"q=\" + 'Lille' + \"&appid=\" + api_key\n",
    "response = requests.get(complete_url)\n",
    "x = response.json()\n",
    "if x[\"cod\"] != \"404\":\n",
    "    y = x[\"main\"]\n",
    "    pressLille = y[\"pressure\"]\n",
    "else:\n",
    "    print(\" City Not Found \")\n",
    "    "
   ]
  },
  {
   "cell_type": "markdown",
   "id": "f9eb351f-7a79-474d-bce3-0cac610e1047",
   "metadata": {},
   "source": [
    "### ICI LE CODE POUR S'ABONNER AUX DONNEES VENANT DU SERVEUR MQTT DE TTN"
   ]
  },
  {
   "cell_type": "code",
   "execution_count": 13,
   "id": "df400564-2b83-4492-87d1-50cc7e21721e",
   "metadata": {
    "tags": []
   },
   "outputs": [
    {
     "name": "stdout",
     "output_type": "stream",
     "text": [
      "Connected with result code 0\n",
      "Received `{\"end_device_ids\":{\"device_id\":\"eui-70b3d57ed004d300\",\"application_ids\":{\"application_id\":\"app-test-ttn\"},\"dev_eui\":\"70B3D57ED004D300\",\"join_eui\":\"0000000000000000\",\"dev_addr\":\"260BE3AB\"},\"correlation_ids\":[\"as:up:01FYVJDVZYAA2DM5VGC2D9T78P\",\"gs:conn:01FYVDH2X6BCG98GVJZ111QC2G\",\"gs:up:host:01FYVDH2XGYXAG0QYSHPZD8QVN\",\"gs:uplink:01FYVJDVS34JPWC6CJ0F4SJZVY\",\"ns:uplink:01FYVJDVS4XV8JVXVCTAH7A985\",\"rpc:/ttn.lorawan.v3.GsNs/HandleUplink:01FYVJDVS4X0KVR655FNJKD7Z4\",\"rpc:/ttn.lorawan.v3.NsAs/HandleUplink:01FYVJDVZXFG5W5TY4BHG5D7FW\"],\"received_at\":\"2022-03-23T14:20:56.702241416Z\",\"uplink_message\":{\"session_key_id\":\"AX+3JeybixO2n40etnvzag==\",\"f_port\":2,\"f_cnt\":2,\"frm_payload\":\"UHJlc3Npb246IDc1N21tSGc=\",\"decoded_payload\":{\"message\":\"Pression: 757mmHg\"},\"rx_metadata\":[{\"gateway_ids\":{\"gateway_id\":\"iot-lab-saclay-gateway\"},\"time\":\"2022-03-23T14:20:56Z\",\"timestamp\":853856628,\"rssi\":-81,\"channel_rssi\":-81,\"snr\":10,\"location\":{\"latitude\":48.71503122196953,\"longitude\":2.205945253372193,\"altitude\":157,\"source\":\"SOURCE_REGISTRY\"},\"uplink_token\":\"ChoKGAoWaW90LWxhYi1zYWNsYXktZ2F0ZXdheRD0opOXAxoMCMjZ7JEGEN2Iy+YBIKDayO7slQE=\"}],\"settings\":{\"data_rate\":{\"lora\":{\"bandwidth\":125000,\"spreading_factor\":7}},\"coding_rate\":\"4/5\",\"frequency\":\"867700000\",\"timestamp\":853856628},\"received_at\":\"2022-03-23T14:20:56.484317143Z\",\"confirmed\":true,\"consumed_airtime\":\"0.071936s\",\"network_ids\":{\"net_id\":\"000013\",\"tenant_id\":\"ttn\",\"cluster_id\":\"ttn-eu1\"}}}` from `v3/app-test-ttn@ttn/devices/eui-70b3d57ed004d300/up` topic\n",
      "eui-70b3d57ed004d300\n",
      "UHJlc3Npb246IDc1N21tSGc=\n",
      "b'Pression: 757mmHg'\n",
      "['757']\n",
      "<class 'list'>\n",
      "757\n",
      "<class 'int'>\n",
      "Stored 'valPressionDevice2' (int)\n",
      "Received `{\"end_device_ids\":{\"device_id\":\"eui-70b3d57ed004c6f7\",\"application_ids\":{\"application_id\":\"app-test-ttn\"},\"dev_eui\":\"70B3D57ED004C6F7\",\"join_eui\":\"0000000000000000\",\"dev_addr\":\"260BA353\"},\"correlation_ids\":[\"as:up:01FYVJE3X41WKGSZ3C3S8MMESD\",\"gs:conn:01FYVDH2X6BCG98GVJZ111QC2G\",\"gs:up:host:01FYVDH2XGYXAG0QYSHPZD8QVN\",\"gs:uplink:01FYVJE3PKGKDC62P51JWDJKH5\",\"ns:uplink:01FYVJE3PMW9RN2CG2KQD26DE5\",\"rpc:/ttn.lorawan.v3.GsNs/HandleUplink:01FYVJE3PKXBKN8WPS9GCR029Z\",\"rpc:/ttn.lorawan.v3.NsAs/HandleUplink:01FYVJE3X3C02QMM9XHMJ2E15K\"],\"received_at\":\"2022-03-23T14:21:04.804131106Z\",\"uplink_message\":{\"session_key_id\":\"AX+3JnWB+oDGjZbKoORnPg==\",\"f_port\":2,\"f_cnt\":1,\"frm_payload\":\"UHJlc3Npb246IDc1N21tSGc=\",\"decoded_payload\":{\"message\":\"Pression: 757mmHg\"},\"rx_metadata\":[{\"gateway_ids\":{\"gateway_id\":\"iot-lab-saclay-gateway\"},\"time\":\"2022-03-23T14:21:05Z\",\"timestamp\":862059667,\"rssi\":-65,\"channel_rssi\":-65,\"snr\":10,\"location\":{\"latitude\":48.71503122196953,\"longitude\":2.205945253372193,\"altitude\":157,\"source\":\"SOURCE_REGISTRY\"},\"uplink_token\":\"ChoKGAoWaW90LWxhYi1zYWNsYXktZ2F0ZXdheRCT+YebAxoMCNDZ7JEGEOLb5JsCILi8iraLlgE=\"}],\"settings\":{\"data_rate\":{\"lora\":{\"bandwidth\":125000,\"spreading_factor\":7}},\"coding_rate\":\"4/5\",\"frequency\":\"868100000\",\"timestamp\":862059667},\"received_at\":\"2022-03-23T14:21:04.596051935Z\",\"confirmed\":true,\"consumed_airtime\":\"0.071936s\",\"network_ids\":{\"net_id\":\"000013\",\"tenant_id\":\"ttn\",\"cluster_id\":\"ttn-eu1\"}}}` from `v3/app-test-ttn@ttn/devices/eui-70b3d57ed004c6f7/up` topic\n",
      "eui-70b3d57ed004c6f7\n",
      "UHJlc3Npb246IDc1N21tSGc=\n",
      "b'Pression: 757mmHg'\n",
      "['757']\n",
      "<class 'list'>\n",
      "757\n",
      "<class 'int'>\n",
      "Stored 'valPressionDevice1' (int)\n",
      "Received `{\"end_device_ids\":{\"device_id\":\"eui-70b3d57ed004d300\",\"application_ids\":{\"application_id\":\"app-test-ttn\"},\"dev_eui\":\"70B3D57ED004D300\",\"join_eui\":\"0000000000000000\",\"dev_addr\":\"260BE3AB\"},\"correlation_ids\":[\"as:up:01FYVJF9YPJ6PE0ATPBE4AMH9Q\",\"gs:conn:01FYVDH2X6BCG98GVJZ111QC2G\",\"gs:up:host:01FYVDH2XGYXAG0QYSHPZD8QVN\",\"gs:uplink:01FYVJF9R1ND6849BF4192V6X9\",\"ns:uplink:01FYVJF9R3FXYCE2X4DTS8WDGX\",\"rpc:/ttn.lorawan.v3.GsNs/HandleUplink:01FYVJF9R3K0Z2429FE2E85C52\",\"rpc:/ttn.lorawan.v3.NsAs/HandleUplink:01FYVJF9YN4QQHE0TFXWV447TS\"],\"received_at\":\"2022-03-23T14:21:43.766147059Z\",\"uplink_message\":{\"session_key_id\":\"AX+3JeybixO2n40etnvzag==\",\"f_port\":2,\"f_cnt\":3,\"frm_payload\":\"UHJlc3Npb246IDc1N21tSGc=\",\"decoded_payload\":{\"message\":\"Pression: 757mmHg\"},\"rx_metadata\":[{\"gateway_ids\":{\"gateway_id\":\"iot-lab-saclay-gateway\"},\"time\":\"2022-03-23T14:21:44Z\",\"timestamp\":900927404,\"rssi\":-79,\"channel_rssi\":-79,\"snr\":11.75,\"location\":{\"latitude\":48.71503122196953,\"longitude\":2.205945253372193,\"altitude\":157,\"source\":\"SOURCE_REGISTRY\"},\"uplink_token\":\"ChoKGAoWaW90LWxhYi1zYWNsYXktZ2F0ZXdheRCsn8ytAxoMCPfZ7JEGEPT454cCIODv1JuclwE=\"}],\"settings\":{\"data_rate\":{\"lora\":{\"bandwidth\":125000,\"spreading_factor\":8}},\"coding_rate\":\"4/5\",\"frequency\":\"867300000\",\"timestamp\":900927404},\"received_at\":\"2022-03-23T14:21:43.555812432Z\",\"confirmed\":true,\"consumed_airtime\":\"0.123392s\",\"network_ids\":{\"net_id\":\"000013\",\"tenant_id\":\"ttn\",\"cluster_id\":\"ttn-eu1\"}}}` from `v3/app-test-ttn@ttn/devices/eui-70b3d57ed004d300/up` topic\n",
      "eui-70b3d57ed004d300\n",
      "UHJlc3Npb246IDc1N21tSGc=\n",
      "b'Pression: 757mmHg'\n",
      "['757']\n",
      "<class 'list'>\n",
      "757\n",
      "<class 'int'>\n",
      "Stored 'valPressionDevice2' (int)\n",
      "Received `{\"end_device_ids\":{\"device_id\":\"eui-70b3d57ed004c6f7\",\"application_ids\":{\"application_id\":\"app-test-ttn\"},\"dev_eui\":\"70B3D57ED004C6F7\",\"join_eui\":\"0000000000000000\",\"dev_addr\":\"260BA353\"},\"correlation_ids\":[\"as:up:01FYVJFE8BN5J3PN6GHA08ZT83\",\"gs:conn:01FYVDH2X6BCG98GVJZ111QC2G\",\"gs:up:host:01FYVDH2XGYXAG0QYSHPZD8QVN\",\"gs:uplink:01FYVJFE1SZTQW99ZW8JW38ZHE\",\"ns:uplink:01FYVJFE1TZY1VDW4Y0HHCEN18\",\"rpc:/ttn.lorawan.v3.GsNs/HandleUplink:01FYVJFE1TWMXMZ8SZ0M0PX211\",\"rpc:/ttn.lorawan.v3.NsAs/HandleUplink:01FYVJFE8AFN4S9TZHQ82T4QGH\"],\"received_at\":\"2022-03-23T14:21:48.171298492Z\",\"uplink_message\":{\"session_key_id\":\"AX+3JnWB+oDGjZbKoORnPg==\",\"f_port\":2,\"f_cnt\":2,\"frm_payload\":\"UHJlc3Npb246IDc1N21tSGc=\",\"decoded_payload\":{\"message\":\"Pression: 757mmHg\"},\"rx_metadata\":[{\"gateway_ids\":{\"gateway_id\":\"iot-lab-saclay-gateway\"},\"time\":\"2022-03-23T14:21:48Z\",\"timestamp\":905339196,\"rssi\":-68,\"channel_rssi\":-68,\"snr\":11,\"location\":{\"latitude\":48.71503122196953,\"longitude\":2.205945253372193,\"altitude\":157,\"source\":\"SOURCE_REGISTRY\"},\"uplink_token\":\"ChoKGAoWaW90LWxhYi1zYWNsYXktZ2F0ZXdheRC8wtmvAxoMCPvZ7JEGENSbuMoDIOCkr9OslwE=\"}],\"settings\":{\"data_rate\":{\"lora\":{\"bandwidth\":125000,\"spreading_factor\":8}},\"coding_rate\":\"4/5\",\"frequency\":\"867100000\",\"timestamp\":905339196},\"received_at\":\"2022-03-23T14:21:47.962807723Z\",\"confirmed\":true,\"consumed_airtime\":\"0.123392s\",\"network_ids\":{\"net_id\":\"000013\",\"tenant_id\":\"ttn\",\"cluster_id\":\"ttn-eu1\"}}}` from `v3/app-test-ttn@ttn/devices/eui-70b3d57ed004c6f7/up` topic\n",
      "eui-70b3d57ed004c6f7\n",
      "UHJlc3Npb246IDc1N21tSGc=\n",
      "b'Pression: 757mmHg'\n",
      "['757']\n",
      "<class 'list'>\n",
      "757\n",
      "<class 'int'>\n",
      "Stored 'valPressionDevice1' (int)\n",
      "Received `{\"end_device_ids\":{\"device_id\":\"eui-70b3d57ed004d300\",\"application_ids\":{\"application_id\":\"app-test-ttn\"},\"dev_eui\":\"70B3D57ED004D300\",\"join_eui\":\"0000000000000000\",\"dev_addr\":\"260BE3AB\"},\"correlation_ids\":[\"as:up:01FYVJGNYW1T7G6EJAXPPXSS66\",\"gs:conn:01FYVDH2X6BCG98GVJZ111QC2G\",\"gs:up:host:01FYVDH2XGYXAG0QYSHPZD8QVN\",\"gs:uplink:01FYVJGNRA58Y0QTHTWB9C79FK\",\"ns:uplink:01FYVJGNRBHQSSV71EXXMR9D2F\",\"rpc:/ttn.lorawan.v3.GsNs/HandleUplink:01FYVJGNRB54RZP9M4Y5WNQFW7\",\"rpc:/ttn.lorawan.v3.NsAs/HandleUplink:01FYVJGNYWX2MD4VP32V6F5GB1\"],\"received_at\":\"2022-03-23T14:22:28.828988724Z\",\"uplink_message\":{\"session_key_id\":\"AX+3JeybixO2n40etnvzag==\",\"f_port\":2,\"f_cnt\":4,\"frm_payload\":\"UHJlc3Npb246IDc1N21tSGc=\",\"decoded_payload\":{\"message\":\"Pression: 757mmHg\"},\"rx_metadata\":[{\"gateway_ids\":{\"gateway_id\":\"iot-lab-saclay-gateway\"},\"time\":\"2022-03-23T14:22:29Z\",\"timestamp\":946050620,\"rssi\":-79,\"channel_rssi\":-79,\"snr\":12.5,\"location\":{\"latitude\":48.71503122196953,\"longitude\":2.205945253372193,\"altitude\":157,\"source\":\"SOURCE_REGISTRY\"},\"uplink_token\":\"ChoKGAoWaW90LWxhYi1zYWNsYXktZ2F0ZXdheRC8rI7DAxoMCKTa7JEGEMTniKcCIOC0i6jEmAE=\"}],\"settings\":{\"data_rate\":{\"lora\":{\"bandwidth\":125000,\"spreading_factor\":9}},\"coding_rate\":\"4/5\",\"frequency\":\"868300000\",\"timestamp\":946050620},\"received_at\":\"2022-03-23T14:22:28.619735515Z\",\"confirmed\":true,\"consumed_airtime\":\"0.226304s\",\"network_ids\":{\"net_id\":\"000013\",\"tenant_id\":\"ttn\",\"cluster_id\":\"ttn-eu1\"}}}` from `v3/app-test-ttn@ttn/devices/eui-70b3d57ed004d300/up` topic\n",
      "eui-70b3d57ed004d300\n",
      "UHJlc3Npb246IDc1N21tSGc=\n",
      "b'Pression: 757mmHg'\n",
      "['757']\n",
      "<class 'list'>\n",
      "757\n",
      "<class 'int'>\n",
      "Stored 'valPressionDevice2' (int)\n",
      "Received `{\"end_device_ids\":{\"device_id\":\"eui-70b3d57ed004c6f7\",\"application_ids\":{\"application_id\":\"app-test-ttn\"},\"dev_eui\":\"70B3D57ED004C6F7\",\"join_eui\":\"0000000000000000\",\"dev_addr\":\"260BA353\"},\"correlation_ids\":[\"as:up:01FYVJGW78QNJPZZNR8JZ8D9HY\",\"gs:conn:01FYVDH2X6BCG98GVJZ111QC2G\",\"gs:up:host:01FYVDH2XGYXAG0QYSHPZD8QVN\",\"gs:uplink:01FYVJGW0Q0SKHHV7YHW4RA1MK\",\"ns:uplink:01FYVJGW0TKZR1W00KXGD4J2E6\",\"rpc:/ttn.lorawan.v3.GsNs/HandleUplink:01FYVJGW0TT1HK23FF796VGF3R\",\"rpc:/ttn.lorawan.v3.NsAs/HandleUplink:01FYVJGW78XB8E5061GNKGKMJB\"],\"received_at\":\"2022-03-23T14:22:35.240625289Z\",\"uplink_message\":{\"session_key_id\":\"AX+3JnWB+oDGjZbKoORnPg==\",\"f_port\":2,\"f_cnt\":3,\"frm_payload\":\"UHJlc3Npb246IDc1N21tSGc=\",\"decoded_payload\":{\"message\":\"Pression: 757mmHg\"},\"rx_metadata\":[{\"gateway_ids\":{\"gateway_id\":\"iot-lab-saclay-gateway\"},\"time\":\"2022-03-23T14:22:35Z\",\"timestamp\":952464484,\"rssi\":-69,\"channel_rssi\":-69,\"snr\":8.25,\"location\":{\"latitude\":48.71503122196953,\"longitude\":2.205945253372193,\"altitude\":157,\"source\":\"SOURCE_REGISTRY\"},\"uplink_token\":\"ChoKGAoWaW90LWxhYi1zYWNsYXktZ2F0ZXdheRDk6JXGAxoLCKva7JEGEPPo9w4goM26mtyYAQ==\"}],\"settings\":{\"data_rate\":{\"lora\":{\"bandwidth\":125000,\"spreading_factor\":9}},\"coding_rate\":\"4/5\",\"frequency\":\"867500000\",\"timestamp\":952464484},\"received_at\":\"2022-03-23T14:22:35.034265235Z\",\"confirmed\":true,\"consumed_airtime\":\"0.226304s\",\"network_ids\":{\"net_id\":\"000013\",\"tenant_id\":\"ttn\",\"cluster_id\":\"ttn-eu1\"}}}` from `v3/app-test-ttn@ttn/devices/eui-70b3d57ed004c6f7/up` topic\n",
      "eui-70b3d57ed004c6f7\n",
      "UHJlc3Npb246IDc1N21tSGc=\n",
      "b'Pression: 757mmHg'\n",
      "['757']\n",
      "<class 'list'>\n",
      "757\n",
      "<class 'int'>\n",
      "Stored 'valPressionDevice1' (int)\n",
      "Received `{\"end_device_ids\":{\"device_id\":\"eui-70b3d57ed004c6f7\",\"application_ids\":{\"application_id\":\"app-test-ttn\"},\"dev_eui\":\"70B3D57ED004C6F7\",\"join_eui\":\"0000000000000000\",\"dev_addr\":\"260BA353\"},\"correlation_ids\":[\"as:up:01FYVJHXVQRQGH7RRJ79B2FRJ9\",\"gs:conn:01FYVDH2X6BCG98GVJZ111QC2G\",\"gs:up:host:01FYVDH2XGYXAG0QYSHPZD8QVN\",\"gs:uplink:01FYVJHXN71XX21C7KAH2XGT5X\",\"ns:uplink:01FYVJHXN7HRADHP9X7BXET9RM\",\"rpc:/ttn.lorawan.v3.GsNs/HandleUplink:01FYVJHXN7FZPQ1QG9W0EC9P5K\",\"rpc:/ttn.lorawan.v3.NsAs/HandleUplink:01FYVJHXVPZP0GHHR9FP9ST5GW\"],\"received_at\":\"2022-03-23T14:23:09.687850225Z\",\"uplink_message\":{\"session_key_id\":\"AX+3JnWB+oDGjZbKoORnPg==\",\"f_port\":2,\"f_cnt\":4,\"frm_payload\":\"UHJlc3Npb246IDc1N21tSGc=\",\"decoded_payload\":{\"message\":\"Pression: 757mmHg\"},\"rx_metadata\":[{\"gateway_ids\":{\"gateway_id\":\"iot-lab-saclay-gateway\"},\"time\":\"2022-03-23T14:23:10Z\",\"timestamp\":986855068,\"rssi\":-69,\"channel_rssi\":-69,\"snr\":8.5,\"location\":{\"latitude\":48.71503122196953,\"longitude\":2.205945253372193,\"altitude\":157,\"source\":\"SOURCE_REGISTRY\"},\"uplink_token\":\"ChoKGAoWaW90LWxhYi1zYWNsYXktZ2F0ZXdheRCc7cjWAxoMCM3a7JEGEID7uOQBIOCilancmQE=\"}],\"settings\":{\"data_rate\":{\"lora\":{\"bandwidth\":125000,\"spreading_factor\":9}},\"coding_rate\":\"4/5\",\"frequency\":\"868500000\",\"timestamp\":986855068},\"received_at\":\"2022-03-23T14:23:09.479958257Z\",\"confirmed\":true,\"consumed_airtime\":\"0.226304s\",\"network_ids\":{\"net_id\":\"000013\",\"tenant_id\":\"ttn\",\"cluster_id\":\"ttn-eu1\"}}}` from `v3/app-test-ttn@ttn/devices/eui-70b3d57ed004c6f7/up` topic\n",
      "eui-70b3d57ed004c6f7\n",
      "UHJlc3Npb246IDc1N21tSGc=\n",
      "b'Pression: 757mmHg'\n",
      "['757']\n",
      "<class 'list'>\n",
      "757\n",
      "<class 'int'>\n",
      "Stored 'valPressionDevice1' (int)\n",
      "Received `{\"end_device_ids\":{\"device_id\":\"eui-70b3d57ed004d300\",\"application_ids\":{\"application_id\":\"app-test-ttn\"},\"dev_eui\":\"70B3D57ED004D300\",\"join_eui\":\"0000000000000000\",\"dev_addr\":\"260BE3AB\"},\"correlation_ids\":[\"as:up:01FYVJJ84DE40Q0C88ZPPSQ1C9\",\"gs:conn:01FYVDH2X6BCG98GVJZ111QC2G\",\"gs:up:host:01FYVDH2XGYXAG0QYSHPZD8QVN\",\"gs:uplink:01FYVJJ7XV4AWNV9MTK63C42SY\",\"ns:uplink:01FYVJJ7XWVBACEW8DHNGAF83W\",\"rpc:/ttn.lorawan.v3.GsNs/HandleUplink:01FYVJJ7XWH52P5S81Q2MM8NVN\",\"rpc:/ttn.lorawan.v3.NsAs/HandleUplink:01FYVJJ84CSSCQ0X26WJV7E442\"],\"received_at\":\"2022-03-23T14:23:20.205279815Z\",\"uplink_message\":{\"session_key_id\":\"AX+3JeybixO2n40etnvzag==\",\"f_port\":2,\"f_cnt\":5,\"frm_payload\":\"UHJlc3Npb246IDc1N21tSGc=\",\"decoded_payload\":{\"message\":\"Pression: 757mmHg\"},\"rx_metadata\":[{\"gateway_ids\":{\"gateway_id\":\"iot-lab-saclay-gateway\"},\"time\":\"2022-03-23T14:23:20Z\",\"timestamp\":997394252,\"rssi\":-78,\"channel_rssi\":-78,\"snr\":11,\"location\":{\"latitude\":48.71503122196953,\"longitude\":2.205945253372193,\"altitude\":157,\"source\":\"SOURCE_REGISTRY\"},\"uplink_token\":\"ChoKGAoWaW90LWxhYi1zYWNsYXktZ2F0ZXdheRDMjszbAxoMCNfa7JEGEO36utoDIOCB0sqDmgE=\"}],\"settings\":{\"data_rate\":{\"lora\":{\"bandwidth\":125000,\"spreading_factor\":10}},\"coding_rate\":\"4/5\",\"frequency\":\"867100000\",\"timestamp\":997394252},\"received_at\":\"2022-03-23T14:23:19.996177407Z\",\"confirmed\":true,\"consumed_airtime\":\"0.452608s\",\"network_ids\":{\"net_id\":\"000013\",\"tenant_id\":\"ttn\",\"cluster_id\":\"ttn-eu1\"}}}` from `v3/app-test-ttn@ttn/devices/eui-70b3d57ed004d300/up` topic\n",
      "eui-70b3d57ed004d300\n",
      "UHJlc3Npb246IDc1N21tSGc=\n",
      "b'Pression: 757mmHg'\n",
      "['757']\n",
      "<class 'list'>\n",
      "757\n",
      "<class 'int'>\n",
      "Stored 'valPressionDevice2' (int)\n",
      "Received `{\"end_device_ids\":{\"device_id\":\"eui-70b3d57ed004c6f7\",\"application_ids\":{\"application_id\":\"app-test-ttn\"},\"dev_eui\":\"70B3D57ED004C6F7\",\"join_eui\":\"0000000000000000\",\"dev_addr\":\"260BA353\"},\"correlation_ids\":[\"as:up:01FYVJJPM11E3GVG61C2XD2G8S\",\"gs:conn:01FYVDH2X6BCG98GVJZ111QC2G\",\"gs:up:host:01FYVDH2XGYXAG0QYSHPZD8QVN\",\"gs:uplink:01FYVJJPCZP87GS6KC1AP6F9MV\",\"ns:uplink:01FYVJJPD0WHNCEAZ6N815EMMN\",\"rpc:/ttn.lorawan.v3.GsNs/HandleUplink:01FYVJJPD0FCV1WQPM8PKDPKMA\",\"rpc:/ttn.lorawan.v3.NsAs/HandleUplink:01FYVJJPM0KFMHVEYC9M4JE7YF\"],\"received_at\":\"2022-03-23T14:23:35.041290022Z\",\"uplink_message\":{\"session_key_id\":\"AX+3JnWB+oDGjZbKoORnPg==\",\"f_port\":2,\"f_cnt\":5,\"frm_payload\":\"UHJlc3Npb246IDc1N21tSGc=\",\"decoded_payload\":{\"message\":\"Pression: 757mmHg\"},\"rx_metadata\":[{\"gateway_ids\":{\"gateway_id\":\"iot-lab-saclay-gateway\"},\"time\":\"2022-03-23T14:23:35Z\",\"timestamp\":1012241532,\"rssi\":-69,\"channel_rssi\":-69,\"snr\":8.25,\"location\":{\"latitude\":48.71503122196953,\"longitude\":2.205945253372193,\"altitude\":157,\"source\":\"SOURCE_REGISTRY\"},\"uplink_token\":\"ChoKGAoWaW90LWxhYi1zYWNsYXktZ2F0ZXdheRD8qNbiAxoMCOba7JEGENuCgIUDIOCIsPK6mgE=\"}],\"settings\":{\"data_rate\":{\"lora\":{\"bandwidth\":125000,\"spreading_factor\":9}},\"coding_rate\":\"4/5\",\"frequency\":\"867500000\",\"timestamp\":1012241532},\"received_at\":\"2022-03-23T14:23:34.816423949Z\",\"confirmed\":true,\"consumed_airtime\":\"0.226304s\",\"network_ids\":{\"net_id\":\"000013\",\"tenant_id\":\"ttn\",\"cluster_id\":\"ttn-eu1\"}}}` from `v3/app-test-ttn@ttn/devices/eui-70b3d57ed004c6f7/up` topic\n",
      "eui-70b3d57ed004c6f7\n",
      "UHJlc3Npb246IDc1N21tSGc=\n",
      "b'Pression: 757mmHg'\n",
      "['757']\n",
      "<class 'list'>\n",
      "757\n",
      "<class 'int'>\n",
      "Stored 'valPressionDevice1' (int)\n",
      "Received `{\"end_device_ids\":{\"device_id\":\"eui-70b3d57ed004d300\",\"application_ids\":{\"application_id\":\"app-test-ttn\"},\"dev_eui\":\"70B3D57ED004D300\",\"join_eui\":\"0000000000000000\",\"dev_addr\":\"260BE3AB\"},\"correlation_ids\":[\"as:up:01FYVJK197JMXDGPK6BEFE5CEN\",\"gs:conn:01FYVDH2X6BCG98GVJZ111QC2G\",\"gs:up:host:01FYVDH2XGYXAG0QYSHPZD8QVN\",\"gs:uplink:01FYVJK12M11YA20GCAB0VRYTS\",\"ns:uplink:01FYVJK12SWNMMKVJA3F1780C2\",\"rpc:/ttn.lorawan.v3.GsNs/HandleUplink:01FYVJK12REW7CHA6TH6S61HAR\",\"rpc:/ttn.lorawan.v3.NsAs/HandleUplink:01FYVJK1963KCN7NR378A84SMT\"],\"received_at\":\"2022-03-23T14:23:45.959916155Z\",\"uplink_message\":{\"session_key_id\":\"AX+3JeybixO2n40etnvzag==\",\"f_port\":2,\"f_cnt\":6,\"frm_payload\":\"UHJlc3Npb246IDc1N21tSGc=\",\"decoded_payload\":{\"message\":\"Pression: 757mmHg\"},\"rx_metadata\":[{\"gateway_ids\":{\"gateway_id\":\"iot-lab-saclay-gateway\"},\"time\":\"2022-03-23T14:23:46Z\",\"timestamp\":1023154308,\"rssi\":-77,\"channel_rssi\":-77,\"snr\":12.25,\"location\":{\"latitude\":48.71503122196953,\"longitude\":2.205945253372193,\"altitude\":157,\"source\":\"SOURCE_REGISTRY\"},\"uplink_token\":\"ChoKGAoWaW90LWxhYi1zYWNsYXktZ2F0ZXdheRCEsfDnAxoMCPHa7JEGENei+eQCIKCH/8XjmgE=\"}],\"settings\":{\"data_rate\":{\"lora\":{\"bandwidth\":125000,\"spreading_factor\":10}},\"coding_rate\":\"4/5\",\"frequency\":\"868300000\",\"timestamp\":1023154308},\"received_at\":\"2022-03-23T14:23:45.753119164Z\",\"confirmed\":true,\"consumed_airtime\":\"0.452608s\",\"network_ids\":{\"net_id\":\"000013\",\"tenant_id\":\"ttn\",\"cluster_id\":\"ttn-eu1\"}}}` from `v3/app-test-ttn@ttn/devices/eui-70b3d57ed004d300/up` topic\n",
      "eui-70b3d57ed004d300\n",
      "UHJlc3Npb246IDc1N21tSGc=\n",
      "b'Pression: 757mmHg'\n",
      "['757']\n",
      "<class 'list'>\n",
      "757\n",
      "<class 'int'>\n",
      "Stored 'valPressionDevice2' (int)\n",
      "Received `{\"end_device_ids\":{\"device_id\":\"eui-70b3d57ed004c6f7\",\"application_ids\":{\"application_id\":\"app-test-ttn\"},\"dev_eui\":\"70B3D57ED004C6F7\",\"join_eui\":\"0000000000000000\",\"dev_addr\":\"260BA353\"},\"correlation_ids\":[\"as:up:01FYVJKFEEY3ZAW9A3GBYTBZB6\",\"gs:conn:01FYVDH2X6BCG98GVJZ111QC2G\",\"gs:up:host:01FYVDH2XGYXAG0QYSHPZD8QVN\",\"gs:uplink:01FYVJKF7XMMP2WJERDV6F3F38\",\"ns:uplink:01FYVJKF7XANSZKHE9JT79F6MR\",\"rpc:/ttn.lorawan.v3.GsNs/HandleUplink:01FYVJKF7XFAYS5N32HWF8EHFG\",\"rpc:/ttn.lorawan.v3.NsAs/HandleUplink:01FYVJKFEECW9WS6014MC0C9JK\"],\"received_at\":\"2022-03-23T14:24:00.462985338Z\",\"uplink_message\":{\"session_key_id\":\"AX+3JnWB+oDGjZbKoORnPg==\",\"f_port\":2,\"f_cnt\":6,\"frm_payload\":\"UHJlc3Npb246IDc1N21tSGc=\",\"decoded_payload\":{\"message\":\"Pression: 757mmHg\"},\"rx_metadata\":[{\"gateway_ids\":{\"gateway_id\":\"iot-lab-saclay-gateway\"},\"time\":\"2022-03-23T14:24:00Z\",\"timestamp\":1037627996,\"rssi\":-69,\"channel_rssi\":-69,\"snr\":13.25,\"location\":{\"latitude\":48.71503122196953,\"longitude\":2.205945253372193,\"altitude\":157,\"source\":\"SOURCE_REGISTRY\"},\"uplink_token\":\"ChoKGAoWaW90LWxhYi1zYWNsYXktZ2F0ZXdheRDc5OPuAxoLCIDb7JEGEK3g4Hgg4O7Ku5mbAQ==\"}],\"settings\":{\"data_rate\":{\"lora\":{\"bandwidth\":125000,\"spreading_factor\":9}},\"coding_rate\":\"4/5\",\"frequency\":\"867700000\",\"timestamp\":1037627996},\"received_at\":\"2022-03-23T14:24:00.254017773Z\",\"confirmed\":true,\"consumed_airtime\":\"0.226304s\",\"network_ids\":{\"net_id\":\"000013\",\"tenant_id\":\"ttn\",\"cluster_id\":\"ttn-eu1\"}}}` from `v3/app-test-ttn@ttn/devices/eui-70b3d57ed004c6f7/up` topic\n",
      "eui-70b3d57ed004c6f7\n",
      "UHJlc3Npb246IDc1N21tSGc=\n",
      "b'Pression: 757mmHg'\n",
      "['757']\n",
      "<class 'list'>\n",
      "757\n",
      "<class 'int'>\n",
      "Stored 'valPressionDevice1' (int)\n",
      "Received `{\"end_device_ids\":{\"device_id\":\"eui-70b3d57ed004d300\",\"application_ids\":{\"application_id\":\"app-test-ttn\"},\"dev_eui\":\"70B3D57ED004D300\",\"join_eui\":\"0000000000000000\",\"dev_addr\":\"260BE3AB\"},\"correlation_ids\":[\"as:up:01FYVJKTD5WYYN0HJDPZ0DGCEG\",\"gs:conn:01FYVDH2X6BCG98GVJZ111QC2G\",\"gs:up:host:01FYVDH2XGYXAG0QYSHPZD8QVN\",\"gs:uplink:01FYVJKT6HQ6VYCKWCFJPKBP2T\",\"ns:uplink:01FYVJKT6KZ3GM3YKAQ6G6PWXJ\",\"rpc:/ttn.lorawan.v3.GsNs/HandleUplink:01FYVJKT6KRJ76AXFSCVBJ2EN7\",\"rpc:/ttn.lorawan.v3.NsAs/HandleUplink:01FYVJKTD4HJF04SRR42N91AFY\"],\"received_at\":\"2022-03-23T14:24:11.685507271Z\",\"uplink_message\":{\"session_key_id\":\"AX+3JeybixO2n40etnvzag==\",\"f_port\":2,\"f_cnt\":7,\"frm_payload\":\"UHJlc3Npb246IDc1N21tSGc=\",\"decoded_payload\":{\"message\":\"Pression: 757mmHg\"},\"rx_metadata\":[{\"gateway_ids\":{\"gateway_id\":\"iot-lab-saclay-gateway\"},\"time\":\"2022-03-23T14:24:12Z\",\"timestamp\":1048914284,\"rssi\":-77,\"channel_rssi\":-77,\"snr\":11.75,\"location\":{\"latitude\":48.71503122196953,\"longitude\":2.205945253372193,\"altitude\":157,\"source\":\"SOURCE_REGISTRY\"},\"uplink_token\":\"ChoKGAoWaW90LWxhYi1zYWNsYXktZ2F0ZXdheRDs0pT0AxoMCIvb7JEGEKCE4+EBIOCbp8HDmwE=\"}],\"settings\":{\"data_rate\":{\"lora\":{\"bandwidth\":125000,\"spreading_factor\":10}},\"coding_rate\":\"4/5\",\"frequency\":\"867300000\",\"timestamp\":1048914284},\"received_at\":\"2022-03-23T14:24:11.475972674Z\",\"confirmed\":true,\"consumed_airtime\":\"0.452608s\",\"network_ids\":{\"net_id\":\"000013\",\"tenant_id\":\"ttn\",\"cluster_id\":\"ttn-eu1\"}}}` from `v3/app-test-ttn@ttn/devices/eui-70b3d57ed004d300/up` topic\n",
      "eui-70b3d57ed004d300\n",
      "UHJlc3Npb246IDc1N21tSGc=\n",
      "b'Pression: 757mmHg'\n",
      "['757']\n",
      "<class 'list'>\n",
      "757\n",
      "<class 'int'>\n",
      "Stored 'valPressionDevice2' (int)\n",
      "Received `{\"end_device_ids\":{\"device_id\":\"eui-70b3d57ed004d300\",\"application_ids\":{\"application_id\":\"app-test-ttn\"},\"dev_eui\":\"70B3D57ED004D300\",\"join_eui\":\"0000000000000000\",\"dev_addr\":\"260BE3AB\"},\"correlation_ids\":[\"as:up:01FYVJMKH91NV2D36CQHFT5TA5\",\"gs:conn:01FYVDH2X6BCG98GVJZ111QC2G\",\"gs:up:host:01FYVDH2XGYXAG0QYSHPZD8QVN\",\"gs:uplink:01FYVJMKAQQW73AMS0W6PQZ4MH\",\"ns:uplink:01FYVJMKAR011T4RHMXAANPEZ7\",\"rpc:/ttn.lorawan.v3.GsNs/HandleUplink:01FYVJMKAR38JNFS8J8HARAAJX\",\"rpc:/ttn.lorawan.v3.NsAs/HandleUplink:01FYVJMKH9C5V8W8KYJWWASZG6\"],\"received_at\":\"2022-03-23T14:24:37.417961743Z\",\"uplink_message\":{\"session_key_id\":\"AX+3JeybixO2n40etnvzag==\",\"f_port\":2,\"f_cnt\":8,\"frm_payload\":\"UHJlc3Npb246IDc1N21tSGc=\",\"decoded_payload\":{\"message\":\"Pression: 757mmHg\"},\"rx_metadata\":[{\"gateway_ids\":{\"gateway_id\":\"iot-lab-saclay-gateway\"},\"time\":\"2022-03-23T14:24:37Z\",\"timestamp\":1074674244,\"rssi\":-77,\"channel_rssi\":-77,\"snr\":11.5,\"location\":{\"latitude\":48.71503122196953,\"longitude\":2.205945253372193,\"altitude\":157,\"source\":\"SOURCE_REGISTRY\"},\"uplink_token\":\"ChoKGAoWaW90LWxhYi1zYWNsYXktZ2F0ZXdheRDE9LiABBoLCKXb7JEGEPKrkWMgoLPOvKOcAQ==\"}],\"settings\":{\"data_rate\":{\"lora\":{\"bandwidth\":125000,\"spreading_factor\":10}},\"coding_rate\":\"4/5\",\"frequency\":\"868300000\",\"timestamp\":1074674244},\"received_at\":\"2022-03-23T14:24:37.208551921Z\",\"confirmed\":true,\"consumed_airtime\":\"0.452608s\",\"network_ids\":{\"net_id\":\"000013\",\"tenant_id\":\"ttn\",\"cluster_id\":\"ttn-eu1\"}}}` from `v3/app-test-ttn@ttn/devices/eui-70b3d57ed004d300/up` topic\n",
      "eui-70b3d57ed004d300\n",
      "UHJlc3Npb246IDc1N21tSGc=\n",
      "b'Pression: 757mmHg'\n",
      "['757']\n",
      "<class 'list'>\n",
      "757\n",
      "<class 'int'>\n",
      "Stored 'valPressionDevice2' (int)\n",
      "Received `{\"end_device_ids\":{\"device_id\":\"eui-70b3d57ed004c6f7\",\"application_ids\":{\"application_id\":\"app-test-ttn\"},\"dev_eui\":\"70B3D57ED004C6F7\",\"join_eui\":\"0000000000000000\",\"dev_addr\":\"260BA353\"},\"correlation_ids\":[\"as:up:01FYVJMYFGCG71FKTCFAYHJ9JN\",\"gs:conn:01FYVDH2X6BCG98GVJZ111QC2G\",\"gs:up:host:01FYVDH2XGYXAG0QYSHPZD8QVN\",\"gs:uplink:01FYVJMY8WC6342RFZJCKSJEAP\",\"ns:uplink:01FYVJMY8XFEY65FR8EG8EE7JV\",\"rpc:/ttn.lorawan.v3.GsNs/HandleUplink:01FYVJMY8W0G0PZNQHWJDNNWBF\",\"rpc:/ttn.lorawan.v3.NsAs/HandleUplink:01FYVJMYFFX1SV9GADEDN0TABF\"],\"received_at\":\"2022-03-23T14:24:48.624611353Z\",\"uplink_message\":{\"session_key_id\":\"AX+3JnWB+oDGjZbKoORnPg==\",\"f_port\":2,\"f_cnt\":7,\"frm_payload\":\"UHJlc3Npb246IDc1N21tSGc=\",\"decoded_payload\":{\"message\":\"Pression: 757mmHg\"},\"rx_metadata\":[{\"gateway_ids\":{\"gateway_id\":\"iot-lab-saclay-gateway\"},\"time\":\"2022-03-23T14:24:49Z\",\"timestamp\":1085724148,\"rssi\":-66,\"channel_rssi\":-66,\"snr\":10.5,\"location\":{\"latitude\":48.71503122196953,\"longitude\":2.205945253372193,\"altitude\":157,\"source\":\"SOURCE_REGISTRY\"},\"uplink_token\":\"ChoKGAoWaW90LWxhYi1zYWNsYXktZ2F0ZXdheRD0q9uFBBoMCLDb7JEGEIqjusQBIKCCz9HMnAE=\"}],\"settings\":{\"data_rate\":{\"lora\":{\"bandwidth\":125000,\"spreading_factor\":10}},\"coding_rate\":\"4/5\",\"frequency\":\"868100000\",\"timestamp\":1085724148},\"received_at\":\"2022-03-23T14:24:48.413075296Z\",\"confirmed\":true,\"consumed_airtime\":\"0.452608s\",\"network_ids\":{\"net_id\":\"000013\",\"tenant_id\":\"ttn\",\"cluster_id\":\"ttn-eu1\"}}}` from `v3/app-test-ttn@ttn/devices/eui-70b3d57ed004c6f7/up` topic\n",
      "eui-70b3d57ed004c6f7\n",
      "UHJlc3Npb246IDc1N21tSGc=\n",
      "b'Pression: 757mmHg'\n",
      "['757']\n",
      "<class 'list'>\n",
      "757\n",
      "<class 'int'>\n",
      "Stored 'valPressionDevice1' (int)\n",
      "Received `{\"end_device_ids\":{\"device_id\":\"eui-70b3d57ed004d300\",\"application_ids\":{\"application_id\":\"app-test-ttn\"},\"dev_eui\":\"70B3D57ED004D300\",\"join_eui\":\"0000000000000000\",\"dev_addr\":\"260BE3AB\"},\"correlation_ids\":[\"as:up:01FYVJNCSNQ9M76XBMS2PVWZM2\",\"gs:conn:01FYVDH2X6BCG98GVJZ111QC2G\",\"gs:up:host:01FYVDH2XGYXAG0QYSHPZD8QVN\",\"gs:uplink:01FYVJNCJ96R1EPF0JVJME3EYJ\",\"ns:uplink:01FYVJNCJBBW40NF0Q6G6VZ0WF\",\"rpc:/ttn.lorawan.v3.GsNs/HandleUplink:01FYVJNCJB7EA1SBFX14EK6EHS\",\"rpc:/ttn.lorawan.v3.NsAs/HandleUplink:01FYVJNCS05S0KQGA7ZSQGYCWG\"],\"received_at\":\"2022-03-23T14:25:03.285916944Z\",\"uplink_message\":{\"session_key_id\":\"AX+3JeybixO2n40etnvzag==\",\"f_port\":2,\"f_cnt\":9,\"frm_payload\":\"UHJlc3Npb246IDc1N21tSGc=\",\"decoded_payload\":{\"message\":\"Pression: 757mmHg\"},\"rx_metadata\":[{\"gateway_ids\":{\"gateway_id\":\"iot-lab-saclay-gateway\"},\"time\":\"2022-03-23T14:25:03Z\",\"timestamp\":1100434212,\"rssi\":-77,\"channel_rssi\":-77,\"snr\":9.5,\"location\":{\"latitude\":48.71503122196953,\"longitude\":2.205945253372193,\"altitude\":157,\"source\":\"SOURCE_REGISTRY\"},\"uplink_token\":\"ChoKGAoWaW90LWxhYi1zYWNsYXktZ2F0ZXdheRCklt2MBBoLCL/b7JEGEK6wwRYgoIn2t4OdAQ==\"}],\"settings\":{\"data_rate\":{\"lora\":{\"bandwidth\":125000,\"spreading_factor\":10}},\"coding_rate\":\"4/5\",\"frequency\":\"867500000\",\"timestamp\":1100434212},\"received_at\":\"2022-03-23T14:25:03.051902441Z\",\"confirmed\":true,\"consumed_airtime\":\"0.452608s\",\"network_ids\":{\"net_id\":\"000013\",\"tenant_id\":\"ttn\",\"cluster_id\":\"ttn-eu1\"}}}` from `v3/app-test-ttn@ttn/devices/eui-70b3d57ed004d300/up` topic\n",
      "eui-70b3d57ed004d300\n",
      "UHJlc3Npb246IDc1N21tSGc=\n",
      "b'Pression: 757mmHg'\n",
      "['757']\n",
      "<class 'list'>\n",
      "757\n",
      "<class 'int'>\n",
      "Stored 'valPressionDevice2' (int)\n",
      "Received `{\"end_device_ids\":{\"device_id\":\"eui-70b3d57ed004c6f7\",\"application_ids\":{\"application_id\":\"app-test-ttn\"},\"dev_eui\":\"70B3D57ED004C6F7\",\"join_eui\":\"0000000000000000\",\"dev_addr\":\"260BA353\"},\"correlation_ids\":[\"as:up:01FYVJNQH0BDEBSDN7HK3YK5DY\",\"gs:conn:01FYVDH2X6BCG98GVJZ111QC2G\",\"gs:up:host:01FYVDH2XGYXAG0QYSHPZD8QVN\",\"gs:uplink:01FYVJNQAJK1KEHY9WGHT2M7SQ\",\"ns:uplink:01FYVJNQAKZ8KVXMPYXHPZQVDX\",\"rpc:/ttn.lorawan.v3.GsNs/HandleUplink:01FYVJNQAJJXBSTKF42BEC73MZ\",\"rpc:/ttn.lorawan.v3.NsAs/HandleUplink:01FYVJNQH0D6QFG9PX83V3VQJF\"],\"received_at\":\"2022-03-23T14:25:14.272715142Z\",\"uplink_message\":{\"session_key_id\":\"AX+3JnWB+oDGjZbKoORnPg==\",\"f_port\":2,\"f_cnt\":8,\"frm_payload\":\"UHJlc3Npb246IDc1N21tSGc=\",\"decoded_payload\":{\"message\":\"Pression: 757mmHg\"},\"rx_metadata\":[{\"gateway_ids\":{\"gateway_id\":\"iot-lab-saclay-gateway\"},\"time\":\"2022-03-23T14:25:14Z\",\"timestamp\":1111484476,\"rssi\":-67,\"channel_rssi\":-67,\"snr\":14,\"location\":{\"latitude\":48.71503122196953,\"longitude\":2.205945253372193,\"altitude\":157,\"source\":\"SOURCE_REGISTRY\"},\"uplink_token\":\"ChoKGAoWaW90LWxhYi1zYWNsYXktZ2F0ZXdheRC80P+RBBoLCMrb7JEGENj7zR8g4NSMzaydAQ==\"}],\"settings\":{\"data_rate\":{\"lora\":{\"bandwidth\":125000,\"spreading_factor\":10}},\"coding_rate\":\"4/5\",\"frequency\":\"867300000\",\"timestamp\":1111484476},\"received_at\":\"2022-03-23T14:25:14.067128787Z\",\"confirmed\":true,\"consumed_airtime\":\"0.452608s\",\"network_ids\":{\"net_id\":\"000013\",\"tenant_id\":\"ttn\",\"cluster_id\":\"ttn-eu1\"}}}` from `v3/app-test-ttn@ttn/devices/eui-70b3d57ed004c6f7/up` topic\n",
      "eui-70b3d57ed004c6f7\n",
      "UHJlc3Npb246IDc1N21tSGc=\n",
      "b'Pression: 757mmHg'\n",
      "['757']\n",
      "<class 'list'>\n",
      "757\n",
      "<class 'int'>\n",
      "Stored 'valPressionDevice1' (int)\n",
      "Received `{\"end_device_ids\":{\"device_id\":\"eui-70b3d57ed004d300\",\"application_ids\":{\"application_id\":\"app-test-ttn\"},\"dev_eui\":\"70B3D57ED004D300\",\"join_eui\":\"0000000000000000\",\"dev_addr\":\"260BE3AB\"},\"correlation_ids\":[\"as:up:01FYVJP5X11N895JCKDF88NBXZ\",\"gs:conn:01FYVDH2X6BCG98GVJZ111QC2G\",\"gs:up:host:01FYVDH2XGYXAG0QYSHPZD8QVN\",\"gs:uplink:01FYVJP5PGJJKHHP6ZNT7NYNZ4\",\"ns:uplink:01FYVJP5PG2SN4FN0W55C91H13\",\"rpc:/ttn.lorawan.v3.GsNs/HandleUplink:01FYVJP5PGCJMQN5ZP3TAC30EH\",\"rpc:/ttn.lorawan.v3.NsAs/HandleUplink:01FYVJP5X0Y1FPGECXEYCVFBKY\"],\"received_at\":\"2022-03-23T14:25:28.993404514Z\",\"uplink_message\":{\"session_key_id\":\"AX+3JeybixO2n40etnvzag==\",\"f_port\":2,\"f_cnt\":10,\"frm_payload\":\"UHJlc3Npb246IDc1N21tSGc=\",\"decoded_payload\":{\"message\":\"Pression: 757mmHg\"},\"rx_metadata\":[{\"gateway_ids\":{\"gateway_id\":\"iot-lab-saclay-gateway\"},\"time\":\"2022-03-23T14:25:29Z\",\"timestamp\":1126194172,\"rssi\":-74,\"channel_rssi\":-74,\"snr\":12.25,\"location\":{\"latitude\":48.71503122196953,\"longitude\":2.205945253372193,\"altitude\":157,\"source\":\"SOURCE_REGISTRY\"},\"uplink_token\":\"ChoKGAoWaW90LWxhYi1zYWNsYXktZ2F0ZXdheRD8t4GZBBoMCNjb7JEGEMHb8vUCIOCgnbPjnQE=\"}],\"settings\":{\"data_rate\":{\"lora\":{\"bandwidth\":125000,\"spreading_factor\":10}},\"coding_rate\":\"4/5\",\"frequency\":\"868300000\",\"timestamp\":1126194172},\"received_at\":\"2022-03-23T14:25:28.784979830Z\",\"confirmed\":true,\"consumed_airtime\":\"0.452608s\",\"network_ids\":{\"net_id\":\"000013\",\"tenant_id\":\"ttn\",\"cluster_id\":\"ttn-eu1\"}}}` from `v3/app-test-ttn@ttn/devices/eui-70b3d57ed004d300/up` topic\n",
      "eui-70b3d57ed004d300\n",
      "UHJlc3Npb246IDc1N21tSGc=\n",
      "b'Pression: 757mmHg'\n",
      "['757']\n",
      "<class 'list'>\n",
      "757\n",
      "<class 'int'>\n",
      "Stored 'valPressionDevice2' (int)\n",
      "Received `{\"end_device_ids\":{\"device_id\":\"eui-70b3d57ed004c6f7\",\"application_ids\":{\"application_id\":\"app-test-ttn\"},\"dev_eui\":\"70B3D57ED004C6F7\",\"join_eui\":\"0000000000000000\",\"dev_addr\":\"260BA353\"},\"correlation_ids\":[\"as:up:01FYVJPGNPD0565X7V02SQ3ANY\",\"gs:conn:01FYVDH2X6BCG98GVJZ111QC2G\",\"gs:up:host:01FYVDH2XGYXAG0QYSHPZD8QVN\",\"gs:uplink:01FYVJPGERVHBAJNGSH214Y624\",\"ns:uplink:01FYVJPGERGW0HVHV3NGCBXAFS\",\"rpc:/ttn.lorawan.v3.GsNs/HandleUplink:01FYVJPGERAW52TWDZ0TA529J9\",\"rpc:/ttn.lorawan.v3.NsAs/HandleUplink:01FYVJPGNP6EK6BS91GZVWRWVY\"],\"received_at\":\"2022-03-23T14:25:40.023076882Z\",\"uplink_message\":{\"session_key_id\":\"AX+3JnWB+oDGjZbKoORnPg==\",\"f_port\":2,\"f_cnt\":9,\"frm_payload\":\"UHJlc3Npb246IDc1N21tSGc=\",\"decoded_payload\":{\"message\":\"Pression: 757mmHg\"},\"rx_metadata\":[{\"gateway_ids\":{\"gateway_id\":\"iot-lab-saclay-gateway\"},\"time\":\"2022-03-23T14:25:40Z\",\"timestamp\":1137244796,\"rssi\":-66,\"channel_rssi\":-66,\"snr\":13.5,\"location\":{\"latitude\":48.71503122196953,\"longitude\":2.205945253372193,\"altitude\":157,\"source\":\"SOURCE_REGISTRY\"},\"uplink_token\":\"ChoKGAoWaW90LWxhYi1zYWNsYXktZ2F0ZXdheRD89KOeBBoMCOPb7JEGEPqAvf0CIODoyciMngE=\"}],\"settings\":{\"data_rate\":{\"lora\":{\"bandwidth\":125000,\"spreading_factor\":10}},\"coding_rate\":\"4/5\",\"frequency\":\"868300000\",\"timestamp\":1137244796},\"received_at\":\"2022-03-23T14:25:39.800954097Z\",\"confirmed\":true,\"consumed_airtime\":\"0.452608s\",\"network_ids\":{\"net_id\":\"000013\",\"tenant_id\":\"ttn\",\"cluster_id\":\"ttn-eu1\"}}}` from `v3/app-test-ttn@ttn/devices/eui-70b3d57ed004c6f7/up` topic\n",
      "eui-70b3d57ed004c6f7\n",
      "UHJlc3Npb246IDc1N21tSGc=\n",
      "b'Pression: 757mmHg'\n",
      "['757']\n",
      "<class 'list'>\n",
      "757\n",
      "<class 'int'>\n",
      "Stored 'valPressionDevice1' (int)\n"
     ]
    },
    {
     "ename": "KeyboardInterrupt",
     "evalue": "",
     "output_type": "error",
     "traceback": [
      "\u001b[0;31m---------------------------------------------------------------------------\u001b[0m",
      "\u001b[0;31mKeyboardInterrupt\u001b[0m                         Traceback (most recent call last)",
      "Input \u001b[0;32mIn [13]\u001b[0m, in \u001b[0;36m<module>\u001b[0;34m\u001b[0m\n\u001b[1;32m     60\u001b[0m client\u001b[38;5;241m.\u001b[39musername_pw_set(\u001b[38;5;124m'\u001b[39m\u001b[38;5;124mapp-test-ttn\u001b[39m\u001b[38;5;124m'\u001b[39m,PSW)\n\u001b[1;32m     62\u001b[0m client\u001b[38;5;241m.\u001b[39mconnect(\u001b[38;5;124m'\u001b[39m\u001b[38;5;124meu1.cloud.thethings.network\u001b[39m\u001b[38;5;124m'\u001b[39m, \u001b[38;5;241m8883\u001b[39m, \u001b[38;5;241m60\u001b[39m)\n\u001b[0;32m---> 64\u001b[0m \u001b[43mclient\u001b[49m\u001b[38;5;241;43m.\u001b[39;49m\u001b[43mloop_forever\u001b[49m\u001b[43m(\u001b[49m\u001b[43m)\u001b[49m\n",
      "File \u001b[0;32m/opt/conda/lib/python3.9/site-packages/paho/mqtt/client.py:1756\u001b[0m, in \u001b[0;36mClient.loop_forever\u001b[0;34m(self, timeout, max_packets, retry_first_connection)\u001b[0m\n\u001b[1;32m   1754\u001b[0m rc \u001b[38;5;241m=\u001b[39m MQTT_ERR_SUCCESS\n\u001b[1;32m   1755\u001b[0m \u001b[38;5;28;01mwhile\u001b[39;00m rc \u001b[38;5;241m==\u001b[39m MQTT_ERR_SUCCESS:\n\u001b[0;32m-> 1756\u001b[0m     rc \u001b[38;5;241m=\u001b[39m \u001b[38;5;28;43mself\u001b[39;49m\u001b[38;5;241;43m.\u001b[39;49m\u001b[43m_loop\u001b[49m\u001b[43m(\u001b[49m\u001b[43mtimeout\u001b[49m\u001b[43m)\u001b[49m\n\u001b[1;32m   1757\u001b[0m     \u001b[38;5;66;03m# We don't need to worry about locking here, because we've\u001b[39;00m\n\u001b[1;32m   1758\u001b[0m     \u001b[38;5;66;03m# either called loop_forever() when in single threaded mode, or\u001b[39;00m\n\u001b[1;32m   1759\u001b[0m     \u001b[38;5;66;03m# in multi threaded mode when loop_stop() has been called and\u001b[39;00m\n\u001b[1;32m   1760\u001b[0m     \u001b[38;5;66;03m# so no other threads can access _out_packet or _messages.\u001b[39;00m\n\u001b[1;32m   1761\u001b[0m     \u001b[38;5;28;01mif\u001b[39;00m (\u001b[38;5;28mself\u001b[39m\u001b[38;5;241m.\u001b[39m_thread_terminate \u001b[38;5;129;01mis\u001b[39;00m \u001b[38;5;28;01mTrue\u001b[39;00m\n\u001b[1;32m   1762\u001b[0m         \u001b[38;5;129;01mand\u001b[39;00m \u001b[38;5;28mlen\u001b[39m(\u001b[38;5;28mself\u001b[39m\u001b[38;5;241m.\u001b[39m_out_packet) \u001b[38;5;241m==\u001b[39m \u001b[38;5;241m0\u001b[39m\n\u001b[1;32m   1763\u001b[0m             \u001b[38;5;129;01mand\u001b[39;00m \u001b[38;5;28mlen\u001b[39m(\u001b[38;5;28mself\u001b[39m\u001b[38;5;241m.\u001b[39m_out_messages) \u001b[38;5;241m==\u001b[39m \u001b[38;5;241m0\u001b[39m):\n",
      "File \u001b[0;32m/opt/conda/lib/python3.9/site-packages/paho/mqtt/client.py:1150\u001b[0m, in \u001b[0;36mClient._loop\u001b[0;34m(self, timeout)\u001b[0m\n\u001b[1;32m   1147\u001b[0m     rlist \u001b[38;5;241m=\u001b[39m [\u001b[38;5;28mself\u001b[39m\u001b[38;5;241m.\u001b[39m_sock, \u001b[38;5;28mself\u001b[39m\u001b[38;5;241m.\u001b[39m_sockpairR]\n\u001b[1;32m   1149\u001b[0m \u001b[38;5;28;01mtry\u001b[39;00m:\n\u001b[0;32m-> 1150\u001b[0m     socklist \u001b[38;5;241m=\u001b[39m \u001b[43mselect\u001b[49m\u001b[38;5;241;43m.\u001b[39;49m\u001b[43mselect\u001b[49m\u001b[43m(\u001b[49m\u001b[43mrlist\u001b[49m\u001b[43m,\u001b[49m\u001b[43m \u001b[49m\u001b[43mwlist\u001b[49m\u001b[43m,\u001b[49m\u001b[43m \u001b[49m\u001b[43m[\u001b[49m\u001b[43m]\u001b[49m\u001b[43m,\u001b[49m\u001b[43m \u001b[49m\u001b[43mtimeout\u001b[49m\u001b[43m)\u001b[49m\n\u001b[1;32m   1151\u001b[0m \u001b[38;5;28;01mexcept\u001b[39;00m \u001b[38;5;167;01mTypeError\u001b[39;00m:\n\u001b[1;32m   1152\u001b[0m     \u001b[38;5;66;03m# Socket isn't correct type, in likelihood connection is lost\u001b[39;00m\n\u001b[1;32m   1153\u001b[0m     \u001b[38;5;28;01mreturn\u001b[39;00m MQTT_ERR_CONN_LOST\n",
      "\u001b[0;31mKeyboardInterrupt\u001b[0m: "
     ]
    }
   ],
   "source": [
    "import paho.mqtt.client as mqtt\n",
    "import json\n",
    "import base64\n",
    "import re\n",
    "\n",
    "valPressionDevice1 = 1\n",
    "valPressionDevice2 = 2\n",
    "\n",
    "PSW = 'NNSXS.Z73HJOZDGASSNLZALUGMK3BZCQHFERGYYKQDLMQ.DRNU23S2HH3LPQ2B6XCIWYOH3ZYLWMX2SON7RHNA6TPHLI3UVCHA'\n",
    "\n",
    "# The callback for when the client receives a CONNACK response from the server.\n",
    "def on_connect(client, userdata, flags, rc):\n",
    "    print('Connected with result code ' + str(rc))\n",
    "    client.subscribe('v3/+/devices/+/up')\n",
    " \n",
    "# The callback for when a PUBLISH message is received from the server.\n",
    "def on_message(client, userdata, msg):    \n",
    "    print(f\"Received `{msg.payload.decode()}` from `{msg.topic}` topic\")\n",
    "    resultat = json.loads(msg.payload.decode())\n",
    "    \n",
    "    device = resultat['end_device_ids']\n",
    "    deviceTTN = device['device_id']\n",
    "    print(deviceTTN)\n",
    "    \n",
    "    if(deviceTTN == 'eui-70b3d57ed004c6f7'):\n",
    "        uplink_message = resultat['uplink_message']\n",
    "        payload_final = uplink_message['frm_payload']\n",
    "        print(payload_final)\n",
    "        print(base64.b64decode(payload_final))\n",
    "        valeurPressionDevice1 = re.findall(r'\\d+', base64.b64decode(payload_final).decode(\"utf-8\"))\n",
    "        \n",
    "        print(valeurPressionDevice1)\n",
    "        print(type(valeurPressionDevice1))\n",
    "        valeurPressionDevice1 = int(valeurPressionDevice1[0])\n",
    "        print(valeurPressionDevice1)\n",
    "        print(type(valeurPressionDevice1))\n",
    "        valPressionDevice1 = valeurPressionDevice1\n",
    "        %store valPressionDevice1\n",
    "        \n",
    "    else:\n",
    "        uplink_message = resultat['uplink_message']\n",
    "        payload_final = uplink_message['frm_payload']\n",
    "        print(payload_final)\n",
    "        print(base64.b64decode(payload_final))\n",
    "        valeurPressionDevice2 = re.findall(r'\\d+', base64.b64decode(payload_final).decode(\"utf-8\"))\n",
    "        \n",
    "        print(valeurPressionDevice2)\n",
    "        print(type(valeurPressionDevice2))\n",
    "        valeurPressionDevice2 = int(valeurPressionDevice2[0])\n",
    "        print(valeurPressionDevice2)\n",
    "        print(type(valeurPressionDevice2))\n",
    "        valPressionDevice2 = valeurPressionDevice2\n",
    "        %store valPressionDevice2\n",
    "    \n",
    " \n",
    "client = mqtt.Client()\n",
    "client.on_connect = on_connect\n",
    "client.on_message = on_message\n",
    "client.tls_set()\n",
    "client.username_pw_set('app-test-ttn',PSW)\n",
    " \n",
    "client.connect('eu1.cloud.thethings.network', 8883, 60)\n",
    " \n",
    "client.loop_forever()"
   ]
  },
  {
   "cell_type": "markdown",
   "id": "fe40fb9c-eb24-43b4-92d8-c5b680e28f05",
   "metadata": {},
   "source": [
    "#### EXEMPLE DE SORTIE:\n",
    "\n",
    "Received `{\"end_device_ids\":{\"device_id\":\"eui-70b3d57ed004c6f7\",\"application_ids\":{\"application_id\":\"app-test-ttn\"},\"dev_eui\":\"70B3D57ED004C6F7\",\"join_eui\":\"0000000000000000\",\"dev_addr\":\"260B194E\"},\"correlation_ids\":[\"as:up:01FYTZK05PCPPT84W8N7N61QW9\",\"gs:conn:01FYTYA91A78T5MG4NZS24H1P8\",\"gs:up:host:01FYTYA91HBVRMEPG93857KJP5\",\"gs:uplink:01FYTZJZZ3CGD971V7393TQB25\",\"ns:uplink:01FYTZJZZ4BK1EY3Q7YKJ79MSB\",\"rpc:/ttn.lorawan.v3.GsNs/HandleUplink:01FYTZJZZ3Z1WYA1VQKV17M0RS\",\"rpc:/ttn.lorawan.v3.NsAs/HandleUplink:01FYTZK05NVJ1E7S053V4HSEH6\"],\"received_at\":\"2022-03-23T08:51:41.878117674Z\",\"uplink_message\":{\"session_key_id\":\"AX+19UaeK7Y0bHnfZaIXmA==\",\"f_port\":2,\"f_cnt\":9,\"frm_payload\":\"UHJlc3Npb246IDc1OW1tSGc=\",\"decoded_payload\":{\"message\":\"Pression: 759mmHg\"},\"rx_metadata\":[{\"gateway_ids\":{\"gateway_id\":\"iot-lab-saclay-gateway\"},\"time\":\"2022-03-23T08:51:41Z\",\"timestamp\":1345720140,\"rssi\":-89,\"channel_rssi\":-89,\"snr\":13.75,\"location\":{\"latitude\":48.71503122196953,\"longitude\":2.205945253372193,\"altitude\":157,\"source\":\"SOURCE_REGISTRY\"},\"uplink_token\":\"ChoKGAoWaW90LWxhYi1zYWNsYXktZ2F0ZXdheRDMntiBBRoMCJ2/65EGEPG5kb4CIOCBr5mVJw==\"}],\"settings\":{\"data_rate\":{\"lora\":{\"bandwidth\":125000,\"spreading_factor\":9}},\"coding_rate\":\"4/5\",\"frequency\":\"867100000\",\"timestamp\":1345720140},\"received_at\":\"2022-03-23T08:51:41.668161580Z\",\"confirmed\":true,\"consumed_airtime\":\"0.226304s\",\"network_ids\":{\"net_id\":\"000013\",\"tenant_id\":\"ttn\",\"cluster_id\":\"ttn-eu1\"}}}` from `v3/app-test-ttn@ttn/devices/eui-70b3d57ed004c6f7/up` topic\n",
    "eui-70b3d57ed004c6f7\n",
    "UHJlc3Npb246IDc1OW1tSGc=\n",
    "b'Pression: 759mmHg'\n",
    "['759']\n",
    "\n",
    "On peut bien retrouver la pression"
   ]
  },
  {
   "cell_type": "markdown",
   "id": "213d0a37-c4f8-461c-9189-bce1e8b346ae",
   "metadata": {},
   "source": [
    "Commande pour s'abonner au broker mqtt avec mosquitto \n",
    "\n",
    "Dans une cellule pour générer le certificat: "
   ]
  },
  {
   "cell_type": "code",
   "execution_count": null,
   "id": "7ca5fc69-4d4f-4571-8f3f-1149f603db6e",
   "metadata": {},
   "outputs": [],
   "source": [
    "!wget https://letsencrypt.org/certs/isrgrootx1.pem"
   ]
  },
  {
   "cell_type": "markdown",
   "id": "f559f37f-dcb8-40f7-8a56-8c53e5f884f8",
   "metadata": {},
   "source": [
    "Dans un terminal: "
   ]
  },
  {
   "cell_type": "code",
   "execution_count": null,
   "id": "abdc1d46-24ea-4825-a503-b4928a40dd5a",
   "metadata": {},
   "outputs": [],
   "source": [
    "mosquitto_sub -h eu1.cloud.thethings.network --cafile riot/lorawan/ttn-mqtt/isrgrootx1.pem -p 8883 -t 'v3/+/devices/+/up' -u 'app-test-ttn@ttn' -P 'NNSXS.Z73HJOZDGASSNLZALUGMK3BZCQHFERGYYKQDLMQ.DRNU23S2HH3LPQ2B6XCIWYOH3ZYLWMX2SON7RHNA6TPHLI3UVCHA' -v"
   ]
  },
  {
   "cell_type": "markdown",
   "id": "64c762b2-4197-41f6-a190-d24f8bbf3aa8",
   "metadata": {},
   "source": [
    "### CODE POUR AFFICHER LES DONNEES SUR UNE CARTE"
   ]
  },
  {
   "cell_type": "code",
   "execution_count": 12,
   "id": "41c03003-ba00-4c3c-b64f-a25b0182e8a0",
   "metadata": {},
   "outputs": [
    {
     "data": {
      "image/png": "[encoded data removed]",
      "text/plain": [
       "<Figure size 432x288 with 1 Axes>"
      ]
     },
     "metadata": {
      "needs_background": "light"
     },
     "output_type": "display_data"
    }
   ],
   "source": [
    "import matplotlib.pyplot as plt\n",
    "import matplotlib.image as mpimg\n",
    "import numpy as np\n",
    "#import PIL.Image\n",
    "\n",
    "image = mpimg.imread(\"carte_france.png\")\n",
    "\n",
    "plt.imshow(image)\n",
    "plt.plot(470, 230, \"og\", markersize=5)  # og: point vert\n",
    "plt.text(485,230,'Paris/Saclay',horizontalalignment='left')\n",
    "plt.text(485,280,str(pressSaclay),horizontalalignment='left')\n",
    "\n",
    "plt.plot(680, 750, \"or\", markersize=5)\n",
    "plt.text(695,750,'Marseille',horizontalalignment='left')\n",
    "plt.text(695,800, str(pressMarseille),horizontalalignment='left')\n",
    "\n",
    "plt.show()"
   ]
  },
  {
   "cell_type": "markdown",
   "id": "21434ec3-c119-4053-b503-4e433c586f34",
   "metadata": {},
   "source": [
    "### CODE POUR PUBLIER SUR LE BROKER MQTT\n",
    "Downlink vers les cartes"
   ]
  },
  {
   "cell_type": "code",
   "execution_count": 41,
   "id": "0e96948b-cb33-420b-8307-7bbccff2e60f",
   "metadata": {},
   "outputs": [
    {
     "ename": "TypeError",
     "evalue": "a bytes-like object is required, not 'str'",
     "output_type": "error",
     "traceback": [
      "\u001b[0;31m---------------------------------------------------------------------------\u001b[0m",
      "\u001b[0;31mTypeError\u001b[0m                                 Traceback (most recent call last)",
      "Input \u001b[0;32mIn [41]\u001b[0m, in \u001b[0;36m<module>\u001b[0;34m\u001b[0m\n\u001b[1;32m      6\u001b[0m difference \u001b[38;5;241m=\u001b[39m pressSaclay \u001b[38;5;241m-\u001b[39m valeurPressionDevice2\n\u001b[1;32m      7\u001b[0m message \u001b[38;5;241m=\u001b[39m \u001b[38;5;124m\"\u001b[39m\u001b[38;5;124mDifférence de \u001b[39m\u001b[38;5;124m\"\u001b[39m\u001b[38;5;241m+\u001b[39m \u001b[38;5;28mstr\u001b[39m(difference) \u001b[38;5;241m+\u001b[39m\u001b[38;5;124m\"\u001b[39m\u001b[38;5;124mavec la valeur réelle\u001b[39m\u001b[38;5;124m\"\u001b[39m\n\u001b[0;32m----> 9\u001b[0m \u001b[38;5;28mprint\u001b[39m(\u001b[43mbase64\u001b[49m\u001b[38;5;241;43m.\u001b[39;49m\u001b[43mb64encode\u001b[49m\u001b[43m(\u001b[49m\u001b[43mmessage\u001b[49m\u001b[43m)\u001b[49m\u001b[38;5;241m.\u001b[39mdecode())\n",
      "File \u001b[0;32m/opt/conda/lib/python3.9/base64.py:58\u001b[0m, in \u001b[0;36mb64encode\u001b[0;34m(s, altchars)\u001b[0m\n\u001b[1;32m     51\u001b[0m \u001b[38;5;28;01mdef\u001b[39;00m \u001b[38;5;21mb64encode\u001b[39m(s, altchars\u001b[38;5;241m=\u001b[39m\u001b[38;5;28;01mNone\u001b[39;00m):\n\u001b[1;32m     52\u001b[0m     \u001b[38;5;124;03m\"\"\"Encode the bytes-like object s using Base64 and return a bytes object.\u001b[39;00m\n\u001b[1;32m     53\u001b[0m \n\u001b[1;32m     54\u001b[0m \u001b[38;5;124;03m    Optional altchars should be a byte string of length 2 which specifies an\u001b[39;00m\n\u001b[1;32m     55\u001b[0m \u001b[38;5;124;03m    alternative alphabet for the '+' and '/' characters.  This allows an\u001b[39;00m\n\u001b[1;32m     56\u001b[0m \u001b[38;5;124;03m    application to e.g. generate url or filesystem safe Base64 strings.\u001b[39;00m\n\u001b[1;32m     57\u001b[0m \u001b[38;5;124;03m    \"\"\"\u001b[39;00m\n\u001b[0;32m---> 58\u001b[0m     encoded \u001b[38;5;241m=\u001b[39m \u001b[43mbinascii\u001b[49m\u001b[38;5;241;43m.\u001b[39;49m\u001b[43mb2a_base64\u001b[49m\u001b[43m(\u001b[49m\u001b[43ms\u001b[49m\u001b[43m,\u001b[49m\u001b[43m \u001b[49m\u001b[43mnewline\u001b[49m\u001b[38;5;241;43m=\u001b[39;49m\u001b[38;5;28;43;01mFalse\u001b[39;49;00m\u001b[43m)\u001b[49m\n\u001b[1;32m     59\u001b[0m     \u001b[38;5;28;01mif\u001b[39;00m altchars \u001b[38;5;129;01mis\u001b[39;00m \u001b[38;5;129;01mnot\u001b[39;00m \u001b[38;5;28;01mNone\u001b[39;00m:\n\u001b[1;32m     60\u001b[0m         \u001b[38;5;28;01massert\u001b[39;00m \u001b[38;5;28mlen\u001b[39m(altchars) \u001b[38;5;241m==\u001b[39m \u001b[38;5;241m2\u001b[39m, \u001b[38;5;28mrepr\u001b[39m(altchars)\n",
      "\u001b[0;31mTypeError\u001b[0m: a bytes-like object is required, not 'str'"
     ]
    }
   ],
   "source": [
    "# Ne marche pas à modifier\n",
    "\n",
    "import base64\n",
    "\n",
    "valeurPressionDevice2 = valeurPressionDevice2 * 1.33322\n",
    "difference = pressSaclay - valeurPressionDevice2\n",
    "message = \"Différence de \"+ str(difference) +\"avec la valeur réelle\"\n",
    "\n",
    "print(base64.b64encode(message).decode())"
   ]
  },
  {
   "cell_type": "code",
   "execution_count": 14,
   "id": "d0d07727-6336-4326-8eb7-a2d443a2e319",
   "metadata": {},
   "outputs": [
    {
     "name": "stdout",
     "output_type": "stream",
     "text": [
      "1\n",
      "2\n"
     ]
    }
   ],
   "source": [
    "# Précedemment je stocke mes données avec %store\n",
    "# Maintenant je veux les ressortir mais ça ne marche pas\n",
    "\n",
    "%store -z\n",
    "print(valPressionDevice1)\n",
    "\n",
    "print(valPressionDevice2)"
   ]
  },
  {
   "cell_type": "code",
   "execution_count": 50,
   "id": "1d74b0c2-4a70-422f-93a5-6de4ac5fce22",
   "metadata": {},
   "outputs": [
    {
     "name": "stdout",
     "output_type": "stream",
     "text": [
      "UmVjYWxpYnJhdGlvbiAhISE=\n"
     ]
    }
   ],
   "source": [
    "# Message du \"downlink\" à générer à la main\n",
    "\n",
    "import base64\n",
    "\n",
    "payload = b\"Recalibration !!!\"\n",
    "\n",
    "print(base64.b64encode(payload).decode())"
   ]
  },
  {
   "cell_type": "code",
   "execution_count": null,
   "id": "00b93c76-7b97-41a5-bfb2-566f706717dd",
   "metadata": {},
   "outputs": [],
   "source": [
    "Commande Terminal pour envoyer sur notre première device\n",
    "mosquitto_pub -h eu1.cloud.thethings.network --cafile riot/lorawan/ttn-sensors/isrgrootx1.pem -p 8883 -t 'v3/app-test-ttn@ttn/devices/eui-70b3d57ed004c6f7/down/push' -u 'app-test-ttn@ttn' -P 'NNSXS.Z73HJOZDGASSNLZALUGMK3BZCQHFERGYYKQDLMQ.DRNU23S2HH3LPQ2B6XCIWYOH3ZYLWMX2SON7RHNA6TPHLI3UVCHA' -m '{\"downlinks\":[{\"f_port\": 42,\"frm_payload\":\"UmVjYWxpYnJhdGlvbiAhISE=\",\"priority\": \"NORMAL\"}]}'\n"
   ]
  },
  {
   "cell_type": "code",
   "execution_count": null,
   "id": "065da6ff-794c-41ea-ac39-05ba61879d32",
   "metadata": {},
   "outputs": [],
   "source": [
    "Commande Terminal pour envoyer sur notre deuxième device\n",
    "\n",
    "mosquitto_pub -h eu1.cloud.thethings.network --cafile riot/lorawan/ttn-sensors/isrgrootx1.pem -p 8883 -t 'v3/app-test-ttn@ttn/devices/eui-70b3d57ed004d300/down/push' -u 'app-test-ttn@ttn' -P 'NNSXS.Z73HJOZDGASSNLZALUGMK3BZCQHFERGYYKQDLMQ.DRNU23S2HH3LPQ2B6XCIWYOH3ZYLWMX2SON7RHNA6TPHLI3UVCHA' -m '{\"downlinks\":[{\"f_port\": 42,\"frm_payload\":\"QUhBSEFIQUg=\",\"priority\": \"NORMAL\"}]}'"
   ]
  },
  {
   "cell_type": "code",
   "execution_count": null,
   "id": "5d0b2ffa-ceef-4cca-9a26-865a3685e4e1",
   "metadata": {},
   "outputs": [],
   "source": []
  }
 ],
 "metadata": {
  "kernelspec": {
   "display_name": "Python 3 (ipykernel)",
   "language": "python",
   "name": "python3"
  },
  "language_info": {
   "codemirror_mode": {
    "name": "ipython",
    "version": 3
   },
   "file_extension": ".py",
   "mimetype": "text/x-python",
   "name": "python",
   "nbconvert_exporter": "python",
   "pygments_lexer": "ipython3",
   "version": "3.9.7"
  }
 },
 "nbformat": 4,
 "nbformat_minor": 5
}
