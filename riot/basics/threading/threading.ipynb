{
 "cells": [
  {
   "cell_type": "markdown",
   "metadata": {},
   "source": [
    "## Managing threads with RIOT\n",
    "\n",
    "In this exercise, you will discover the basic threading features of RIOT:\n",
    "- how to monitor the threads available in an application\n",
    "- how to manage the priority between threads\n",
    "\n",
    "### Monitor running threads\n",
    "\n",
    "To monitor running threads, the application needs 1) to start a shell and 2) to extend the shell with commands for printing threads activity. In RIOT, this can be done by simply extending the provided template application as follows:\n",
    "\n",
    "1. Load extra modules\n",
    "\n",
    "In the [Makefile](Makefile) file, add the following:\n",
    "\n",
    "```mk\n",
    "USEMODULE += shell\n",
    "USEMODULE += shell_commands\n",
    "USEMODULE += ps\n",
    "```\n",
    "\n",
    "The `shell_commands` module will automatically build shell commands provided by other modules in the application. The `ps` module provides a shell command to monitor the threads activity.\n",
    "\n",
    "2. Run the shell\n",
    "\n",
    "In [main.c](main.c) file, in the `main` function, just run the shell as follows (under the comment `/* Start the shell here */`:\n",
    "\n",
    "```c\n",
    "    char line_buf[SHELL_DEFAULT_BUFSIZE];\n",
    "    shell_run(NULL, line_buf, SHELL_DEFAULT_BUFSIZE);\n",
    "```\n",
    "\n",
    "3. Test the application\n",
    "\n",
    "Open a Jupyter terminal (use `File > New > Terminal`), build and run the application for native:"
   ]
  },
  {
   "cell_type": "raw",
   "metadata": {},
   "source": [
    "make -C riot/basics/threading all term"
   ]
  },
  {
   "cell_type": "markdown",
   "metadata": {},
   "source": [
    "In the RIOT shell, list the available commands with the `help` command:\n",
    "```sh\n",
    "> help\n",
    "```\n",
    "\n",
    "Now display the list of running threads with the `ps` command:\n",
    "```sh\n",
    "> ps\n",
    "```\n",
    "\n",
    "**Important:** Use Ctrl+C to quit the RIOT native instance running in the terminal.\n",
    "\n",
    "### Run a new thread\n",
    "\n",
    "A new thread can be started from the `main` function using the `thread_create` function. The stack memory used by the thread must also be declared globally. Finally, the code running in the thread must be implemented in a thread handler function.\n",
    "\n",
    "#### **Implement the new thread**\n",
    "\n",
    "1. In [main.c](main.c), add the necessary `thread.h` include and declare the stack memory used by the new thread (below the \"shell.h\" include):\n",
    "\n",
    "```c\n",
    "#include \"thread.h\"\n",
    "static char stack[THREAD_STACKSIZE_MAIN];\n",
    "```\n",
    "\n",
    "2. Add the implementation of the thread handler function (before the `main` function):\n",
    "\n",
    "```c\n",
    "static void *thread_handler(void *arg)\n",
    "{\n",
    "    (void)arg;\n",
    "    puts(\"Hello from thread!\");\n",
    "    return NULL;\n",
    "}\n",
    "```\n",
    "\n",
    "3. Finally, we can create and start the new thread, in the `main` function and before running the shell:\n",
    "```c\n",
    "    thread_create(stack, sizeof(stack), THREAD_PRIORITY_MAIN - 1,\n",
    "                  0, thread_handler, NULL, \"new thread\");\n",
    "```\n",
    "The thread must be created before calling the `shell_run` function because this function never returns, so any code after won't be executed.\n",
    "\n",
    "#### **Run the application**\n",
    "\n",
    "In the terminal, build and run the application for native:"
   ]
  },
  {
   "cell_type": "raw",
   "metadata": {},
   "source": [
    "make -C riot/basics/threading all term"
   ]
  },
  {
   "cell_type": "markdown",
   "metadata": {
    "tags": []
   },
   "source": [
    "The message \"Hello from thread!\" is displayed before the shell starts. If you call the `ps` command, the new thread is not listed because it already exited.\n",
    "\n",
    "\n",
    "### Start a background thread\n",
    "\n",
    "If we want to keep the thread running in background and have the possibility to list it in the `ps` command, 2 things must be done:\n",
    "- prevent the thread from completing: this is done using an endless loop in the thread handler function.\n",
    "  ```c\n",
    "  while (1) {}\n",
    "  ```\n",
    "- ensure the thread has a lower priority than the main thread. In the previous example, `THREAD_PRIORITY_MAIN - 1` was set, so the thread had a higher priority than the main thread. With an endless busy loop, that would prevent the shell from starting as it would never be scheduled.\n",
    "\n",
    "1. Modify the thread handler to run a busy loop\n",
    "\n",
    "Change the thread handler implementation to be the following:\n",
    "```c\n",
    "static void *thread_handler(void *arg)\n",
    "{\n",
    "    (void)arg;\n",
    "    while (1) {}\n",
    "    return NULL;\n",
    "}\n",
    "```\n",
    "\n",
    "2. Lower the priority of the background thread\n",
    "\n",
    "Change the thread priority to `THREAD_PRIORITY_MAIN + 1` when creating it:\n",
    "```c\n",
    "    thread_create(stack, sizeof(stack), THREAD_PRIORITY_MAIN + 1,\n",
    "                  0, thread_handler, NULL, \"new thread\");\n",
    "```\n",
    "\n",
    "The new priority is `THREAD_PRIORITY_MAIN + 1` so the created thread has a lesser priority than the main thread.\n",
    "\n",
    "3. Run the application\n",
    "\n",
    "In the terminal, build and run the application for native:"
   ]
  },
  {
   "cell_type": "raw",
   "metadata": {},
   "source": [
    "make -C riot/basics/threading all term"
   ]
  },
  {
   "cell_type": "markdown",
   "metadata": {},
   "source": [
    "Now the thread called `new thread` is listed in the output of the `ps` command but as you can see it remains pending: in fact it is never started because the main thread has a higher priority."
   ]
  }
 ],
 "metadata": {
  "kernelspec": {
   "display_name": "Python 3 (ipykernel)",
   "language": "python",
   "name": "python3"
  },
  "language_info": {
   "codemirror_mode": {
    "name": "ipython",
    "version": 3
   },
   "file_extension": ".py",
   "mimetype": "text/x-python",
   "name": "python",
   "nbconvert_exporter": "python",
   "pygments_lexer": "ipython3",
   "version": "3.9.7"
  }
 },
 "nbformat": 4,
 "nbformat_minor": 4
}
