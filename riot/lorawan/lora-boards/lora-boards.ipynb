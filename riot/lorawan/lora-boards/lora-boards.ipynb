{
 "cells": [
  {
   "cell_type": "markdown",
   "metadata": {},
   "source": [
    "## Getting started with LoRa boards\n",
    "\n",
    "The LoRa boards available on the IoT-LAB testbed are ST Microelectronics boards [B-L072Z-LRWAN1](http://www.st.com/en/evaluation-tools/b-l072z-lrwan1.html).\n",
    "These boards are equipped with a 32 bit ARM STM32 L0 microcontroller (20kB of RAM, 192kB of flash memory) and a Semtech SX1276 radio.\n",
    "You can find more details about this board in the [datasheet](http://www.st.com/resource/en/user_manual/dm00329995.pdf).\n",
    "\n",
    "In IoT-LAB, on each board is also plugged an ST Microelectronics [X-Nucleo extension shield](http://www.st.com/en/ecosystems/x-nucleo-iks01a2.html) which provides several sensors: temperature, relative humidity level, atmospheric pressure, accelerometer.\n",
    "\n",
    "For more details on this extension shield, you have a look at the [datasheet](http://www.st.com/resource/en/user_manual/dm00333132.pdf).\n",
    "\n",
    "<figure style=\"text-align:center\">\n",
    "    <img src=\"images/board_shield.png\" width=\"450\" align=\"center\"/><br/><br/>\n",
    "    <figcaption><em>The ST B-L072Z-LRWAN1 board with extension shield used in IoT-LAB</em></figcaption>\n",
    "</figure>\n",
    "\n",
    "In this notebook, you will perform remote basic interactions on the LoRa boards hosted in the IoT-LAB testbed:\n",
    "1. build and flash a firmware\n",
    "2. interact with the shell\n",
    "3. reset the firmware\n",
    "\n",
    "### Start an experiment on IoT-LAB\n",
    "\n",
    "1. Book a LoRa board by launching a 2-hour experiment:"
   ]
  },
  {
   "cell_type": "code",
   "execution_count": null,
   "metadata": {},
   "outputs": [],
   "source": [
    "!iotlab-experiment submit -n \"lora-boards\" -d 120 -l 1,site=saclay+archi=st-lrwan1:sx1276"
   ]
  },
  {
   "cell_type": "markdown",
   "metadata": {},
   "source": [
    "2. Wait for the experiment to be in the \"Running\" state:"
   ]
  },
  {
   "cell_type": "code",
   "execution_count": null,
   "metadata": {},
   "outputs": [],
   "source": [
    "!iotlab-experiment wait --timeout 30 --cancel-on-timeout"
   ]
  },
  {
   "cell_type": "markdown",
   "metadata": {},
   "source": [
    "**Note:** If the command above returns the message `Timeout reached, cancelling experiment <exp_id>`, try to re-submit your experiment later or try on another site.\n",
    "\n",
    "4. Check the board of your experiment:"
   ]
  },
  {
   "cell_type": "code",
   "execution_count": null,
   "metadata": {},
   "outputs": [],
   "source": [
    "!iotlab-experiment --jmespath=\"items[*].network_address | sort(@)\" get --nodes"
   ]
  },
  {
   "cell_type": "markdown",
   "metadata": {},
   "source": [
    "### Build and flash a firmware on the board\n",
    "\n",
    "Let's start with the usual `hello_world` sample application provided by the RIOT source code."
   ]
  },
  {
   "cell_type": "code",
   "execution_count": null,
   "metadata": {},
   "outputs": [],
   "source": [
    "!make BOARD=b-l072z-lrwan1 IOTLAB_NODE=auto -C ../../RIOT/examples/hello-world flash"
   ]
  },
  {
   "cell_type": "markdown",
   "metadata": {},
   "source": [
    "The `flash` target automatically calls the appropriate programming tool to the given board. And here, since we are remotely flashing on IoT-LAB, the `iotlab-node` from the [IoT-LAB CLI tools](https://github.com/iot-lab/cli-tools) project is used.\n",
    "\n",
    "\n",
    "If everything went well, no error message should be displayed and the `iotlab-node` should return `0`."
   ]
  },
  {
   "cell_type": "markdown",
   "metadata": {},
   "source": [
    "### Interact with the shell\n",
    "\n",
    "Now that we know that we can remotely flash the board from Jupyerlab, let's verify that we can interact with a shell running on the board.\n",
    "\n",
    "We will build and flash the [examples/default](https://github.com/RIOT-OS/RIOT/tree/master/examples/default) application of RIOT because it provides a shell and a few commands.\n",
    "\n",
    "1. First build and flash the application:"
   ]
  },
  {
   "cell_type": "code",
   "execution_count": null,
   "metadata": {},
   "outputs": [],
   "source": [
    "!make BOARD=b-l072z-lrwan1 IOTLAB_NODE=auto -C ../../RIOT/examples/default flash"
   ]
  },
  {
   "cell_type": "markdown",
   "metadata": {},
   "source": [
    "2. Open a terminal: `File > New > Terminal` and connect to the shell using the following command:"
   ]
  },
  {
   "cell_type": "raw",
   "metadata": {},
   "source": [
    "make BOARD=b-l072z-lrwan1 IOTLAB_NODE=auto -C riot/RIOT/examples/default term"
   ]
  },
  {
   "cell_type": "markdown",
   "metadata": {},
   "source": [
    "Press `Enter` in the terminal and the shell should respond with the prompt character `>`.\n",
    "\n",
    "Once the serial terminal is connected to the board, you can communicate directly with the program running on the microcontroller.\n",
    "\n",
    "Here we have \"flashed\" a program with a \"shell\", which means that we can send him commands that the program will interpret and execute.\n",
    "\n",
    "**Note:** In raw cells, we use `> command` when the command `command` correspond to a command that must be run in the RIOT shell.\n",
    "\n",
    "3. Check the commands available in the RIOT shell of this application using the `help` command:"
   ]
  },
  {
   "cell_type": "raw",
   "metadata": {},
   "source": [
    "> help\n",
    "help\n",
    "Command              Description\n",
    "---------------------------------------\n",
    "reboot               Reboot the node\n",
    "ps                   Prints information about running threads.\n",
    "rtc                  control RTC peripheral interface\n",
    "ifconfig             Configure network interfaces\n",
    "txtsnd               Sends a custom string as is over the link layer\n",
    "saul                 interact with sensors and actuators using SAUL"
   ]
  },
  {
   "cell_type": "markdown",
   "metadata": {},
   "source": [
    "4. Verify that the LoRa radio is correctly configured using the `ifconfig` command:"
   ]
  },
  {
   "cell_type": "raw",
   "metadata": {},
   "source": [
    "> ifconfig\n",
    "ifconfig\n",
    "Iface  4  Frequency: 868299987Hz  BW: 125kHz  SF: 12  CR: 4/8 \n",
    "           TX-Power: 14dBm  State: SLEEP \n",
    "          L2-PDU:255 "
   ]
  },
  {
   "cell_type": "markdown",
   "metadata": {},
   "source": [
    "By default, the radio is configured with a 125kHz bandwidth and a spreading factor of 12."
   ]
  },
  {
   "cell_type": "markdown",
   "metadata": {},
   "source": [
    "### Reset the board\n",
    "\n",
    "On IoT-LAB, you can also remotely reset a board by the using the `reset` target with `make`. This can be useful in case of the crash of the application to restart it in a stable configuration:"
   ]
  },
  {
   "cell_type": "code",
   "execution_count": null,
   "metadata": {},
   "outputs": [],
   "source": [
    "!make BOARD=b-l072z-lrwan1 IOTLAB_NODE=auto -C ../../RIOT/examples/default reset"
   ]
  },
  {
   "cell_type": "markdown",
   "metadata": {},
   "source": [
    "Check the terminal where you played with the shell, the application has rebooted."
   ]
  },
  {
   "cell_type": "markdown",
   "metadata": {},
   "source": [
    "### Free up the resources\n",
    "\n",
    "Since you finished the training, stop your experiment to free up the experiment nodes:"
   ]
  },
  {
   "cell_type": "code",
   "execution_count": null,
   "metadata": {},
   "outputs": [],
   "source": [
    "!iotlab-experiment stop"
   ]
  },
  {
   "cell_type": "markdown",
   "metadata": {},
   "source": [
    "The serial link connection through SSH will be closed automatically."
   ]
  }
 ],
 "metadata": {
  "kernelspec": {
   "display_name": "Python 3 (ipykernel)",
   "language": "python",
   "name": "python3"
  },
  "language_info": {
   "codemirror_mode": {
    "name": "ipython",
    "version": 3
   },
   "file_extension": ".py",
   "mimetype": "text/x-python",
   "name": "python",
   "nbconvert_exporter": "python",
   "pygments_lexer": "ipython3",
   "version": "3.9.7"
  }
 },
 "nbformat": 4,
 "nbformat_minor": 4
}
