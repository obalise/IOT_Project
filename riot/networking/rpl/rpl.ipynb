{
 "cells": [
  {
   "cell_type": "markdown",
   "metadata": {},
   "source": [
    "## RPL"
   ]
  },
  {
   "cell_type": "markdown",
   "metadata": {},
   "source": [
    "#### Radio settings\n",
    "\n",
    "If you are running this training as the same time as other people on the testbed, it is a good idea to change the default radio configuration to avoid too much collision with others.\n",
    "\n",
    "Use the following cell to give you random values for channel and PAN ID."
   ]
  },
  {
   "cell_type": "code",
   "execution_count": null,
   "metadata": {},
   "outputs": [],
   "source": [
    "import os,binascii,random\n",
    "pan_id = binascii.b2a_hex(os.urandom(2)).decode()\n",
    "channel = random.randint(11, 26)\n",
    "print('Use CHANNEL={}, PAN_ID=0x{}'.format(channel, pan_id))"
   ]
  },
  {
   "cell_type": "markdown",
   "metadata": {},
   "source": [
    "For these values to be taken into account you can set an environment variable for the notebook. Modify the values in the cell below with those obtained and execute it."
   ]
  },
  {
   "cell_type": "code",
   "execution_count": null,
   "metadata": {},
   "outputs": [],
   "source": [
    "%env CHANNEL=11"
   ]
  },
  {
   "cell_type": "code",
   "execution_count": null,
   "metadata": {},
   "outputs": [],
   "source": [
    "%env PAN_ID=0xBEEF"
   ]
  },
  {
   "cell_type": "markdown",
   "metadata": {},
   "source": [
    "### Submit an experiment on IoT-LAB\n",
    "\n",
    "You will use the `gnrc_networking` example from RIOT.\n",
    "Let's define an environment variable to shorten the command lines."
   ]
  },
  {
   "cell_type": "code",
   "execution_count": null,
   "metadata": {},
   "outputs": [],
   "source": [
    "%env APP_DIR = ../../RIOT/examples/gnrc_networking"
   ]
  },
  {
   "cell_type": "markdown",
   "metadata": {},
   "source": [
    "1. Compile the example:"
   ]
  },
  {
   "cell_type": "code",
   "execution_count": null,
   "metadata": {},
   "outputs": [],
   "source": [
    "!make -C $APP_DIR BOARD=iotlab-m3 DEFAULT_CHANNEL=$CHANNEL DEFAULT_PAN_ID=$PAN_ID"
   ]
  },
  {
   "cell_type": "markdown",
   "metadata": {},
   "source": [
    "2. Choose your site (grenoble|lille|saclay|strasbourg):"
   ]
  },
  {
   "cell_type": "code",
   "execution_count": null,
   "metadata": {},
   "outputs": [],
   "source": [
    "%env SITE=grenoble"
   ]
  },
  {
   "cell_type": "markdown",
   "metadata": {},
   "source": [
    "3. Submit an experiment with three nodes and the previous compiled firware:"
   ]
  },
  {
   "cell_type": "code",
   "execution_count": null,
   "metadata": {},
   "outputs": [],
   "source": [
    "!iotlab-experiment submit -n \"riot-rpl\" -d 60 -l 3,archi=m3:at86rf231+site=$SITE,$APP_DIR/bin/iotlab-m3/gnrc_networking.elf"
   ]
  },
  {
   "cell_type": "markdown",
   "metadata": {},
   "source": [
    "4. Wait for the experiment to be running:"
   ]
  },
  {
   "cell_type": "code",
   "execution_count": null,
   "metadata": {},
   "outputs": [],
   "source": [
    "!iotlab-experiment wait --timeout 30 --cancel-on-timeout"
   ]
  },
  {
   "cell_type": "markdown",
   "metadata": {},
   "source": [
    "**Note:** If the command above returns the message `Timeout reached, cancelling experiment <exp_id>`, try to re-submit your experiment later or try on another site."
   ]
  },
  {
   "cell_type": "markdown",
   "metadata": {},
   "source": [
    "5. Check the nodes allocated to the experiment; one of them will have to be be chosen as RPL root node:"
   ]
  },
  {
   "cell_type": "code",
   "execution_count": null,
   "metadata": {},
   "outputs": [],
   "source": [
    "!iotlab-experiment --jmespath=\"items[*].network_address | sort(@)\" get --nodes"
   ]
  },
  {
   "cell_type": "markdown",
   "metadata": {},
   "source": [
    "### Launch the Serial Aggregator\n",
    "\n",
    "From here, open a Jupyter terminal (use `File > New > Terminal`).\n",
    "\n",
    "Connect to the SSH frontend and replace `<site>` with the right value."
   ]
  },
  {
   "cell_type": "raw",
   "metadata": {},
   "source": [
    "ssh $IOTLAB_LOGIN@<site>.iot-lab.info"
   ]
  },
  {
   "cell_type": "markdown",
   "metadata": {},
   "source": [
    "From the SSH frontend launch the serial aggregator:"
   ]
  },
  {
   "cell_type": "raw",
   "metadata": {},
   "source": [
    "<login>@<site>:~$ serial_aggregator"
   ]
  },
  {
   "cell_type": "markdown",
   "metadata": {},
   "source": [
    "By default, the serial_aggregator will try to connect to all the nodes of your current experiment.\n",
    "\n",
    "The serial link output of all nodes will be printed here. You are also able to write to nodes serial link. By default, the writen message is sent to all nodes, but you can prepend the message by the node ID to send it to a particular node."
   ]
  },
  {
   "cell_type": "markdown",
   "metadata": {},
   "source": [
    "### Start RPL\n",
    "\n",
    "Before starting RPL, an IPv6 address must be configured for the RPL root node. Since we just need here to communicate locally, the following cell will generate a unique local address randomly, to not have the same address than other people doing this training (fd00::1 in the command examples)."
   ]
  },
  {
   "cell_type": "code",
   "execution_count": null,
   "metadata": {},
   "outputs": [],
   "source": [
    "import os,binascii,random\n",
    "address = binascii.b2a_hex(os.urandom(1)).decode()\n",
    "print('Root address is fd{}::1'.format(address))"
   ]
  },
  {
   "cell_type": "markdown",
   "metadata": {},
   "source": [
    "In this tutorial, we chose node 1 as root. Replace the ID by the one you have chosen from your nodes and the address by the one given just above."
   ]
  },
  {
   "cell_type": "raw",
   "metadata": {},
   "source": [
    "m3-1;ifconfig 6 add fd00::1"
   ]
  },
  {
   "cell_type": "markdown",
   "metadata": {},
   "source": [
    "Afteerwards, RPL have to be initialized on interface 6 for all nodes:"
   ]
  },
  {
   "cell_type": "raw",
   "metadata": {},
   "source": [
    "rpl init 6"
   ]
  },
  {
   "cell_type": "markdown",
   "metadata": {},
   "source": [
    "Now, a DODAG can be started on the root node with the instance id _1_ and the root's configured IPv6 address as the DODAG-ID:"
   ]
  },
  {
   "cell_type": "raw",
   "metadata": {},
   "source": [
    "m3-1;rpl root 1 fd00::1"
   ]
  },
  {
   "cell_type": "markdown",
   "metadata": {},
   "source": [
    "The `rpl` command can be used to show information about the RPL state from the root:"
   ]
  },
  {
   "cell_type": "raw",
   "metadata": {},
   "source": [
    "m3-1;rpl"
   ]
  },
  {
   "cell_type": "markdown",
   "metadata": {},
   "source": [
    "```\n",
    "1575919912.736839;m3-1;> rpl\n",
    "1575919912.737875;m3-1;instance table:        [X]\n",
    "1575919912.738071;m3-1;parent table:  [ ]     [ ]     [ ]\n",
    "1575919912.738210;m3-1;\n",
    "1575919912.740233;m3-1;instance [1 | Iface: 6 | mop: 2 | ocp: 0 | mhri: 256 | mri 0]\n",
    "1575919912.742806;m3-1;       dodag [fd00::1 | R: 256 | OP: Router | PIO: on | TR(I=[8,20], k=10, c=0, TC=107s)]\n",
    "```"
   ]
  },
  {
   "cell_type": "markdown",
   "metadata": {},
   "source": [
    "The last line indicates that this node is part of the DODAG, with a rank of `R: 256`.\n",
    "\n",
    "Call the samecommand from another node:"
   ]
  },
  {
   "cell_type": "raw",
   "metadata": {},
   "source": [
    "m3-2;rpl"
   ]
  },
  {
   "cell_type": "markdown",
   "metadata": {},
   "source": [
    "```\n",
    "1575919904.549503;m3-2;> rpl\n",
    "1575919904.549748;m3-2;instance table:        [X]\n",
    "1575919904.550382;m3-2;parent table:  [X]     [ ]     [ ]\n",
    "1575919904.550580;m3-2;\n",
    "1575919904.551289;m3-2;instance [1 | Iface: 6 | mop: 2 | ocp: 0 | mhri: 256 | mri 0]\n",
    "1575919904.553231;m3-2;       dodag [fd00::1 | R: 512 | OP: Router | PIO: on | TR(I=[8,20], k=10, c=1, TC=52s)]\n",
    "1575919904.554237;m3-2;               parent [addr: fe80::1711:6b10:65f7:550a | rank: 256]\n",
    "```"
   ]
  },
  {
   "cell_type": "markdown",
   "metadata": {},
   "source": [
    "This node is part of the same DODAG, but with a rank of `512`. Furthermore, it has a preferred parent with a rank of `256` with a link-local IPv6 address that matches that of the root. You can check it with the `ifconfig` command: "
   ]
  },
  {
   "cell_type": "raw",
   "metadata": {},
   "source": [
    "m3-1;ifconfig"
   ]
  },
  {
   "cell_type": "markdown",
   "metadata": {},
   "source": [
    "```\n",
    "1575920479.654471;m3-1;> ifconfig\n",
    "1575920479.656100;m3-1;Iface  6  HWaddr: 55:0A  Channel: 26  Page: 0  NID: 0x23\n",
    "1575920479.656948;m3-1;          Long HWaddr: 15:11:6B:10:65:F7:55:0A \n",
    "1575920479.658778;m3-1;           TX-Power: 0dBm  State: IDLE  max. Retrans.: 3  CSMA Retries: 4 \n",
    "1575920479.660791;m3-1;          AUTOACK  ACK_REQ  CSMA  L2-PDU:102 MTU:1280  HL:64  RTR  \n",
    "1575920479.660987;m3-1;          6LO  IPHC  \n",
    "1575920479.661790;m3-1;          Source address length: 8\n",
    "1575920479.662788;m3-1;          Link type: wireless\n",
    "1575920479.663785;m3-1;          inet6 addr: fe80::1711:6b10:65f7:550a  scope: local  VAL\n",
    "1575920479.665779;m3-1;          inet6 addr: fd00::1  scope: global  VAL\n",
    "[...]\n",
    "```"
   ]
  },
  {
   "cell_type": "markdown",
   "metadata": {},
   "source": [
    "Note that all participating nodes in the RPL-DODAG have configured automatically an IPv6 address matching the prefix from the DODAG-ID. Verify with `ifconfig` on your two others nodes."
   ]
  },
  {
   "cell_type": "markdown",
   "metadata": {},
   "source": [
    "### Show neighbors\n",
    "\n",
    "You can show the Neighbor Information Base with the `nib` command, to explore the DODAG, from the root:"
   ]
  },
  {
   "cell_type": "raw",
   "metadata": {},
   "source": [
    "m3-1;nib route"
   ]
  },
  {
   "cell_type": "markdown",
   "metadata": {},
   "source": [
    "```\n",
    "1575921101.414540;m3-1;> nib route\n",
    "1575921101.415532;m3-1;fd00::/64 dev #6\n",
    "1575921101.416389;m3-1;fd00::1711:6b10:65fb:850a/128 via fe80::1711:6b10:65fb:850a dev #6\n",
    "1575921101.418222;m3-1;fd00::1711:6b10:65f9:ac2a/128 via fe80::1711:6b10:65f9:ac2a dev #6\n",
    "```"
   ]
  },
  {
   "cell_type": "markdown",
   "metadata": {},
   "source": [
    "and from another node:"
   ]
  },
  {
   "cell_type": "raw",
   "metadata": {},
   "source": [
    "m3-2;nib route"
   ]
  },
  {
   "cell_type": "markdown",
   "metadata": {},
   "source": [
    "```\n",
    "1575921285.989180;m3-2;> nib route\n",
    "1575921285.989336;m3-2;fd00::/64 dev #6\n",
    "1575921285.990040;m3-2;default* via fe80::1711:6b10:65f7:550a dev #7\n",
    "```"
   ]
  },
  {
   "cell_type": "markdown",
   "metadata": {},
   "source": [
    "### Free up the resources\n",
    "\n",
    "Since you finished the training, stop your experiment to free up the experiment nodes:"
   ]
  },
  {
   "cell_type": "code",
   "execution_count": null,
   "metadata": {},
   "outputs": [],
   "source": [
    "!iotlab-experiment stop"
   ]
  },
  {
   "cell_type": "markdown",
   "metadata": {},
   "source": [
    "The serial link connection through SSH and the ethos process will be closed automatically."
   ]
  }
 ],
 "metadata": {
  "kernelspec": {
   "display_name": "Python 3 (ipykernel)",
   "language": "python",
   "name": "python3"
  },
  "language_info": {
   "codemirror_mode": {
    "name": "ipython",
    "version": 3
   },
   "file_extension": ".py",
   "mimetype": "text/x-python",
   "name": "python",
   "nbconvert_exporter": "python",
   "pygments_lexer": "ipython3",
   "version": "3.9.7"
  }
 },
 "nbformat": 4,
 "nbformat_minor": 4
}
