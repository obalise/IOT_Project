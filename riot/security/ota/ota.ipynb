{
 "cells": [
  {
   "cell_type": "markdown",
   "metadata": {},
   "source": [
    "## SUIT Firmware update\n",
    "\n",
    "In this exercise, we propose to perform firmware updates on IoT-LAB M3 devices.\n",
    "\n",
    "The principle of this exercise is as follows:\n",
    "- An updatable firmware is built and flashed first on the device.\n",
    "- This firmware provides a CoAP server to receive update notifications and is able to download new firmware images from another CoAP server running on an IoT-LAB SSH frontend\n",
    "- On the frontend, the CoAP server exposes the images located in a directory on the server: as a result, publishing new updates is just a matter of putting files in a directory\n",
    "- The update is trigger manually from the device itself with a shell command\n",
    "\n",
    "The application used in this exercise implements a version of the SUIT (Softwate Update for the Internet of Things) protocol that is in the standardization process at IETF.\n",
    "\n",
    "As you saw previously in other networking exercises, to be able to reach the device from the SSH frontend, you'll have to run ethos: this will create a bridge between the serial port of the device and the SSH frontend.\n",
    "\n",
    "#### What is an updatable firmware?\n",
    "\n",
    "For a firmware to become updatable, several conditions must be met:\n",
    "- The flash memory on the device must be devided in 3 parts:\n",
    "  1. The beginning of the flash is reserved to a small and very simple bootloader application whose goal is to choose and verify the application to boot\n",
    "  2. The rest of the flash is divided into 2 equally sized memory *slots*. Each slot may contain a binary firmware for a given application. At the beginning of each slot are located some metadata which describe the version of the application and the name of the application. Since only one application can run at a time on a microcontroller, only one slot is active at a time.\n",
    " \n",
    "- The firmware in the active slot must contain some logic for retrieving an update. This update is copied on-the-fly to the other slot. Once the update has completed, the application reboots the device. During the boot phase, the bootloader chooses the most recent version between the 2 slots and launches the application on it.\n",
    "\n",
    "To summarize, initially, **an updatable device must be provisionned with a bootloader and a slot containing an application with the update logic**.\n",
    "\n",
    "### Discover the firmware update mechanism\n",
    "\n",
    "As a first step, we propose you to test the basic firmware update mechanism only between the SSH frontend and the device: the device will be provisioned with an updatable firmware, a bridge between the SSH frontend and the device will be setup using `ethos` and the new firmware will be stored on the SSH frontend and exposed to the device on a CoAP server running on the frontend.\n",
    "\n",
    "#### **Step 1:** prepare the device"
   ]
  },
  {
   "cell_type": "markdown",
   "metadata": {},
   "source": [
    "1. Choose your site (grenoble, lille, strasbourg or saclay):"
   ]
  },
  {
   "cell_type": "code",
   "execution_count": null,
   "metadata": {},
   "outputs": [],
   "source": [
    "%env SITE=grenoble"
   ]
  },
  {
   "cell_type": "markdown",
   "metadata": {},
   "source": [
    "2. Start an experiment on IoT-LAB with 1 IoT-LAB M3 device:"
   ]
  },
  {
   "cell_type": "code",
   "execution_count": null,
   "metadata": {},
   "outputs": [],
   "source": [
    "!iotlab-experiment submit -n \"riot-ota\" -d 120 -l 1,archi=m3:at86rf231+site=$SITE"
   ]
  },
  {
   "cell_type": "markdown",
   "metadata": {},
   "source": [
    "3. Wait for the experiment to be in the Running state:"
   ]
  },
  {
   "cell_type": "code",
   "execution_count": null,
   "metadata": {},
   "outputs": [],
   "source": [
    "!iotlab-experiment wait --timeout 30 --cancel-on-timeout"
   ]
  },
  {
   "cell_type": "markdown",
   "metadata": {},
   "source": [
    "**Note:** If the command above returns the message `Timeout reached, cancelling experiment <exp_id>`, try to re-submit your experiment later or try on another site."
   ]
  },
  {
   "cell_type": "markdown",
   "metadata": {},
   "source": [
    "4. Get the experiment nodes list:"
   ]
  },
  {
   "cell_type": "code",
   "execution_count": null,
   "metadata": {},
   "outputs": [],
   "source": [
    "!iotlab-experiment --jmespath=\"items[*].network_address | sort(@)\" get --nodes"
   ]
  },
  {
   "cell_type": "markdown",
   "metadata": {},
   "source": [
    "5. Provision the device with the updatable application\n",
    "\n",
    "To provision the device, e.g to flash a binary that contains both the bootloader and the application for the first slot (*slot0*), RIOT provides the `riotboot/flash-combined-slot0` target. Let's use it with IoT-LAB to provision the IoT-LAB"
   ]
  },
  {
   "cell_type": "code",
   "execution_count": null,
   "metadata": {},
   "outputs": [],
   "source": [
    "!make ETHOS_BAUDRATE=500000 IOTLAB_NODE=auto flash"
   ]
  },
  {
   "cell_type": "markdown",
   "metadata": {},
   "source": [
    "**Important:** during this step, several things are automatically performed by the RIOT build system:\n",
    "- The bootloader and the updatable application are built\n",
    "- A keypair is generated: according to the SUIT update protocol, the private key will be used to sign the update manifest and the public is stored in the updatable application. This mechanism ensures the application is able to reject non authentic updates and increases security during the update.\n",
    "\n",
    "\n",
    "At this stage, you have a running firmware that is updatable by following the SUIT update protocol.\n",
    "\n",
    "\n",
    "By default, the updatable application running now on the device is using the `ethos` mechanism. This is why the build command is using `ETHOS_BAUDRATE=500000`. In fact, this is the same as the `gnrc_border_router` that is used in the networking notebooks\n",
    "but here `ethos` is just used to provide a link between the SSH frontend and the device. The device itself doesn't use its radio interface, for the moment.\n",
    "\n",
    "And like for the border router, a bridge must be configured.\n",
    "\n",
    "So let's setup the network between the SSH frontend and the device!"
   ]
  },
  {
   "cell_type": "markdown",
   "metadata": {},
   "source": [
    "#### **Step 2:** setup the network\n",
    "\n",
    "The setup of the network can only be performed from the IoT-LAB SSH frontend.\n",
    "\n",
    "Use a Terminal (File > New > Terminal) to connect to the IoT-LAB SSH frontend. Replace `<site>` with the right value."
   ]
  },
  {
   "cell_type": "raw",
   "metadata": {},
   "source": [
    "ssh $IOTLAB_LOGIN@<site>.iot-lab.info"
   ]
  },
  {
   "cell_type": "markdown",
   "metadata": {},
   "source": [
    "From the frontend SSH we need to create a tap network interface and choose a public IPv6 prefix available. As it is a shared environment you must check before which tap network interfaces are already in use:"
   ]
  },
  {
   "cell_type": "raw",
   "metadata": {},
   "source": [
    "<login>@<site>:~$ ip addr show | grep tap\n",
    "1406: tap0: <BROADCAST,MULTICAST,UP,LOWER_UP> mtu 1500 qdisc pfifo_fast state UP group default qlen 500\n",
    "..."
   ]
  },
  {
   "cell_type": "markdown",
   "metadata": {},
   "source": [
    "You can find below the list of available IPV6 prefix by sites\n",
    "\n",
    "| Site       | First Prefix       | Last Prefix        | Number of Prefix |\n",
    "|------------|--------------------|--------------------|--------------------|\n",
    "| Grenoble   | 2001:660:5307:3100 | 2001:660:5307:317f | 128                |\n",
    "| Lille      | 2001:660:4403:0480 | 2001:660:4403:04ff | 128                |\n",
    "| Saclay     | 2001:660:3207:04c0 | 2001:660:3207:04ff | 64                 |\n",
    "| Strasbourg | 2001:660:4701:f0a0 | 2001:660:4701:f0bf | 32                 |\n",
    "\n",
    "As it's a shared environment you must check before. Visualize which prefix are already used"
   ]
  },
  {
   "cell_type": "raw",
   "metadata": {},
   "source": [
    "<login>@<site>:~$ ip -6 route\n",
    "2001:660:5307:3100::/64 dev tun0  proto kernel  metric 256  mtu 1500 advmss 1440 hoplimit 4294967295"
   ]
  },
  {
   "cell_type": "markdown",
   "metadata": {},
   "source": [
    "To expose the firmware update via CoAP, you have to open an UDP port on the frontend. The default CoAP UDP port is 5683 but it might be already used by another user. Check which UDP ports are already used:"
   ]
  },
  {
   "cell_type": "raw",
   "metadata": {},
   "source": [
    "<login>@<site>:~$ netstat -a | grep udp\n",
    "udp        0      0 0.0.0.0:4000            0.0.0.0:*                          \n",
    "udp        0      0 0.0.0.0:38696           0.0.0.0:*                          \n",
    "udp        0      0 0.0.0.0:sunrpc          0.0.0.0:*                          \n",
    "udp        0      0 localhost:848           0.0.0.0:*                          \n",
    "udp        0      0 0.0.0.0:1017            0.0.0.0:*                          \n",
    "udp6       0      0 [::]:4000               [::]:*                             \n",
    "udp6       0      0 [::]:5683               [::]:*                             \n",
    "udp6       0      0 [::]:sunrpc             [::]:*                             \n",
    "udp6       0      0 [::]:1017               [::]:*                             \n",
    "udp6       0      0 [::]:58895              [::]:* "
   ]
  },
  {
   "cell_type": "markdown",
   "metadata": {},
   "source": [
    "One can see that the UDP port 5683 is already in use, so you have to choose a different one between 5000 and 10000, for example 5684.\n",
    "\n",
    "You can now start `ethos` using the free tap network interface, the free IPv6 prefix you choose, the free UDP port and the id of node booked in your experiment:"
   ]
  },
  {
   "cell_type": "raw",
   "metadata": {},
   "source": [
    "<login>@<site>:~$ sudo ethos_uhcpd.py m3-<id> tap<num> <ipv6_prefix>::1/64 --udp-ports <udp_port>\n",
    "net.ipv6.conf.tap0.forwarding = 1\n",
    "net.ipv6.conf.tap0.accept_ra = 0\n",
    "Switch from 'root' to '<login>'\n",
    "Joining IPv6 multicast group...\n",
    "entering loop...\n",
    "----> ethos: sending hello.\n",
    "----> ethos: activating serial pass through.\n",
    "----> ethos: hello reply received"
   ]
  },
  {
   "cell_type": "markdown",
   "metadata": {},
   "source": [
    "**Warning:** It is very important to verify that the message `Warning: port udp:<udp_port> already in use, cannot open.` is not printed at the beginning of the `ethos_uhcpd` command (before the `Switch from 'root' to '<login>'` message). If it's the case, choose another UDP port!"
   ]
  },
  {
   "cell_type": "markdown",
   "metadata": {},
   "source": [
    "Keep the `ethos` process running and verify that the RIOT shell is working through `ethos`, check available commands using `help` and list the configured interface using `ifconfig`:"
   ]
  },
  {
   "cell_type": "raw",
   "metadata": {},
   "source": [
    "----> ethos: sending hello.\n",
    "----> ethos: activating serial pass through.\n",
    "----> ethos: hello reply received\n",
    "help\n",
    "help\n",
    "Command              Description\n",
    "---------------------------------------\n",
    "reboot               Reboot the node\n",
    "ping6                Ping via ICMPv6\n",
    "random_init          initializes the PRNG\n",
    "random_get           returns 32 bit of pseudo randomness\n",
    "nib                  Configure neighbor information base\n",
    "ifconfig             Configure network interfaces\n",
    "suit                 Trigger a SUIT firmware update\n",
    "> ifconfig\n",
    "ifconfig\n",
    "Iface  5  HWaddr: 02:AE:24:E3:07:90 \n",
    "          L2-PDU:1500 MTU:1500  HL:64  RTR  \n",
    "          RTR_ADV  \n",
    "          Source address length: 6\n",
    "          Link type: wired\n",
    "          inet6 addr: fe80::ae:24ff:fee3:790  scope: link  VAL\n",
    "          inet6 addr: fe80::2  scope: link  VAL\n",
    "          inet6 group: ff02::2\n",
    "          inet6 group: ff02::1\n",
    "          inet6 group: ff02::1:ffe3:790\n",
    "          inet6 group: ff02::1:ff00:2\n",
    "          \n",
    "> "
   ]
  },
  {
   "cell_type": "markdown",
   "metadata": {},
   "source": [
    "Now note the link local address of the device, here it's **fe80::ae:24ff:fee3:790**. It will be used later to check the connectivity between the device and the SSH frontend.\n",
    "\n",
    "Still from the RIOT shell, you can also verify that the device can ping the server ipv6 address. On the grenoble SSH frontend, the global IPv6 address is **2001:660:5307:30ff::5**:"
   ]
  },
  {
   "cell_type": "raw",
   "metadata": {},
   "source": [
    "> ping 2001:660:5307:30ff::5\n",
    "ping 2001:660:5307:30ff::5\n",
    "12 bytes from 2001:660:5307:30ff::5: icmp_seq=0 ttl=64 time=127.871 ms\n",
    "12 bytes from 2001:660:5307:30ff::5: icmp_seq=1 ttl=64 time=47.885 ms\n",
    "12 bytes from 2001:660:5307:30ff::5: icmp_seq=2 ttl=64 time=47.863 ms"
   ]
  },
  {
   "cell_type": "markdown",
   "metadata": {},
   "source": [
    "**warning:** the IPv6 address of the SSH server is different on the other sites (lille, strasbourg, saclay). Use the following command to get it:"
   ]
  },
  {
   "cell_type": "raw",
   "metadata": {},
   "source": [
    "<login>@<site>:~$ ip addr show ens3 | grep inet6 | grep global\n",
    "inet6 2001:660:3207:4bf::17/64 scope global"
   ]
  },
  {
   "cell_type": "markdown",
   "metadata": {},
   "source": [
    "Here the IPv6 address of the SSH server is **2001:660:3207:4bf::17**"
   ]
  },
  {
   "cell_type": "markdown",
   "metadata": {},
   "source": [
    "Open a second terminal with menu `File > New > Terminal` and from there connect via SSH to the frontend. Then verify that the device can be reached (replace `tap<num>` with the value set in the ethos command above):"
   ]
  },
  {
   "cell_type": "raw",
   "metadata": {},
   "source": [
    "<login>@<site>:~$ ping6 -c 3 fe80::ae:24ff:fee3:790%tap<num>\n",
    "PING fe80::ae:24ff:fee3:790%tap0(fe80::ae:24ff:fee3:790%tap0) 56 data bytes\n",
    "64 bytes from fe80::ae:24ff:fee3:790%tap0: icmp_seq=1 ttl=64 time=38.8 ms\n",
    "64 bytes from fe80::ae:24ff:fee3:790%tap0: icmp_seq=2 ttl=64 time=49.7 ms\n",
    "64 bytes from fe80::ae:24ff:fee3:790%tap0: icmp_seq=3 ttl=64 time=47.4 ms\n",
    "\n",
    "--- fe80::ae:24ff:fee3:790%tap0 ping statistics ---\n",
    "3 packets transmitted, 3 received, 0% packet loss, time 2003ms\n",
    "rtt min/avg/max/mdev = 38.805/45.348/49.744/4.723 ms"
   ]
  },
  {
   "cell_type": "markdown",
   "metadata": {},
   "source": [
    "The network is in place!\n",
    "\n",
    "Keep the `ethos` terminal open until the end of this notebook."
   ]
  },
  {
   "cell_type": "markdown",
   "metadata": {},
   "source": [
    "#### **Step 3:** publish the update\n",
    "\n",
    "To publish the update, we must setup the CoAP server that will host the files on the SSH frontend. To download the update, the device will just perform CoAP GET request from this server.\n",
    "\n",
    "There are 2 things to take into account in the setup:\n",
    "- the SSH frontend provides the `aiocoap-fileserver` which is a tool based on the [aiocoap](https://aiocoap.readthedocs.io/en/latest/) Python library to expose files as CoAP resources. This is what will be used to expose updates to the devices\n",
    "- the firmware is generated in this notebook, so it has to be copied manually on the SSH frontend. You will use a simple `scp` to do this\n",
    "- the CoAP must listen on the same UDP port that was chosen when configuring the network\n",
    "\n",
    "1. Let's start the CoAP server first. From the terminal that was used to ping the device from the SSH frontend (the last one that you used), run the following commands (replace `<udp_port>` with the port you selected):"
   ]
  },
  {
   "cell_type": "raw",
   "metadata": {},
   "source": [
    "<login>@<site>:~$ mkdir -p ~/ota/fw/iotlab-m3\n",
    "<login>@<site>:~$ aiocoap-fileserver -p <udp_port> ~/ota"
   ]
  },
  {
   "cell_type": "markdown",
   "metadata": {},
   "source": [
    "Keep the server running."
   ]
  },
  {
   "cell_type": "markdown",
   "metadata": {},
   "source": [
    "2. Publish the new firmware version:\n",
    "\n",
    "RIOT provides the `suit/publish` to build and publish the generated update automatically. The CoAP server variable `SUIT_COAP_SERVER` must be set when publishing because it will be written in the SUIT manifest to tell the device at which url to download the update.\n",
    "`SUIT_COAP_SERVER` is the url of the server; e.g IPv6 address + UDP port, on the grenoble site it will be `[2001:660:5307:30ff::5]:<udp_port>` (make sure to adapt the IPv6 address depending on the IoT-LAB site you are currently using)."
   ]
  },
  {
   "cell_type": "code",
   "execution_count": null,
   "metadata": {},
   "outputs": [],
   "source": [
    "!make SUIT_COAP_SERVER=[2001:660:5307:30ff::5]:<udp_port> ETHOS_BAUDRATE=500000 suit/publish"
   ]
  },
  {
   "cell_type": "markdown",
   "metadata": {},
   "source": [
    "All generated files are located in `/home/user/iot-lab-training/riot/security/ota/bin/iotlab-m3/` as raw binary files:\n",
    "- `suit_update-riot.suit_signed.<version>.bin` is the SUIT manifest signed\n",
    "- `suit_update-slot1.<version>.riot.bin` is the new application, built for slot1, in case the running application on the device is on slot0\n",
    "- `suit_update-slot0.<version>.riot.bin` is the new application, built for slot0, in case the running application on the device is on slot1\n",
    "\n",
    "Let's copy them to firmware updates location on the SSH frontend. Replace `<site>` with the correct value."
   ]
  },
  {
   "cell_type": "code",
   "execution_count": null,
   "metadata": {},
   "outputs": [],
   "source": [
    "!scp bin/iotlab-m3/*.bin $IOTLAB_LOGIN@$SITE.iot-lab.info:~/ota/fw/iotlab-m3/."
   ]
  },
  {
   "cell_type": "markdown",
   "metadata": {},
   "source": [
    "Now it is time to download this update. The RIOT shell provides the `suit` command that initiates the SUIT procedure from the url of the update manifest.\n",
    "\n",
    "On our CoAP server, the SUIT manifest of the latest version can be downloaded at `coap://[2001:660:5307:30ff::5]:<udp_port>/fw/iotlab-m3/suit_update-riot.suit_signed.latest.bin`.\n",
    "\n",
    "In the RIOT shell available via `ethos`, trigger the firmware update (replace `<udp_port>` with the UDP port configured in your network and make sure to adapt the IPv6 address depending on the IoT-LAB site you are currently using):"
   ]
  },
  {
   "cell_type": "raw",
   "metadata": {},
   "source": [
    "> suit coap://[2001:660:5307:30ff::5]:<udp_port>/fw/iotlab-m3/suit_update-riot.suit_signed.latest.bin"
   ]
  },
  {
   "cell_type": "markdown",
   "metadata": {},
   "source": [
    "If everything succeeds, the RIOT application performs several steps:\n",
    "1. it downloads the manifest\n",
    "2. if checks the manifest (signature, version, etc)\n",
    "3. if all checks succeed, it fetches the new firmware image\n",
    "4. once the new firmware image download is complete, it verifies the hash of the image compared to the one given by the manifest\n",
    "5. it reboots the device to the new application (check the update of the version number and the active slot)"
   ]
  },
  {
   "cell_type": "markdown",
   "metadata": {},
   "source": [
    "Here is the expected output of the update trigger:"
   ]
  },
  {
   "cell_type": "raw",
   "metadata": {},
   "source": [
    "> suit coap://[2001:660:5307:30ff::5]:<udp_port>/fw/iotlab-m3/suit_update-riot.suit_signed.latest.bin\n",
    "suit coap://[2001:660:5307:30ff::5]:<udp_port>/fw/iotlab-m3/suit_update-riot.suit_signed.latest.bin\n",
    "suit_coap: trigger received\n",
    "suit_coap: downloading \"coap://[2001:660:5307:30ff::5]:<udp_port>/fw/iotlab-m3/suit_update-riot.suit_signed.latest.bin\"\n",
    "> suit_coap: got manifest with size 521\n",
    "suit: verifying manifest signature\n",
    "suit: validated manifest version\n",
    ")riotboot_hdr_validate: riotboot_hdr magic number invalid\n",
    "Manifest seq_no: 1609352410, highest available: 1609352332\n",
    "suit: validated sequence number\n",
    ")Formatted component name: \n",
    "Comparing manifest offset 1000 with other slot offset\n",
    "Comparing manifest offset 40800 with other slot offset\n",
    "validating vendor ID\n",
    "Comparing 547d0d74-6d3a-5a92-9662-4881afd9407b to 547d0d74-6d3a-5a92-9662-4881afd9407b from manifest\n",
    "validating vendor ID: OK\n",
    "validating class id\n",
    "Comparing 4448e64b-4d23-551e-b143-622726145213 to 4448e64b-4d23-551e-b143-622726145213 from manifest\n",
    "validating class id: OK\n",
    "Comparing manifest offset 1000 with other slot offset\n",
    "Comparing manifest offset 40800 with other slot offset\n",
    "SUIT policy check OK.\n",
    "Formatted component name: \n",
    "riotboot_flashwrite: initializing update to target slot 1\n",
    "Fetching firmware |█████████████████████████| 100%\n",
    "Finalizing payload store\n",
    "Verifying image digest\n",
    "Starting digest verification against image\n",
    "Install correct payload\n",
    "Verifying image digest\n",
    "Starting digest verification against image\n",
    "Install correct payload\n",
    "Image magic_number: 0x544f4952\n",
    "Image Version: 0x5fecc4da\n",
    "Image start address: 0x08040c00\n",
    "Header chksum: 0xb0aed66c\n",
    "\n",
    "suit_coap: rebooting...\n",
    "----> ethos: hello received\n",
    "Failed to send flush request: Operation not permitted\n",
    "gnrc_uhcpc: Using 4 as border interface and 0 as wireless interface.\n",
    "gnrc_uhcpc: only one interface found, skipping setup.\n",
    "main(): This is RIOT! (Version: labs)\n",
    "RIOT SUIT update example application\n",
    "Running from slot 1\n",
    "Image magic_number: 0x544f4952\n",
    "Image Version: 0x5fecc4da\n",
    "Image start address: 0x08040c00\n",
    "Header chksum: 0xb0aed66c\n",
    "\n",
    "suit_coap: started.\n",
    "Starting the shell\n",
    "> "
   ]
  },
  {
   "cell_type": "markdown",
   "metadata": {},
   "source": [
    "### Going further\n",
    "\n",
    "Here are a couple of ideas if you want to go further with firmware updates:\n",
    "\n",
    "#### Extend the application\n",
    "\n",
    "The default updatable application is running a CoAP server with only one resource available at `/riot/board` endpoint. You can add new endpoints to the application for reading the temperature or pressure from one of the sensors available on the IoT-LAB M3 device and publish an update of your new application (starting from step 3 in the previous section).\n",
    "\n",
    "#### Perform over-the-air updates\n",
    "\n",
    "Until now, in this notebook, firmware updates were only performed over a wired connection between the SSH frontend and the IoT-LAB M3 device. To perform the update over a wireless 802.15.4 radio, you can:\n",
    "- start an experiment with 2 IoT-LAB M3 devices, one will act as a border router between the wired network and a wireless network\n",
    "- setup a border router, see [ipv6](../../networking/ipv6/ipv6.ipynb)\n",
    "- disable `ethos` in each updatable firmwares by adding `ETHOS=0` to the build command line\n",
    "- enable the radio by prepending `USEMODULE=gnrc_netdev_default` to the build command line\n",
    "\n",
    "Example of provisioning command line:\n",
    "```\n",
    "USEMODULE=gnrc_netdev_default ETHOS=0 make IOTLAB_NODE=auto riotboot/flash-combined-slot0\n",
    "```\n",
    "\n",
    "Example of publish command line:\n",
    "```\n",
    "USEMODULE=gnrc_netdev_default ETHOS=0 SUIT_COAP_SERVER=[2001:660:5307:30ff::5]:<udp_port> make suit/publish\n",
    "```\n",
    "\n",
    "The firmware update takes significantly more time when performed over-the-air, but this is expected since the bandwidth is much smaller."
   ]
  },
  {
   "cell_type": "markdown",
   "metadata": {},
   "source": [
    "### Free up the resources\n",
    "\n",
    "1. Stop the `ethos` process by pressing the `Ctrl+C` keyboard shortcut in the terminal that is running it.\n",
    "\n",
    "\n",
    "2. Stop your experiment to free up the device:"
   ]
  },
  {
   "cell_type": "code",
   "execution_count": null,
   "metadata": {},
   "outputs": [],
   "source": [
    "!iotlab-experiment stop"
   ]
  }
 ],
 "metadata": {
  "kernelspec": {
   "display_name": "Python 3 (ipykernel)",
   "language": "python",
   "name": "python3"
  },
  "language_info": {
   "codemirror_mode": {
    "name": "ipython",
    "version": 3
   },
   "file_extension": ".py",
   "mimetype": "text/x-python",
   "name": "python",
   "nbconvert_exporter": "python",
   "pygments_lexer": "ipython3",
   "version": "3.9.7"
  }
 },
 "nbformat": 4,
 "nbformat_minor": 4
}
