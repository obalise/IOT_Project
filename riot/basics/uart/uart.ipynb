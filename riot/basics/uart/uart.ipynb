{
 "cells": [
  {
   "cell_type": "markdown",
   "metadata": {},
   "source": [
    "## UART\n",
    "\n",
    "In this exercise, we propose to use the [UART API of RIOT](http://doc.riot-os.org/group__drivers__periph__uart.html) in conjunction with the main thread to print all characters received on stdio.\n",
    "\n",
    "The application that you will write in this notebook will initialize the STDIO UART with a custom callback function. This callback function is triggered on each UART interrupt, e.g. for each character received, and sends the character via IPC to the main thread. On each IPC message, the main thread prints the content of the message.\n",
    "\n",
    "\n",
    "### Implement the application\n",
    "\n",
    "#### I. Adapt the Makefile\n",
    "\n",
    "1. Open the [Makefile](Makefile)\n",
    "2. Add the dependency to the `periph_uart` feature:\n",
    "\n",
    "```make\n",
    "FEATURES_REQUIRED += periph_uart\n",
    "```\n",
    "\n",
    "#### II. Adapt main.c\n",
    "\n",
    "Open the [main.c](main.c) file in a new tab.\n",
    "\n",
    "1. Add the missing includes for UART peripheral:\n",
    "\n",
    "```c\n",
    "#include \"periph/uart.h\"\n",
    "```\n",
    "2. Declare the message queue. A message queue is needed because IPC messages will be sent from interrupt context.\n",
    "\n",
    "```c\n",
    "#define MSG_QUEUE_SIZE    (8)\n",
    "static msg_t msg_queue[MSG_QUEUE_SIZE];\n",
    "```\n",
    "3. Implement the uart callback function: on each character received, this function will send it to the main thread. Note the context arg that contains the pid of the thread.\n",
    "```c\n",
    "static void uart_cb(void *arg, uint8_t data)\n",
    "{\n",
    "       kernel_pid_t *main_pid = (kernel_pid_t *)arg;\n",
    "       msg_t msg;\n",
    "       msg.content.value = data;\n",
    "\n",
    "       msg_send(&msg, *main_pid);\n",
    "}\n",
    "```\n",
    "4. Initialize the STDIO UART: in addition to the callback function implemented above, the main thread pid is given as context parameter.\n",
    "```c\n",
    "       kernel_pid_t main_pid = thread_getpid();\n",
    "       uart_init(STDIO_UART_DEV, STDIO_UART_BAUDRATE, uart_cb, &main_pid);\n",
    "```\n",
    "By default, the `STDIO_UART_DEV` and `STDIO_UART_BAUDRATE` constants correspond to respectively `UART_DEV(0)` and `115200` but can be adjusted a board level if special configuration is needed depending on the board setup.\n",
    "5. Add the reception loop at the end of the main function: it simply is an endless loop that waits for incoming the IPC messages sent from the UART callback function. Each character received is writen to stdout. Also note the message queue initialization: it's important because messages are sent from interupt context and this is not blocking.\n",
    "```c\n",
    "       msg_init_queue(msg_queue, MSG_QUEUE_SIZE);\n",
    "       while (1) {\n",
    "           msg_t msg;\n",
    "           msg_receive(&msg);\n",
    "           printf(\"received: %c\\n\", (char)msg.content.value);\n",
    "       }\n",
    "```\n",
    "\n",
    "### Build for an iotlab-m3\n",
    "\n",
    "Build the firmware for the `iotlab-m3` target, using the `BOARD` variable (default board in the [Makefile](Makefile)):"
   ]
  },
  {
   "cell_type": "code",
   "execution_count": null,
   "metadata": {},
   "outputs": [],
   "source": [
    "!make"
   ]
  },
  {
   "cell_type": "markdown",
   "metadata": {},
   "source": [
    "### Submit an experiment on IoT-LAB\n",
    "\n",
    "1. Choose your site (grenoble|lille|saclay|strasbourg):"
   ]
  },
  {
   "cell_type": "code",
   "execution_count": null,
   "metadata": {},
   "outputs": [],
   "source": [
    "%env SITE=saclay"
   ]
  },
  {
   "cell_type": "markdown",
   "metadata": {},
   "source": [
    "2. Submit an experiment using the following command:"
   ]
  },
  {
   "cell_type": "code",
   "execution_count": null,
   "metadata": {},
   "outputs": [],
   "source": [
    "!iotlab-experiment submit -n \"uart\" -d 20 -l 1,archi=m3:at86rf231+site=$SITE"
   ]
  },
  {
   "cell_type": "markdown",
   "metadata": {},
   "source": [
    "3. Wait for the experiment to be in the Running state:"
   ]
  },
  {
   "cell_type": "code",
   "execution_count": null,
   "metadata": {},
   "outputs": [],
   "source": [
    "!iotlab-experiment wait --timeout 30 --cancel-on-timeout"
   ]
  },
  {
   "cell_type": "markdown",
   "metadata": {},
   "source": [
    "**Note:** If the command above returns the message `Timeout reached, cancelling experiment <exp_id>`, try to re-submit your experiment later or try on another site.\n",
    "\n",
    "4. Get the experiment nodes list:"
   ]
  },
  {
   "cell_type": "code",
   "execution_count": null,
   "metadata": {},
   "outputs": [],
   "source": [
    "!iotlab-experiment --jmespath=\"items[*].network_address | sort(@)\" get --nodes"
   ]
  },
  {
   "cell_type": "markdown",
   "metadata": {},
   "source": [
    "5. Flash the firmware on the iotlab-m3:"
   ]
  },
  {
   "cell_type": "code",
   "execution_count": null,
   "metadata": {},
   "outputs": [],
   "source": [
    "!make IOTLAB_NODE=auto flash-only"
   ]
  },
  {
   "cell_type": "markdown",
   "metadata": {},
   "source": [
    "### Open a terminal and test the application\n",
    "\n",
    "Open a Jupyter terminal (use `File > New > Terminal`) and type characters + Enter in the terminal."
   ]
  },
  {
   "cell_type": "raw",
   "metadata": {},
   "source": [
    "make IOTLAB_NODE=auto -C riot/basics/uart term"
   ]
  },
  {
   "cell_type": "markdown",
   "metadata": {},
   "source": [
    "The application should echo your inputs!"
   ]
  },
  {
   "cell_type": "raw",
   "metadata": {},
   "source": [
    "lmdfmdlkf\n",
    "received: l\n",
    "received: m\n",
    "received: d\n",
    "received: f\n",
    "received: m\n",
    "received: d\n",
    "received: l\n",
    "received: k\n",
    "received: f\n",
    "received: "
   ]
  },
  {
   "cell_type": "markdown",
   "metadata": {},
   "source": [
    "### Free up the resources\n",
    "\n",
    "Since you finished the training, stop your experiment to free up the experiment nodes:"
   ]
  },
  {
   "cell_type": "code",
   "execution_count": null,
   "metadata": {},
   "outputs": [],
   "source": [
    "!iotlab-experiment stop"
   ]
  },
  {
   "cell_type": "markdown",
   "metadata": {},
   "source": [
    "### Going further\n",
    "\n",
    "As you can see, the application has some limitations:\n",
    "- characters are printed one by one\n",
    "- the message queue size introduce a limitation when too many characters are sent before pressing enter\n",
    "\n",
    "You could try to improve the application by adding each character received in an intermediate static buffer of let's say 64B size:\n",
    "```\n",
    "static uint8_t buffer[64];\n",
    "```\n",
    "\n",
    "and send an IPC message only when the received character is `\\n`.\n",
    "Some things to also think about:\n",
    "- you will have to handle the current position in the buffer\n",
    "- be careful with the closing character of a string (`\\0`)\n",
    "- when printing the buffer, it must be casted to `char *`."
   ]
  }
 ],
 "metadata": {
  "kernelspec": {
   "display_name": "Python 3 (ipykernel)",
   "language": "python",
   "name": "python3"
  },
  "language_info": {
   "codemirror_mode": {
    "name": "ipython",
    "version": 3
   },
   "file_extension": ".py",
   "mimetype": "text/x-python",
   "name": "python",
   "nbconvert_exporter": "python",
   "pygments_lexer": "ipython3",
   "version": "3.9.7"
  }
 },
 "nbformat": 4,
 "nbformat_minor": 4
}
