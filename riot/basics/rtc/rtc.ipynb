{
 "cells": [
  {
   "cell_type": "markdown",
   "metadata": {},
   "source": [
    "## Real Time Clock (RTC)\n",
    "\n",
    "In this exercise, we propose to use the [RTC API of RIOT](http://doc.riot-os.org/group__drivers__periph__rtc.html) in conjunction with the main thread to print the current RTC time every 5s.\n",
    "\n",
    "The application that you will write in this notebook will:\n",
    "1. print the current time and set an RTC alarm 5 seconds later in the main thread that will then wait for an IPC message\n",
    "2. the callback function triggered by the RTC alarm will send an IPC message to the main thread\n",
    "3. on reception of the IPC message, the main thread will print the current time and configure the next alarm, and so on.\n",
    "\n",
    "\n",
    "### Implement the application\n",
    "\n",
    "#### I. Adapt the Makefile\n",
    "\n",
    "1. Open the [Makefile](Makefile)\n",
    "2. Add the dependency to the `periph_rtc` feature:\n",
    "\n",
    "```make\n",
    "FEATURES_REQUIRED += periph_rtc\n",
    "```\n",
    "\n",
    "#### II. Adapt main.c\n",
    "\n",
    "Open the [main.c](main.c) file in a new tab.\n",
    "\n",
    "1. Add the missing includes for RTC peripheral and the time manipulation functions:\n",
    "\n",
    "```c\n",
    "#include \"periph/rtc.h\"\n",
    "```\n",
    "2. Implement the RTC alarm callback function: this function will simply send an empty IPC message to the main thread. Note the context arg that contains the pid of the main thread.\n",
    "```c\n",
    "static void rtc_alarm_cb(void *arg)\n",
    "{\n",
    "       kernel_pid_t *main_pid = (kernel_pid_t *)arg;\n",
    "       msg_t msg;\n",
    "\n",
    "       msg_send(&msg, *main_pid);\n",
    "}\n",
    "```\n",
    "3. At the beginning of the main function, read the current RTC time and print it:\n",
    "```c\n",
    "       struct tm time;\n",
    "       rtc_get_time(&time);\n",
    "       printf(\"Startup time: %d:%d:%d\\n\",\n",
    "              time.tm_hour, time.tm_min, time.tm_sec);\n",
    "```\n",
    "4. In the do..while loop, configure the next alarm in 5 seconds. Note the context argument that contains the pid of the current thread. The `mktime` function is used to make sure the time format is correct (e.g 58s + 5s -> 1m3s).\n",
    "```c\n",
    "           time.tm_sec += 5;\n",
    "           mktime(&time);\n",
    "           kernel_pid_t main_pid = thread_getpid();\n",
    "           rtc_set_alarm(&time, rtc_alarm_cb, &main_pid);\n",
    "```\n",
    "5. Next, wait for incoming messages:\n",
    "```c\n",
    "           msg_t msg;\n",
    "           msg_receive(&msg);\n",
    "           printf(\"Alarm received: \");\n",
    "```\n",
    "6. Finally, after a message is received, read the current time and print it:\n",
    "```c\n",
    "           rtc_get_time(&time);\n",
    "           printf(\"%d:%d:%d\\n\", time.tm_hour, time.tm_min, time.tm_sec);\n",
    "```\n",
    "\n",
    "### Build for an iotlab-m3\n",
    "\n",
    "Build the firmware for the `iotlab-m3` target, using the `BOARD` variable (default board in the [Makefile](Makefile)):"
   ]
  },
  {
   "cell_type": "code",
   "execution_count": null,
   "metadata": {},
   "outputs": [],
   "source": [
    "!make"
   ]
  },
  {
   "cell_type": "markdown",
   "metadata": {},
   "source": [
    "### Submit an experiment on IoT-LAB\n",
    "\n",
    "1. Choose your site (grenoble|lille|saclay|strasbourg):"
   ]
  },
  {
   "cell_type": "code",
   "execution_count": null,
   "metadata": {},
   "outputs": [],
   "source": [
    "%env SITE=saclay"
   ]
  },
  {
   "cell_type": "markdown",
   "metadata": {},
   "source": [
    "2. Submit an experiment using the following command:"
   ]
  },
  {
   "cell_type": "code",
   "execution_count": null,
   "metadata": {},
   "outputs": [],
   "source": [
    "!iotlab-experiment submit -n \"rtc\" -d 20 -l 1,archi=m3:at86rf231+site=$SITE"
   ]
  },
  {
   "cell_type": "markdown",
   "metadata": {},
   "source": [
    "3. Wait for the experiment to be in the Running state:"
   ]
  },
  {
   "cell_type": "code",
   "execution_count": null,
   "metadata": {},
   "outputs": [],
   "source": [
    "!iotlab-experiment wait --timeout 30 --cancel-on-timeout"
   ]
  },
  {
   "cell_type": "markdown",
   "metadata": {},
   "source": [
    "**Note:** If the command above returns the message `Timeout reached, cancelling experiment <exp_id>`, try to re-submit your experiment later or try on another site.\n",
    "\n",
    "4. Get the experiment nodes list:"
   ]
  },
  {
   "cell_type": "code",
   "execution_count": null,
   "metadata": {},
   "outputs": [],
   "source": [
    "!iotlab-experiment --jmespath=\"items[*].network_address | sort(@)\" get --nodes"
   ]
  },
  {
   "cell_type": "markdown",
   "metadata": {},
   "source": [
    "5. Flash the firmware on the iotlab-m3:"
   ]
  },
  {
   "cell_type": "code",
   "execution_count": null,
   "metadata": {},
   "outputs": [],
   "source": [
    "!make IOTLAB_NODE=auto flash-only"
   ]
  },
  {
   "cell_type": "markdown",
   "metadata": {},
   "source": [
    "### Open a terminal and test the application\n",
    "\n",
    "Open a Jupyter terminal (use `File > New > Terminal`) and type characters + Enter in the terminal."
   ]
  },
  {
   "cell_type": "raw",
   "metadata": {},
   "source": [
    "make IOTLAB_NODE=auto -C riot/basics/rtc term"
   ]
  },
  {
   "cell_type": "markdown",
   "metadata": {},
   "source": [
    "You should see the following output:"
   ]
  },
  {
   "cell_type": "raw",
   "metadata": {},
   "source": [
    "Alarm received: 0:0:10\n",
    "Alarm received: 0:0:15\n",
    "Alarm received: 0:0:20\n",
    "Alarm received: 0:0:25\n",
    "Alarm received: 0:0:30"
   ]
  },
  {
   "cell_type": "markdown",
   "metadata": {},
   "source": [
    "By default, the RTC is initialized at 00:00:00 but it can be configured using the [rtc_set_time](http://doc.riot-os.org/group__drivers__periph__rtc.html#gaa2d60ad372a3712b875a15e07c517843) function.\n",
    "\n",
    "### Free up the resources\n",
    "\n",
    "Since you finished the training, stop your experiment to free up the experiment nodes:"
   ]
  },
  {
   "cell_type": "code",
   "execution_count": null,
   "metadata": {},
   "outputs": [],
   "source": [
    "!iotlab-experiment stop"
   ]
  }
 ],
 "metadata": {
  "kernelspec": {
   "display_name": "Python 3 (ipykernel)",
   "language": "python",
   "name": "python3"
  },
  "language_info": {
   "codemirror_mode": {
    "name": "ipython",
    "version": 3
   },
   "file_extension": ".py",
   "mimetype": "text/x-python",
   "name": "python",
   "nbconvert_exporter": "python",
   "pygments_lexer": "ipython3",
   "version": "3.9.7"
  }
 },
 "nbformat": 4,
 "nbformat_minor": 4
}
