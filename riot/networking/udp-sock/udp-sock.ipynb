{
 "cells": [
  {
   "cell_type": "markdown",
   "metadata": {},
   "source": [
    "## UDP networking using the Sock API\n",
    "\n",
    "In this exercise, we propose to implement 2 UDP applications:\n",
    "- one client that periodically sends the \"Hello Server\" message\n",
    "- one server that echoes all messages received\n",
    "\n",
    "The server listens on port 8888. The client sends its messages to the IPv6 link-local address of the server.\n",
    "\n",
    "Both applications will be based on the [UDP sock API](http://doc.riot-os.org/group__net__sock__udp.html) of RIOT.\n",
    "\n",
    "### Implement the server application\n",
    "\n",
    "1. Open the server application [Makefile](server/Makefile) and add the required network modules:\n",
    "\n",
    "```make\n",
    "USEMODULE += gnrc_ipv6_default\n",
    "USEMODULE += sock_udp\n",
    "```\n",
    "\n",
    "3. Open the server [main.c](server/main.c) file and the sock udp header include:\n",
    "\n",
    "```c\n",
    "#include \"net/sock/udp.h\"\n",
    "```\n",
    "\n",
    "4. In the _main_ function, create the UDP sock endpoint:\n",
    "\n",
    "```c\n",
    "    sock_udp_ep_t local = SOCK_IPV6_EP_ANY;\n",
    "    sock_udp_t sock;\n",
    "    local.port = SERVER_PORT;\n",
    "    if (sock_udp_create(&sock, &local, NULL, 0) < 0) {\n",
    "        puts(\"Error creating UDP sock\");\n",
    "        return 1;\n",
    "    }\n",
    "```\n",
    "\n",
    "5. Finally, in the while loop, implement the UDP packet reception logic. Each received packet is sent back to the sender:\n",
    "\n",
    "```c\n",
    "        sock_udp_ep_t remote;\n",
    "        ssize_t res;\n",
    "        if ((res = sock_udp_recv(&sock, buf, sizeof(buf), SOCK_NO_TIMEOUT,\n",
    "                                 &remote)) >= 0) {\n",
    "\n",
    "            printf(\"Message received: %s\\n\", (char*)buf);\n",
    "\n",
    "            if (sock_udp_send(&sock, buf, res, &remote) < 0) {\n",
    "                puts(\"Error sending reply\");\n",
    "            }\n",
    "        }\n",
    "```\n",
    "\n",
    "6. Verify the build of the server application (iotlab-m3 is the default board in the Makefile)"
   ]
  },
  {
   "cell_type": "code",
   "execution_count": null,
   "metadata": {},
   "outputs": [],
   "source": [
    "!make -C server"
   ]
  },
  {
   "cell_type": "markdown",
   "metadata": {},
   "source": [
    "### Implement the client application\n",
    "\n",
    "\n",
    "1. Open the client application [Makefile](client/Makefile) and add the required network modules:\n",
    "\n",
    "```mk\n",
    "USEMODULE += gnrc_ipv6_default\n",
    "USEMODULE += sock_udp\n",
    "```\n",
    "\n",
    "2. Open the [main.c](client/main.c) file and add the IPv6/UDP header includes:\n",
    "\n",
    "```c\n",
    "#include \"net/netif.h\"\n",
    "#include \"net/ipv6/addr.h\"\n",
    "#include \"net/sock/udp.h\"\n",
    "```\n",
    "\n",
    "3. At the beginning of the _main_ function, add the code to create the sock UDP endpoint:\n",
    "\n",
    "```c\n",
    "    sock_udp_ep_t local = SOCK_IPV6_EP_ANY;\n",
    "    sock_udp_t sock;\n",
    "    local.port = 0xabcd;\n",
    "    if (sock_udp_create(&sock, &local, NULL, 0) < 0) {\n",
    "        puts(\"Error creating UDP sock\");\n",
    "        return 1;\n",
    "    }\n",
    "```\n",
    "\n",
    "4. Configure the remote destination address (using `SERVER_ADDR`) and port (using `SERVER_PORT`):\n",
    "\n",
    "```c\n",
    "    sock_udp_ep_t remote = { .family = AF_INET6, .netif = 5  };\n",
    "    remote.port = SERVER_PORT;\n",
    "\n",
    "    /* Convert server address from string to ipv6_addr_t */\n",
    "    if (ipv6_addr_from_str((ipv6_addr_t *)&remote.addr.ipv6, SERVER_ADDR) == NULL) {\n",
    "        puts(\"Cannot convert server address\");\n",
    "        sock_udp_close(&sock);\n",
    "        return 1;\n",
    "    }\n",
    "```\n",
    "\n",
    "5. In the while loop, send the message via UDP to the server:\n",
    "\n",
    "```c\n",
    "        if (sock_udp_send(&sock, CLIENT_MESSAGE, sizeof(CLIENT_MESSAGE),\n",
    "                          &remote) < 0) {\n",
    "            puts(\"Error sending message\");\n",
    "            sock_udp_close(&sock);\n",
    "            return 1;\n",
    "        }\n",
    "```\n",
    "\n",
    "6. Now that the message is sent, the client can wait for the reply from the server:\n",
    "\n",
    "```c\n",
    "        ssize_t res;\n",
    "        if ((res = sock_udp_recv(&sock, buf, sizeof(buf), 1 * US_PER_SEC,\n",
    "                                NULL)) < 0) {\n",
    "            if (res == -ETIMEDOUT) {\n",
    "                puts(\"Timed out\");\n",
    "            }\n",
    "            else {\n",
    "                puts(\"Error receiving message\");\n",
    "            }\n",
    "        }\n",
    "        else {\n",
    "            printf(\"Reply received: \\\"\");\n",
    "            for (int i = 0; i < res; i++) {\n",
    "                printf(\"%c\", buf[i]);\n",
    "            }\n",
    "            puts(\"\\\"\");\n",
    "        }\n",
    "```\n",
    "\n",
    "6. Verify the build of the server application (iotlab-m3 is the default board in the Makefile)"
   ]
  },
  {
   "cell_type": "code",
   "execution_count": null,
   "metadata": {},
   "outputs": [],
   "source": [
    "!make -C client"
   ]
  },
  {
   "cell_type": "markdown",
   "metadata": {},
   "source": [
    "### Submit an experiment on IoT-LAB\n",
    "\n",
    "#### Radio settings\n",
    "\n",
    "If you are running this training as the same time as other people on the testbed, it is a good idea to change the default radio configuration to avoid too much collision with others.\n",
    "\n",
    "Use the following cell to give you random values for channel and PAN ID that you will use in the next celluls."
   ]
  },
  {
   "cell_type": "code",
   "execution_count": null,
   "metadata": {},
   "outputs": [],
   "source": [
    "import os,binascii,random\n",
    "pan_id = binascii.b2a_hex(os.urandom(2)).decode()\n",
    "channel = random.randint(11, 26)\n",
    "print('Use CHANNEL={}, PAN_ID=0x{}'.format(channel, pan_id))"
   ]
  },
  {
   "cell_type": "markdown",
   "metadata": {},
   "source": [
    "### Submit an experiment on IoT-LAB\n",
    "\n",
    "1. Choose your site (grenoble|lille|saclay|strasbourg):"
   ]
  },
  {
   "cell_type": "code",
   "execution_count": null,
   "metadata": {},
   "outputs": [],
   "source": [
    "%env SITE=saclay"
   ]
  },
  {
   "cell_type": "markdown",
   "metadata": {},
   "source": [
    "2. Submit an experiment with two nodes"
   ]
  },
  {
   "cell_type": "code",
   "execution_count": null,
   "metadata": {},
   "outputs": [],
   "source": [
    "!iotlab-experiment submit -n \"riot-udp-sock\" -d 60 -l 2,archi=m3:at86rf231+site=$SITE"
   ]
  },
  {
   "cell_type": "markdown",
   "metadata": {},
   "source": [
    "3. Wait for the experiment to be in the Running state:"
   ]
  },
  {
   "cell_type": "code",
   "execution_count": null,
   "metadata": {},
   "outputs": [],
   "source": [
    "!iotlab-experiment wait --timeout 30 --cancel-on-timeout"
   ]
  },
  {
   "cell_type": "markdown",
   "metadata": {},
   "source": [
    "**Note:** If the command above returns the message `Timeout reached, cancelling experiment <exp_id>`, try to re-submit your experiment later or try on another site.\n",
    "    \n",
    "4. Check the nodes allocated to the experiment"
   ]
  },
  {
   "cell_type": "code",
   "execution_count": null,
   "metadata": {},
   "outputs": [],
   "source": [
    "!iotlab-experiment --jmespath=\"items[*].network_address | sort(@)\" get --nodes"
   ]
  },
  {
   "cell_type": "markdown",
   "metadata": {},
   "source": [
    "From here you will choose one node with the server role and the other one with client role. You need to open a terminal for the server\n",
    "\n",
    "5. For server node, open a Jupyter terminal (use `File > New > Terminal`) and run the command replacing `<channel> <pan_id>` by the values you obtained in the `Radio settings` section and `<id> <site>`with the right values"
   ]
  },
  {
   "cell_type": "code",
   "execution_count": null,
   "metadata": {},
   "outputs": [],
   "source": [
    "make -C riot/networking/udp-sock/server DEFAULT_CHANNEL=<channel> DEFAULT_PAN_ID=<pan_id> IOTLAB_NODE=m3-<id>.<site>.iot-lab.info flash term"
   ]
  },
  {
   "cell_type": "markdown",
   "metadata": {},
   "source": [
    "After a few seconds, the configured interface is printed as follows:"
   ]
  },
  {
   "cell_type": "raw",
   "metadata": {},
   "source": [
    "Configured network interfaces:\n",
    "Iface  5  HWaddr: F2:9D:F4:58:14:D4\n",
    "        L2-PDU:1500 MTU:1500  HL:64  Source address length: 6\n",
    "        Link type: wired\n",
    "        inet6 addr: fe80::f09d:f4ff:fe58:14d4  scope: local  TNT[1]\n",
    "        inet6 group: ff02::1\n",
    "        inet6 group: ff02::1:ff58:14d4"
   ]
  },
  {
   "cell_type": "markdown",
   "metadata": {},
   "source": [
    "With the printed message, you can retrieve the server link-local address. In the above example it's **fe80::f09d:f4ff:fe58:14d4**. Keep the terminal open and the server application running.\n",
    "\n",
    "6. For client node, open a nes Jupyter terminal (use `File > New > Terminal`) and run the command replacing `<channel> <pan_id>` by the values you obtained in the `Radio settings` section and `<id> <site>` with the right values. For `<link-local-addr>` use the server address obtained above."
   ]
  },
  {
   "cell_type": "raw",
   "metadata": {},
   "source": [
    "make -C riot/networking/udp/client SERVER_ADDR=<link-local-addr> DEFAULT_CHANNEL=<channel> DEFAULT_PAN_ID=<pan_id> IOTLAB_NODE=m3-<id>.<site>.iot-lab.info flash"
   ]
  },
  {
   "cell_type": "markdown",
   "metadata": {},
   "source": [
    "On the server terminal, you should see the following messages:"
   ]
  },
  {
   "cell_type": "raw",
   "metadata": {},
   "source": [
    "Message received: Hello Server\n",
    "Message received: Hello Server\n",
    "Message received: Hello Server\n",
    "Message received: Hello Server\n",
    "Message received: Hello Server"
   ]
  },
  {
   "cell_type": "markdown",
   "metadata": {},
   "source": [
    "On the client terminal, you should see the following messages:"
   ]
  },
  {
   "cell_type": "raw",
   "metadata": {},
   "source": [
    "Reply received: \"Hello Server\"\n",
    "Reply received: \"Hello Server\"\n",
    "Reply received: \"Hello Server\"\n",
    "Reply received: \"Hello Server\"\n",
    "Reply received: \"Hello Server\""
   ]
  },
  {
   "cell_type": "markdown",
   "metadata": {},
   "source": [
    "### Free up the resources\n",
    "\n",
    "Since you finished the training, stop your experiment to free up the experiment nodes:"
   ]
  },
  {
   "cell_type": "code",
   "execution_count": null,
   "metadata": {},
   "outputs": [],
   "source": [
    "!iotlab-experiment stop"
   ]
  }
 ],
 "metadata": {
  "kernelspec": {
   "display_name": "Python 3 (ipykernel)",
   "language": "python",
   "name": "python3"
  },
  "language_info": {
   "codemirror_mode": {
    "name": "ipython",
    "version": 3
   },
   "file_extension": ".py",
   "mimetype": "text/x-python",
   "name": "python",
   "nbconvert_exporter": "python",
   "pygments_lexer": "ipython3",
   "version": "3.9.7"
  }
 },
 "nbformat": 4,
 "nbformat_minor": 4
}
