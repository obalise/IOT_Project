{
 "cells": [
  {
   "cell_type": "markdown",
   "metadata": {},
   "source": [
    "# Welcome to the IoT-LAB testbed training\n",
    "\n",
    "This repository contains training resources to easily start using the IoT-LAB testbed.\n",
    "\n",
    "## Short introduction to JupyterLab\n",
    "\n",
    "[JupyterLab](https://jupyterlab.readthedocs.io/en/latest/) enables you to work with documents and activities such as Jupyter notebooks, code editors and terminals. You can arrange multiple documents and activities side by side in the work area using tabs and splitters.\n",
    "\n",
    "Jupyter notebooks are documents that combine live runnable code with narrative text (Markdown), equations (LaTeX), images, interactive visualizations and other rich output. It is used by scientists and scholars to create and share their research, especially in the data science community.\n",
    "\n",
    "For a complete introduction to Jupyter Notebooks, refer to the [official user documentation](https://jupyterlab.readthedocs.io/en/latest/user/notebook.html).\n",
    "\n",
    "In the sections below, we describe the minimum required functions that will allow to follow the notebooks available in this training.\n",
    "\n",
    "The notebook consists of a sequence of cells:\n",
    "- A cell is a multiline text input field, and its contents can be executed by using **Ctrl+Enter**, or by clicking either **the “Play” button**\n",
    "- Use the _up_ and _down_ arrows of the keyboard to navigate between cells\n",
    "- The **Shift+Enter** keyboard shortcut executes the currently selected cell and selects the next one automatically\n",
    "\n",
    "### Code cells\n",
    "\n",
    "A code cell allows you to edit and write new code, with full syntax highlighting and tab completion.\n",
    "\n",
    "In general, Jupyter notebooks contain Python code. Once selected the cell should be executed with **Ctrl+Enter** shortcut. The results that are returned from this computation are then displayed in the notebook as the cell’s output.\n",
    " "
   ]
  },
  {
   "cell_type": "code",
   "execution_count": null,
   "metadata": {},
   "outputs": [],
   "source": [
    "print(\"Hello Jupyter!\")"
   ]
  },
  {
   "cell_type": "markdown",
   "metadata": {},
   "source": [
    "In our notebooks you will mainly find shell commands executed in the Jupyterlab server. In this case the cell should start with exclamation mark."
   ]
  },
  {
   "cell_type": "code",
   "execution_count": null,
   "metadata": {},
   "outputs": [],
   "source": [
    "!echo \"Hello Jupyter!\""
   ]
  },
  {
   "cell_type": "markdown",
   "metadata": {},
   "source": [
    "Finally you will also find lines starting with the '%' character. They are used to set environment variables.  "
   ]
  },
  {
   "cell_type": "code",
   "execution_count": null,
   "metadata": {},
   "outputs": [],
   "source": [
    "%env HELLO_JUPYTER=\"Hello Jupyter!\"\n",
    "!echo $HELLO_JUPYTER"
   ]
  },
  {
   "cell_type": "markdown",
   "metadata": {},
   "source": [
    " \n",
    "### Raw cells\n",
    "\n",
    "A raw cell provides a place in which you can write output directly. Raw cells are not evaluated by the notebook. \n",
    "\n",
    "In our context we use raw cells when commands need user interaction. In this case you must copy/paste them from the raw cell to the good destination using the usual **Ctrl+C** and **Ctrl+V** keyboard shortcuts and execute them directly.\n",
    "\n",
    "There are 3 categories of commands:\n",
    "\n",
    "1. Commands that must be run in a **JupyterLab terminal**:\n",
    "\n",
    "To open a Jupyterlab terminal, select the top leftmost menu entry in `File > New > Terminal`. You can try with the cell below which display string that is passed as an argument."
   ]
  },
  {
   "cell_type": "raw",
   "metadata": {},
   "source": [
    "echo \"Hello Jupyter!\""
   ]
  },
  {
   "cell_type": "markdown",
   "metadata": {},
   "source": [
    "2. Commands that must be run on the **SSH frontend** of an IoT-LAB site: they are prefixed with the prompt `<login>@<site>:~$ `.\n",
    "\n",
    "This means that before running this command after the prompt, you should open a SSH connection to the site frontend with a JupyterLab terminal as below."
   ]
  },
  {
   "cell_type": "raw",
   "metadata": {},
   "source": [
    "ssh $IOTLAB_LOGIN@<site>.iot-lab.info"
   ]
  },
  {
   "cell_type": "markdown",
   "metadata": {},
   "source": [
    "You can replace `<site>` string among the following IoT-LAB sites name: **grenoble**, **lille**, **saclay** and **strasbourg**.\n",
    "\n",
    "For example, to execute the `echo` command the raw cell will contain:"
   ]
  },
  {
   "cell_type": "raw",
   "metadata": {},
   "source": [
    "<login>@<site>:~$ echo \"Hello SSH frontend!\""
   ]
  },
  {
   "cell_type": "markdown",
   "metadata": {},
   "source": [
    "3. Commands that must be run in an **embedded OS shell** (i.e. RIOT or Contiki-NG) : they are prefixed with the prompt `>`.\n",
    "\n",
    "In the following example you use the `ifconfig` command of the RIOT shell which displays the configuration of the network interfaces."
   ]
  },
  {
   "cell_type": "raw",
   "metadata": {},
   "source": [
    "> ifconfig"
   ]
  },
  {
   "cell_type": "markdown",
   "metadata": {},
   "source": [
    "Sometimes the expected output of the command is also given in the raw cells to help you and check the good execution:"
   ]
  },
  {
   "cell_type": "raw",
   "metadata": {},
   "source": [
    "> ifconfig\n",
    "Iface  7  HWaddr: 11:15  Channel: 26  Page: 0  NID: 0x23\n",
    "          Long HWaddr: 22:5C:FC:65:10:6B:11:15 \n",
    "          ..."
   ]
  },
  {
   "cell_type": "markdown",
   "metadata": {},
   "source": [
    "## How to update the notebooks\n",
    "\n",
    "The first time you login to [https://labs.iot-lab.info](https://labs.iot-lab.info), the training repository is clone in the `~/work/training` directory. If you want to fetch the latest version of the training exercises, you can follow the [update notebook](update.ipynb) at the root of jupyterlab server.\n",
    "\n",
    "If you feel confortable with git, you can also use git directly from a terminal."
   ]
  }
 ],
 "metadata": {
  "kernelspec": {
   "display_name": "Python 3",
   "language": "python",
   "name": "python3"
  },
  "language_info": {
   "codemirror_mode": {
    "name": "ipython",
    "version": 3
   },
   "file_extension": ".py",
   "mimetype": "text/x-python",
   "name": "python",
   "nbconvert_exporter": "python",
   "pygments_lexer": "ipython3",
   "version": "3.8.6"
  }
 },
 "nbformat": 4,
 "nbformat_minor": 4
}
