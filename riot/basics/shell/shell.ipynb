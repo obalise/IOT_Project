{
 "cells": [
  {
   "cell_type": "markdown",
   "metadata": {},
   "source": [
    "## Extending a RIOT application\n",
    "\n",
    "In this exercise, you will extend a RIOT application with new shell commands and add an interactive behavior:\n",
    "\n",
    "- the 'board' command will return the name of the board\n",
    "- the 'cpu' command will return the name of the cpu\n",
    "\n",
    "You will have to edit the [Makefile](Makefile) and the [main.c](main.c) files of the application in this notebook.\n",
    "\n",
    "For all shell commands, this notebook will precisely give you the implementation and give you all useful documentation links (online documentation and similar sample applications).\n",
    "\n",
    "### Add the shell module to the build\n",
    "\n",
    "Edit the file [Makefile](Makefile) and add there the `shell` module to the build.\n",
    "\n",
    "```mk\n",
    "USEMODULE += shell\n",
    "```\n",
    "\n",
    "### Add basic shell to the application\n",
    "\n",
    "The first thing to do is to include the `shell.h` header at the beginning of the [main.c](main.c) file, just below the line `#include <stdio.h>`:\n",
    "\n",
    "```c\n",
    "#include \"shell.h\"\n",
    "```\n",
    "\n",
    "Then, in the `main` function, the shell can be started by adding the following code before `return 0`:\n",
    "\n",
    "```c\n",
    "    char line_buf[SHELL_DEFAULT_BUFSIZE];\n",
    "    shell_run(NULL, line_buf, SHELL_DEFAULT_BUFSIZE);\n",
    "```\n",
    "\n",
    "The application can be tested on the `native` platform with the following commands (**open a terminal in File > New > Terminal menu**):"
   ]
  },
  {
   "cell_type": "raw",
   "metadata": {},
   "source": [
    "make -C riot/basics/shell all term"
   ]
  },
  {
   "cell_type": "markdown",
   "metadata": {},
   "source": [
    "By default, the shell module provides the `help` command to list available commands. Try it.\n",
    "\n",
    "As you can see, there is no available command.\n",
    "\n",
    "**Important:** Use Ctrl+C to quit the RIOT native instance running in the terminal.\n",
    "\n",
    "Let's implement a couple of simple ones to print the board and cpu.\n",
    "\n",
    "### Implement simple shell commands\n",
    "\n",
    "RIOT provides 2 predefined macros that contain the current board and cpu the application is running on: `RIOT_BOARD` and `RIOT_CPU`. You will use them to print the board and cpu in the corresponding shell commands, e.g. `board` and `cpu` callbacks.\n",
    "\n",
    "1. In [main.c](main.c), let's add the callback functions for the `board` and `cpu` commands, just below the line `#include \"shell.h`:\n",
    "\n",
    "```c\n",
    "static int _board_handler(int argc, char **argv)\n",
    "{\n",
    "    /* These parameters are not used, avoid a warning during build */\n",
    "    (void)argc;\n",
    "    (void)argv;\n",
    "    \n",
    "    puts(RIOT_BOARD);\n",
    "    \n",
    "    return 0;\n",
    "}\n",
    "\n",
    "static int _cpu_handler(int argc, char **argv)\n",
    "{\n",
    "    /* These parameters are not used, avoid a warning during build */\n",
    "    (void)argc;\n",
    "    (void)argv;\n",
    "    \n",
    "    puts(RIOT_CPU);\n",
    "    \n",
    "    return 0;\n",
    "}\n",
    "```\n",
    "\n",
    "2. Now let's define the command name, the help message and the associated callback function in the list of available shell commands. This is simply done by adding the following code between the function callbacks and the main function:\n",
    "\n",
    "```c\n",
    "static const shell_command_t shell_commands[] = {\n",
    "    { \"board\", \"Print the board name\", _board_handler },\n",
    "    { \"cpu\", \"Print the cpu name\", _cpu_handler },\n",
    "    { NULL, NULL, NULL }\n",
    "};\n",
    "```\n",
    "\n",
    "3. In the main function, modify the `shell_run` call to integrate the new extended `shell_commands` list:\n",
    "\n",
    "```c\n",
    "shell_run(shell_commands, line_buf, SHELL_DEFAULT_BUFSIZE);\n",
    "```\n",
    "\n",
    "instead of:\n",
    "```c\n",
    "shell_run(NULL, line_buf, SHELL_DEFAULT_BUFSIZE);\n",
    "```\n",
    "\n",
    "4. In the terminal, rebuild and run the application for the native board:"
   ]
  },
  {
   "cell_type": "raw",
   "metadata": {},
   "source": [
    "make -C riot/basics/shell all term"
   ]
  },
  {
   "cell_type": "markdown",
   "metadata": {},
   "source": [
    "### Submit an experiment on the IoT-LAB\n",
    "\n",
    "The application is now ready and can be tested on real hardware, on an iotlab-m3 in the IoT-LAB testbed.\n",
    "\n",
    "1. Choose your site (grenoble|lille|saclay|strasbourg):"
   ]
  },
  {
   "cell_type": "code",
   "execution_count": null,
   "metadata": {},
   "outputs": [],
   "source": [
    "%env SITE=grenoble"
   ]
  },
  {
   "cell_type": "markdown",
   "metadata": {},
   "source": [
    "2. Submit an experiment using the following command:"
   ]
  },
  {
   "cell_type": "code",
   "execution_count": null,
   "metadata": {},
   "outputs": [],
   "source": [
    "!iotlab-experiment submit -n \"riot-shell\" -d 20 -l 1,archi=m3:at86rf231+site=$SITE"
   ]
  },
  {
   "cell_type": "markdown",
   "metadata": {},
   "source": [
    "3. Wait for the experiment to be in the Running state:"
   ]
  },
  {
   "cell_type": "code",
   "execution_count": null,
   "metadata": {},
   "outputs": [],
   "source": [
    "!iotlab-experiment wait --timeout 30 --cancel-on-timeout"
   ]
  },
  {
   "cell_type": "markdown",
   "metadata": {},
   "source": [
    "**Note:** If the command above returns the message `Timeout reached, cancelling experiment <exp_id>`, try to re-submit your experiment later or try on another site."
   ]
  },
  {
   "cell_type": "markdown",
   "metadata": {},
   "source": [
    "4. Get the experiment nodes list:"
   ]
  },
  {
   "cell_type": "code",
   "execution_count": null,
   "metadata": {},
   "outputs": [],
   "source": [
    "!iotlab-experiment --jmespath=\"items[*].network_address | sort(@)\" get --nodes"
   ]
  },
  {
   "cell_type": "markdown",
   "metadata": {},
   "source": [
    "5. Build and flash the shell application for the iotlab-m3 target device:"
   ]
  },
  {
   "cell_type": "code",
   "execution_count": null,
   "metadata": {},
   "outputs": [],
   "source": [
    "!make BOARD=iotlab-m3 IOTLAB_NODE=auto flash"
   ]
  },
  {
   "cell_type": "markdown",
   "metadata": {},
   "source": [
    "6. Open a Jupyter terminal (use `File > New > Terminal`) and open the serial link."
   ]
  },
  {
   "cell_type": "raw",
   "metadata": {},
   "source": [
    "make BOARD=iotlab-m3 IOTLAB_NODE=auto -C riot/basics/shell term"
   ]
  },
  {
   "cell_type": "markdown",
   "metadata": {},
   "source": [
    "Interact with the shell to get the command output:"
   ]
  },
  {
   "cell_type": "raw",
   "metadata": {},
   "source": [
    "> board\n",
    "\n",
    "> cpu\n"
   ]
  },
  {
   "cell_type": "markdown",
   "metadata": {},
   "source": [
    "### Free up the resources\n",
    "\n",
    "Since you finished the training, stop your experiment to free up the experiment nodes:"
   ]
  },
  {
   "cell_type": "code",
   "execution_count": null,
   "metadata": {},
   "outputs": [],
   "source": [
    "!iotlab-experiment stop"
   ]
  },
  {
   "cell_type": "markdown",
   "metadata": {},
   "source": [
    "The serial link connection through SSH will be closed automatically."
   ]
  }
 ],
 "metadata": {
  "kernelspec": {
   "display_name": "Python 3 (ipykernel)",
   "language": "python",
   "name": "python3"
  },
  "language_info": {
   "codemirror_mode": {
    "name": "ipython",
    "version": 3
   },
   "file_extension": ".py",
   "mimetype": "text/x-python",
   "name": "python",
   "nbconvert_exporter": "python",
   "pygments_lexer": "ipython3",
   "version": "3.9.7"
  }
 },
 "nbformat": 4,
 "nbformat_minor": 4
}
