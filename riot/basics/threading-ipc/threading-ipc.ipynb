{
 "cells": [
  {
   "cell_type": "markdown",
   "metadata": {},
   "source": [
    "## IPC messages between threads\n",
    "\n",
    "> We recommend that you follow the [threading notebook](../threading/threading.ipynb) before following this one.\n",
    "\n",
    "In this exercise, you will discover the IPC mechanism available in RIOT to exchange messages between threads.\n",
    "\n",
    "You will write a shell command that sends a string to a thread using an IPC message. The receiver thread prints each received message. This exercise provides a starting RIOT application with the shell handler already implemented ((see [Makefile](Makefile) and [main.c](main.c)).\n",
    "\n",
    "### Implement the new thread\n",
    "\n",
    "Let's start by editing the [main.c](main.c) file and implement the listener thread.\n",
    "\n",
    "1. Add the includes for thread and ipc message APIs:\n",
    "\n",
    "```c\n",
    "#include \"thread.h\"\n",
    "#include \"msg.h\"\n",
    "```\n",
    "\n",
    "2. Declare 2 static variables: the pid of the listener thread and the memory stack that will be used by the thread:\n",
    "\n",
    "```c\n",
    "static kernel_pid_t pid;\n",
    "static char stack[THREAD_STACKSIZE_MAIN];\n",
    "```\n",
    "\n",
    "3. We can now add the listener thread function:\n",
    "\n",
    "```c\n",
    "static void *listener_thread(void *arg)\n",
    "{\n",
    "    (void)arg;\n",
    "    \n",
    "    while (1) {\n",
    "        msg_t msg;\n",
    "        msg_receive(&msg); /* Blocks until a message is received */\n",
    "        printf(\"Message received: %s\\n\", (char *)msg.content.ptr);\n",
    "    }\n",
    "\n",
    "    return NULL;\n",
    "}\n",
    "```\n",
    "\n",
    "As you can see, the thread listens endlessly for incoming IPC messages. The call to `msg_receive` is blocking until a message is received and the content of the message is a pointer to the string.\n",
    "\n",
    "4. Finally, we can create the thread in the `main` function:\n",
    "\n",
    "```c\n",
    "    pid = thread_create(stack, sizeof(stack),\n",
    "                        THREAD_PRIORITY_MAIN - 1,\n",
    "                        0,\n",
    "                        listener_thread,\n",
    "                        NULL, \"listener thread\");\n",
    "```\n",
    "\n",
    "The `thread_create` function returns the `pid` of the listener thread, we will use this variable later in the send_command function. The new thread has a higher priority than the main thread, so this ensures it's started immediately.\n",
    "\n",
    "5. Let's verify that the code is building fine and that the thread is correctly created: open a new terminal with menu `File > New > Terminal` and launch there the following command:"
   ]
  },
  {
   "cell_type": "raw",
   "metadata": {},
   "source": [
    "make -C riot/basics/threading-ipc all term"
   ]
  },
  {
   "cell_type": "markdown",
   "metadata": {},
   "source": [
    "Note that we are building for native by default.\n",
    "\n",
    "6. In the RIOT shell, you can list the available commands using `help`:"
   ]
  },
  {
   "cell_type": "raw",
   "metadata": {},
   "source": [
    "> help\n",
    "help\n",
    "Command              Description\n",
    "---------------------------------------\n",
    "send                 send a message via ipc\n",
    "reboot               Reboot the node\n",
    "ps                   Prints information about running threads."
   ]
  },
  {
   "cell_type": "markdown",
   "metadata": {},
   "source": [
    "As you can see, the `send` shell command is present but it does nothing for the moment.\n",
    "\n",
    "Now, let's check the state of the listener thread using the `ps` command:"
   ]
  },
  {
   "cell_type": "raw",
   "metadata": {},
   "source": [
    "> ps\n",
    "ps\n",
    "        pid | name                 | state    Q | pri | stack  ( used) | base addr  | current     \n",
    "          - | isr_stack            | -        - |   - |   8192 (   -1) | 0x565bc380 | 0x565bc380\n",
    "          1 | idle                 | pending  Q |  15 |   8192 (  420) | 0x565ba0a0 | 0x565bbf10 \n",
    "          2 | main                 | running  Q |   7 |  12288 ( 3136) | 0x565b70a0 | 0x565b9f10 \n",
    "          3 | listener thread      | bl rx    _ |   6 |  12288 (12284) | 0x565b40a0 | 0x565b6f10 \n",
    "            | SUM                  |            |     |  40960 (15840)"
   ]
  },
  {
   "cell_type": "markdown",
   "metadata": {},
   "source": [
    "Besides the default `idle` and `main` threads, the listener thread has the `pid` number 3 and is in `bl rx` state, which means that it's blocked, waiting for incoming IPC messages. This is what we are expecting.\n",
    "\n",
    "### Implement the shell send command\n",
    "\n",
    "Implementing the `send` command is just a matter of calling `msg_send` with a message containing the string parameter. This is simply done by adding in the `send_command` function, the following snippet:\n",
    "\n",
    "```c\n",
    "    msg_t msg;\n",
    "    msg.content.ptr = (void *)argv[1];\n",
    "    msg_send(&msg, pid);\n",
    "```\n",
    "\n",
    "### Test the application\n",
    "\n",
    "In your Jupyterlab terminal, rebuild and start the RIOT native instance:"
   ]
  },
  {
   "cell_type": "raw",
   "metadata": {},
   "source": [
    "make -C riot/basics/threading-ipc all term"
   ]
  },
  {
   "cell_type": "markdown",
   "metadata": {},
   "source": [
    "If the build is successful, you can now send messages from the shell to the listener thread:"
   ]
  },
  {
   "cell_type": "raw",
   "metadata": {},
   "source": [
    "> send \"My message\"\n",
    "send \"My message\"\n",
    "Message received: My message"
   ]
  }
 ],
 "metadata": {
  "kernelspec": {
   "display_name": "Python 3 (ipykernel)",
   "language": "python",
   "name": "python3"
  },
  "language_info": {
   "codemirror_mode": {
    "name": "ipython",
    "version": 3
   },
   "file_extension": ".py",
   "mimetype": "text/x-python",
   "name": "python",
   "nbconvert_exporter": "python",
   "pygments_lexer": "ipython3",
   "version": "3.9.7"
  }
 },
 "nbformat": 4,
 "nbformat_minor": 4
}
