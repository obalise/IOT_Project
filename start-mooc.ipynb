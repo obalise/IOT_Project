{
 "cells": [
  {
   "cell_type": "markdown",
   "metadata": {},
   "source": [
    "# Welcome to the first activity of the MOOC\n",
    "\n",
    "All the hands-on activities of this MOOC will take place in JupyterLab, a web-based interactive development environment for Jupyter notebooks. If you are unfamiliar with this environment or this is the first time you are going to use Jupyter notebooks we strongly encourage you to read this [introduction](./start.ipynb).\n",
    "\n",
    "This activity will allow you to discover the infrastructure of the IoT-LAB testbed and give you information about access, how you can interact with it. This is not a hands-on activity where you will start a testbed experiment, but rather a list of pre-requisites that will be useful for the whole Mooc suite. Be patient, you will be programming an IoT object in the next activities.\n",
    "\n",
    "## IoT-LAB testbed infrastructure\n",
    "\n",
    "The figure below gives you a schematic overview of the infrastructure.\n",
    "\n",
    "<figure>\n",
    "    <img src=\"images/design-infra-mooc.png\" alt=\"testbed infrastructure\" width=\"750\">\n",
    "    <figcaption><em>IoT-LAB testbed infrastructure</em></figcaption>\n",
    "</figure>\n",
    "\n",
    "Here is some explanation of the different elements.\n",
    "\n",
    "<ul class=\"fa-ul\">\n",
    "    <li><span class=\"fa-li\"><i class=\"fas fa-user\"></i></span>the <strong>Mooc participant</strong> who interacts with the testbed from Jupyter notebooks</li>\n",
    "<li><span class=\"fa-li\"><i class=\"fas fa-cloud\"></i></span> The central access point of testbed is its open <strong>REST API</strong>, managing user requests like experiment submission, and dispatching orders over the different sites.\n",
    "<li><span class=\"fa-li\"><i class=\"fas fa-building\"></i></span> On each <strong>site</strong>, a server accessible via SSH (known as <strong>SSH frontend</strong>) offers access to a development environment, as well as collected data, serial link access, debug interface and radio sniffing interface of boards.</li>\n",
    "<li><span class=\"fa-li\"><i class=\"fas fa-microchip\"></i></span> Each site hosts a number of boards, also called experimenation <strong>nodes</strong></li>\n",
    "</ul>\n",
    "\n"
   ]
  },
  {
   "cell_type": "markdown",
   "metadata": {},
   "source": [
    "## Your IoT-LAB access\n",
    "\n",
    "The IoT-LAB testbed will be used to run embedded code on electronic boards. No need to create an account on the testbed, everything has be done and setup for you in your JupyterLab environment.\n",
    "\n",
    "### Account Login\n",
    "\n",
    "As your IoT-LAB user login is not so easy to remember, it is stored in an environment variable, that can be used in a notebook cell or in a Terminal. Let's see it's content:"
   ]
  },
  {
   "cell_type": "code",
   "execution_count": null,
   "metadata": {},
   "outputs": [],
   "source": [
    "!echo $IOTLAB_LOGIN"
   ]
  },
  {
   "cell_type": "markdown",
   "metadata": {},
   "source": [
    "### Connection to SSH frontend\n",
    "\n",
    "Some commands or tools need to be run from the SSH frontends. To connect to it, an SSH key pair has been generated for you and associated to your account.\n",
    "\n",
    "Let's verify the setup.\n",
    "\n",
    "1. Open a new JupyterLab Terminal (use `File > New > Terminal`)\n",
    "2. Connect to the Lyon's server site running the following command in the JupyterLab Terminal:"
   ]
  },
  {
   "cell_type": "raw",
   "metadata": {},
   "source": [
    "ssh $IOTLAB_LOGIN@lyon.iot-lab.info"
   ]
  },
  {
   "cell_type": "markdown",
   "metadata": {},
   "source": [
    "3. Then, execute the `ls` command which displays files and directories of your home directory on the SSH frontend:"
   ]
  },
  {
   "cell_type": "raw",
   "metadata": {},
   "source": [
    "<login>@lyon:~$ ls"
   ]
  },
  {
   "cell_type": "markdown",
   "metadata": {},
   "source": [
    "### CLI Tools\n",
    "IoT-LAB CLI command-line tools, used in Jupyter notebooks, request REST API to interact with your experiments on the testbed. All requests require your IoT-LAB credentials. To avoid having to specify them each time, it could be recorded. Of course, we have already did it for you.\n",
    "\n",
    "Verify the setup by executing the following cell, which prints status of the resources on the Lyon site:"
   ]
  },
  {
   "cell_type": "code",
   "execution_count": null,
   "metadata": {},
   "outputs": [],
   "source": [
    "!iotlab-status --nodes-ids --site lyon"
   ]
  },
  {
   "cell_type": "markdown",
   "metadata": {},
   "source": [
    "## Experiment resources availability\n",
    "\n",
    "The previous command gives you the availability of resources for a site, sorted by architecture (ie. board type). In the MOOC activities, you will only use the IoT-LAB M3 board (aka 'm3:at86rf231'). Free resources are the one with the state 'Alive'. They are listed by ids, '-' specifying a range, and '+' a concatenation. The entry \"1-6+8-11\" corresponds with the list of nodes: 1, 2, 3, 4, 5, 6, 8, 9, 10 and 11.\n",
    "\n",
    "You are a large number of users to have registered for the Mooc, who will use the testbed and share it with its regular users. \n",
    "Thus, to best share its resources, and according to the needs of activities, we set some rules applied to users of the MOOC:\n",
    "\n",
    "* only one experiment at a time\n",
    "* a maximum of three nodes per experiment\n",
    "* a maximum duration of 2 hours per experiment\n",
    "\n",
    "We have a limited number of experiment resources available, which corresponds to more than 300 simultaneous experiments. So, despite these rules, it could happen that no more resources are available on a site and your experiment is scheduled later.\n",
    "\n",
    "That's why we use options with the `wait` subcommand:\n",
    "\n",
    "```bash\n",
    "iotlab-experiment wait --timeout 30 --cancel-on-timeout\n",
    "```\n",
    "\n",
    "`--timeout` specifies a maximum waiting duration (in seconds)  \n",
    "`--cancel-on-timeout` cancels the experiment if the timeout is reached\n",
    "\n",
    "Then, if the `Timeout reached, cancelling experiment <exp_id>` message appears, you should choose another site for the `SITE` environment variable:\n",
    "\n",
    "```bash\n",
    "%env SITE=lille\n",
    "```\n",
    "\n",
    "and re-submit the experiment.\n",
    "\n",
    "At the end of each notebook, you'll find a last command that permits to stop your experiment::\n",
    "\n",
    "```bash\n",
    "!iotlab-experiment stop\n",
    "```\n",
    "\n",
    "Don't forget to run it to free the resources used and make them available for others."
   ]
  },
  {
   "cell_type": "markdown",
   "metadata": {},
   "source": [
    "## Restoring an exercise\n",
    "\n",
    "It is possible to restore an exercise completely in its original state.\n",
    "\n",
    "To restore an exercise, just **add a code cell** in the corresponding exercise notebook with the following command:"
   ]
  },
  {
   "cell_type": "raw",
   "metadata": {},
   "source": [
    "!git checkout ."
   ]
  },
  {
   "cell_type": "markdown",
   "metadata": {},
   "source": [
    "Then close and reopen all tabs corresponding to the exercise.\n",
    "\n",
    "**Warning:** all your previous work on the exercise - code changes, notebook output - will be lost with this command. Be careful!"
   ]
  },
  {
   "cell_type": "markdown",
   "metadata": {},
   "source": [
    "\n",
    "---\n",
    "\n",
    "# Ready!\n",
    "If everything is fine, you have all the tooling needed for the following hands-on activities.  \n",
    "You reached the end of this first activity, the next one will be in Module 2."
   ]
  }
 ],
 "metadata": {
  "kernelspec": {
   "display_name": "Python 3",
   "language": "python",
   "name": "python3"
  },
  "language_info": {
   "codemirror_mode": {
    "name": "ipython",
    "version": 3
   },
   "file_extension": ".py",
   "mimetype": "text/x-python",
   "name": "python",
   "nbconvert_exporter": "python",
   "pygments_lexer": "ipython3",
   "version": "3.8.6"
  }
 },
 "nbformat": 4,
 "nbformat_minor": 4
}
