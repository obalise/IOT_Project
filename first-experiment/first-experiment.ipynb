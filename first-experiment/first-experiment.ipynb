{
 "cells": [
  {
   "cell_type": "markdown",
   "metadata": {},
   "source": [
    "## Flash a prebuilt firmware on IoT-LAB\n",
    "\n",
    "\n",
    "It's time to start working with the IoT-LAB testbed! In this hands-on activity you will launch your first experiment with CLI-tools. For this you will book a node and flash on it a binary firmware provided by us. You will discover how you can directly interact with the node during the experiment with its serial port which is forwarded by a TCP socket on the SSH frontend. In this way you can access the firmware shell and run commands such as reading temperature sensor values. For all the next activities you will repeat these steps of submitting experiment and booking nodes and it's important to understand them well. Of course you will also learn later on how to write your own firmware with an embedded OS and flash it on the nodes.\n",
    "\n",
    "<figure>\n",
    "    <img src=\"images/serial-link.png\" alt=\"serial-link\" width=\"500\">\n",
    "    <figcaption><em>Node serial-link access</em></figcaption>\n",
    "</figure>\n",
    "\n",
    "### Submit an experiment on the IoT-LAB\n",
    "\n",
    "1. Choose your site (grenoble|lille|strasbourg):"
   ]
  },
  {
   "cell_type": "code",
   "execution_count": null,
   "metadata": {},
   "outputs": [],
   "source": [
    "%env SITE=grenoble"
   ]
  },
  {
   "cell_type": "markdown",
   "metadata": {},
   "source": [
    "2. Submit an experiment using the following command:"
   ]
  },
  {
   "cell_type": "code",
   "execution_count": null,
   "metadata": {},
   "outputs": [],
   "source": [
    "!iotlab-experiment submit -n \"flash\" -d 20 -l 1,archi=m3:at86rf231+site=$SITE,tutorial_m3.elf"
   ]
  },
  {
   "cell_type": "markdown",
   "metadata": {},
   "source": [
    "if the experiment submission success you must get a testbed answer with the experiment unique id.\n",
    "\n",
    "The `-l` option is used to specify resources needed and firmware association. Here you specified resources by their characteristics (number, type of node (_archi_) and site) but it is  also possible to specify resources by their IDs. Read the command help to have an overview of options, syntax and some examples."
   ]
  },
  {
   "cell_type": "code",
   "execution_count": null,
   "metadata": {},
   "outputs": [],
   "source": [
    "!iotlab-experiment submit -h"
   ]
  },
  {
   "cell_type": "markdown",
   "metadata": {},
   "source": [
    "3. Wait for the experiment to be in the Running state:"
   ]
  },
  {
   "cell_type": "code",
   "execution_count": null,
   "metadata": {},
   "outputs": [],
   "source": [
    "!iotlab-experiment wait --timeout 30 --cancel-on-timeout"
   ]
  },
  {
   "cell_type": "markdown",
   "metadata": {},
   "source": [
    "**Note:** If the command above returns the message `Timeout reached, cancelling experiment <exp_id>`, try to re-submit your experiment later or try on another site."
   ]
  },
  {
   "cell_type": "markdown",
   "metadata": {},
   "source": [
    "4. Get the experiment nodes list:"
   ]
  },
  {
   "cell_type": "code",
   "execution_count": null,
   "metadata": {},
   "outputs": [],
   "source": [
    "!iotlab-experiment --jmespath=\"items[*].network_address | sort(@)\" get --nodes"
   ]
  },
  {
   "cell_type": "markdown",
   "metadata": {},
   "source": [
    "**Be careful**, you must note the id of the booked node because it will be useful when you read its serial port. Each node is listed using its network address, which is of the form `m3-<id>.<site>.iot-lab.info`. You have to remember the `m3-<id>` string for the netcat command on the SSH frontend. \n",
    "\n",
    "\n",
    "### Open a serial console and read the output of the firmware\n",
    "\n",
    "The serial port of each device used in an experiment is reachable via a TCP socket exposed on the site server.\n",
    "\n",
    "1. Open a JupyterLab Terminal (File > New > Terminal) and connect to the SSH frontend server. Replace `<site>` with the right value."
   ]
  },
  {
   "cell_type": "raw",
   "metadata": {},
   "source": [
    "ssh $IOTLAB_LOGIN@<site>.iot-lab.info"
   ]
  },
  {
   "cell_type": "markdown",
   "metadata": {},
   "source": [
    "2. From there, use the `nc` (or 'netcat') utility to connect to this socket (host is node's network address, port is 20000):"
   ]
  },
  {
   "cell_type": "raw",
   "metadata": {},
   "source": [
    "<login>@<site>:~$ nc m3-<id> 20000"
   ]
  },
  {
   "cell_type": "markdown",
   "metadata": {},
   "source": [
    "3. Type 'h' and Enter to display the help. Then, type another command to test the firmware features."
   ]
  },
  {
   "cell_type": "markdown",
   "metadata": {},
   "source": [
    "### Free up the resources\n",
    "\n",
    "Since you finished the training, stop your experiment to free up the experiment nodes:"
   ]
  },
  {
   "cell_type": "code",
   "execution_count": null,
   "metadata": {},
   "outputs": [],
   "source": [
    "!iotlab-experiment stop"
   ]
  },
  {
   "cell_type": "markdown",
   "metadata": {},
   "source": [
    "The serial link connection through SSH will be closed automatically."
   ]
  }
 ],
 "metadata": {
  "kernelspec": {
   "display_name": "Python 3 (ipykernel)",
   "language": "python",
   "name": "python3"
  },
  "language_info": {
   "codemirror_mode": {
    "name": "ipython",
    "version": 3
   },
   "file_extension": ".py",
   "mimetype": "text/x-python",
   "name": "python",
   "nbconvert_exporter": "python",
   "pygments_lexer": "ipython3",
   "version": "3.9.7"
  }
 },
 "nbformat": 4,
 "nbformat_minor": 4
}
