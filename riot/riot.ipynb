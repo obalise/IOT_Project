{
 "cells": [
  {
   "cell_type": "markdown",
   "metadata": {},
   "source": [
    "## RIOT tutorials\n",
    "\n",
    "[RIOT](https://riot-os.org) is an open-source operating system for microcontrollers.\n",
    "\n",
    "### Basics\n",
    "\n",
    "#### [1. First application](basics/hello-world/hello-world.ipynb)\n",
    "\n",
    "#### [2. Using the shell](basics/shell/shell.ipynb)\n",
    "\n",
    "#### [3. Threading](basics/threading/threading.ipynb)\n",
    "\n",
    "#### [4. Timers](basics/timers/timers.ipynb)\n",
    "\n",
    "#### [5. Sensors](basics/sensors/sensors.ipynb)\n",
    "\n",
    "### Networking\n",
    "\n",
    "In this section, you will learn the basics of lower power mesh networks, especially 802.15.4, and how to program a firmware and use this technology on the devices provided by the testbed.\n",
    "\n",
    "etc\n",
    "\n",
    "### Security\n",
    "\n",
    "- Cryptography\n",
    "- DTLS\n",
    "- OTA"
   ]
  }
 ],
 "metadata": {
  "kernelspec": {
   "display_name": "Python 3",
   "language": "python",
   "name": "python3"
  },
  "language_info": {
   "codemirror_mode": {
    "name": "ipython",
    "version": 3
   },
   "file_extension": ".py",
   "mimetype": "text/x-python",
   "name": "python",
   "nbconvert_exporter": "python",
   "pygments_lexer": "ipython3",
   "version": "3.6.8"
  }
 },
 "nbformat": 4,
 "nbformat_minor": 4
}
